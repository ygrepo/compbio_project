{
 "cells": [
  {
   "cell_type": "markdown",
   "metadata": {},
   "source": [
    "# ScRNA-seq H5AD"
   ]
  },
  {
   "cell_type": "code",
   "execution_count": 5,
   "metadata": {
    "tags": []
   },
   "outputs": [],
   "source": [
    "import scanpy as sc\n",
    "import pandas as pd\n",
    "import h5py"
   ]
  },
  {
   "cell_type": "code",
   "execution_count": 11,
   "metadata": {
    "tags": []
   },
   "outputs": [
    {
     "ename": "AttributeError",
     "evalue": "'Group' object has no attribute 'read'",
     "output_type": "error",
     "traceback": [
      "\u001b[0;31m---------------------------------------------------------------------------\u001b[0m",
      "\u001b[0;31mAttributeError\u001b[0m                            Traceback (most recent call last)",
      "Cell \u001b[0;32mIn[11], line 10\u001b[0m\n\u001b[1;32m      7\u001b[0m dataset \u001b[38;5;241m=\u001b[39m f[datasets[\u001b[38;5;241m0\u001b[39m]]\n\u001b[1;32m      9\u001b[0m \u001b[38;5;66;03m# Get the data from the dataset.\u001b[39;00m\n\u001b[0;32m---> 10\u001b[0m data \u001b[38;5;241m=\u001b[39m \u001b[43mdataset\u001b[49m\u001b[38;5;241;43m.\u001b[39;49m\u001b[43mread\u001b[49m()\n",
      "\u001b[0;31mAttributeError\u001b[0m: 'Group' object has no attribute 'read'"
     ]
    }
   ],
   "source": [
    "path= '../data/brca/GSE164898/GSM5022599_D1_filtered_feature_bc_matrix.h5'\n",
    "\n",
    "with h5py.File(path, 'r') as f:\n",
    "      # Get a list of all the datasets in the file.\n",
    "  datasets = list(f.keys())\n",
    "  # Read one of the datasets.\n",
    "  dataset = f[datasets[0]]\n",
    "\n",
    "  # Get the data from the dataset.\n",
    "  data = dataset.read()"
   ]
  },
  {
   "cell_type": "code",
   "execution_count": 10,
   "metadata": {
    "tags": []
   },
   "outputs": [
    {
     "data": {
      "text/plain": [
       "<Closed HDF5 group>"
      ]
     },
     "execution_count": 10,
     "metadata": {},
     "output_type": "execute_result"
    }
   ],
   "source": [
    "dataset.rea"
   ]
  },
  {
   "cell_type": "code",
   "execution_count": 7,
   "metadata": {
    "tags": []
   },
   "outputs": [],
   "source": [
    "adata = adata[adata.obs['tissue'] == 'breast']"
   ]
  },
  {
   "cell_type": "code",
   "execution_count": 8,
   "metadata": {
    "tags": []
   },
   "outputs": [
    {
     "data": {
      "text/plain": [
       "n_genes                                                            3828\n",
       "fpr                                                                 0.1\n",
       "tissue                                                           breast\n",
       "prep                                                                CST\n",
       "individual                                                           01\n",
       "nGenes                                                             4265\n",
       "nUMIs                                                            9101.0\n",
       "PercentMito                                                    0.002857\n",
       "PercentRibo                                                    0.004395\n",
       "Age_bin                                                           41-50\n",
       "Sex                                                              Female\n",
       "Sample ID                                      GTEX-1R9PN-5002-SM-HD2MC\n",
       "Participant ID                                               GTEX-1R9PN\n",
       "Sample ID short                                         GTEX-1R9PN-5002\n",
       "RIN score from PAXgene tissue Aliquot                               7.0\n",
       "RIN score from Frozen tissue Aliquot                                5.7\n",
       "Autolysis Score                                                    Mild\n",
       "Sample Ischemic Time (mins)                                         387\n",
       "Tissue Site Detail                              Breast - Mammary Tissue\n",
       "scrublet                                                           True\n",
       "scrublet_score                                                 0.236364\n",
       "barcode                                                ACCGTAAGTGAGGGTT\n",
       "batch                                                                 0\n",
       "n_counts                                                         8248.0\n",
       "tissue-individual-prep                                    breast_01_CST\n",
       "Broad cell type                               Epithelial cell (luminal)\n",
       "Granular cell type                         Epithelial cell (luminal II)\n",
       "introns                                                         12191.0\n",
       "junctions                                                         175.0\n",
       "exons                                                            1424.0\n",
       "sense                                                            9390.0\n",
       "antisense                                                        4400.0\n",
       "intergenic                                                     200349.0\n",
       "batch-barcode                            breast_01_CST-ACCGTAAGTGAGGGTT\n",
       "exon_ratio                                                     0.103263\n",
       "intron_ratio                                                   0.884046\n",
       "junction_ratio                                                  0.01269\n",
       "log10_nUMIs                                                    3.959089\n",
       "leiden                                                                8\n",
       "leiden_tissue                                                         2\n",
       "Tissue composition                                           Epithelial\n",
       "Cell types level 2                                      Epithelial cell\n",
       "Cell types level 3                                           Epithelial\n",
       "Broad cell type numbers                                              12\n",
       "Broad cell type (numbers)                 12. Epithelial cell (luminal)\n",
       "Tissue                                                           Breast\n",
       "channel                                           breast_CST_GTEX-1R9PN\n",
       "Name: CST01_ACCGTAAGTGAGGGTT-breast, dtype: object"
      ]
     },
     "execution_count": 8,
     "metadata": {},
     "output_type": "execute_result"
    }
   ],
   "source": [
    "adata.obs.head(1).iloc[0,:]"
   ]
  },
  {
   "cell_type": "code",
   "execution_count": 9,
   "metadata": {
    "tags": []
   },
   "outputs": [
    {
     "data": {
      "text/plain": [
       "Index(['Adipocyte', 'Endothelial cell (lymphatic)',\n",
       "       'Endothelial cell (vascular)', 'Epithelial cell (luminal)',\n",
       "       'Fibroblast', 'Immune (DC/macrophage)', 'Myoepithelial (basal)',\n",
       "       'Pericyte/SMC'],\n",
       "      dtype='object')"
      ]
     },
     "execution_count": 9,
     "metadata": {},
     "output_type": "execute_result"
    }
   ],
   "source": [
    "adata.obs['Broad cell type'].cat.categories"
   ]
  },
  {
   "cell_type": "code",
   "execution_count": 10,
   "metadata": {
    "tags": []
   },
   "outputs": [
    {
     "data": {
      "text/plain": [
       "Index(['Adipocyte', 'Endothelial cell', 'Epithelial cell', 'Fibroblast',\n",
       "       'Immune (myeloid)', 'Muscle'],\n",
       "      dtype='object')"
      ]
     },
     "execution_count": 10,
     "metadata": {},
     "output_type": "execute_result"
    }
   ],
   "source": [
    "adata.obs['Cell types level 2'].cat.categories"
   ]
  },
  {
   "cell_type": "code",
   "execution_count": 11,
   "metadata": {
    "tags": []
   },
   "outputs": [
    {
     "data": {
      "text/plain": [
       "Index(['Epithelial', 'Immune', 'Stromal'], dtype='object')"
      ]
     },
     "execution_count": 11,
     "metadata": {},
     "output_type": "execute_result"
    }
   ],
   "source": [
    "adata.obs['Cell types level 3'].cat.categories"
   ]
  },
  {
   "cell_type": "code",
   "execution_count": 12,
   "metadata": {
    "tags": []
   },
   "outputs": [
    {
     "data": {
      "text/html": [
       "<div>\n",
       "<style scoped>\n",
       "    .dataframe tbody tr th:only-of-type {\n",
       "        vertical-align: middle;\n",
       "    }\n",
       "\n",
       "    .dataframe tbody tr th {\n",
       "        vertical-align: top;\n",
       "    }\n",
       "\n",
       "    .dataframe thead th {\n",
       "        text-align: right;\n",
       "    }\n",
       "</style>\n",
       "<table border=\"1\" class=\"dataframe\">\n",
       "  <thead>\n",
       "    <tr style=\"text-align: right;\">\n",
       "      <th></th>\n",
       "      <th>FO538757.2</th>\n",
       "      <th>SAMD11</th>\n",
       "      <th>NOC2L</th>\n",
       "      <th>KLHL17</th>\n",
       "      <th>PLEKHN1</th>\n",
       "      <th>PERM1</th>\n",
       "      <th>HES4</th>\n",
       "      <th>ISG15</th>\n",
       "      <th>AGRN</th>\n",
       "      <th>RNF223</th>\n",
       "      <th>...</th>\n",
       "      <th>FTCD</th>\n",
       "      <th>SPATC1L</th>\n",
       "      <th>LSS</th>\n",
       "      <th>MCM3AP</th>\n",
       "      <th>YBEY</th>\n",
       "      <th>C21orf58</th>\n",
       "      <th>PCNT</th>\n",
       "      <th>DIP2A</th>\n",
       "      <th>S100B</th>\n",
       "      <th>PRMT2</th>\n",
       "    </tr>\n",
       "  </thead>\n",
       "  <tbody>\n",
       "    <tr>\n",
       "      <th>CST01_ACCGTAAGTGAGGGTT-breast</th>\n",
       "      <td>1.0</td>\n",
       "      <td>0.0</td>\n",
       "      <td>0.0</td>\n",
       "      <td>1.0</td>\n",
       "      <td>0.0</td>\n",
       "      <td>0.0</td>\n",
       "      <td>4.0</td>\n",
       "      <td>0.0</td>\n",
       "      <td>3.0</td>\n",
       "      <td>0.0</td>\n",
       "      <td>...</td>\n",
       "      <td>0.0</td>\n",
       "      <td>1.0</td>\n",
       "      <td>1.0</td>\n",
       "      <td>0.0</td>\n",
       "      <td>0.0</td>\n",
       "      <td>0.0</td>\n",
       "      <td>1.0</td>\n",
       "      <td>1.0</td>\n",
       "      <td>0.0</td>\n",
       "      <td>0.0</td>\n",
       "    </tr>\n",
       "    <tr>\n",
       "      <th>CST01_TAAACCGTCGTTTATC-breast</th>\n",
       "      <td>2.0</td>\n",
       "      <td>0.0</td>\n",
       "      <td>0.0</td>\n",
       "      <td>0.0</td>\n",
       "      <td>0.0</td>\n",
       "      <td>0.0</td>\n",
       "      <td>1.0</td>\n",
       "      <td>0.0</td>\n",
       "      <td>0.0</td>\n",
       "      <td>0.0</td>\n",
       "      <td>...</td>\n",
       "      <td>0.0</td>\n",
       "      <td>0.0</td>\n",
       "      <td>0.0</td>\n",
       "      <td>0.0</td>\n",
       "      <td>0.0</td>\n",
       "      <td>0.0</td>\n",
       "      <td>0.0</td>\n",
       "      <td>1.0</td>\n",
       "      <td>0.0</td>\n",
       "      <td>0.0</td>\n",
       "    </tr>\n",
       "    <tr>\n",
       "      <th>CST01_CGGGTCAAGCCCAGCT-breast</th>\n",
       "      <td>0.0</td>\n",
       "      <td>0.0</td>\n",
       "      <td>0.0</td>\n",
       "      <td>0.0</td>\n",
       "      <td>0.0</td>\n",
       "      <td>0.0</td>\n",
       "      <td>0.0</td>\n",
       "      <td>0.0</td>\n",
       "      <td>0.0</td>\n",
       "      <td>0.0</td>\n",
       "      <td>...</td>\n",
       "      <td>0.0</td>\n",
       "      <td>0.0</td>\n",
       "      <td>0.0</td>\n",
       "      <td>1.0</td>\n",
       "      <td>0.0</td>\n",
       "      <td>0.0</td>\n",
       "      <td>0.0</td>\n",
       "      <td>1.0</td>\n",
       "      <td>0.0</td>\n",
       "      <td>0.0</td>\n",
       "    </tr>\n",
       "    <tr>\n",
       "      <th>CST01_CTCGAAACATAACCTG-breast</th>\n",
       "      <td>2.0</td>\n",
       "      <td>0.0</td>\n",
       "      <td>0.0</td>\n",
       "      <td>0.0</td>\n",
       "      <td>0.0</td>\n",
       "      <td>0.0</td>\n",
       "      <td>0.0</td>\n",
       "      <td>0.0</td>\n",
       "      <td>0.0</td>\n",
       "      <td>0.0</td>\n",
       "      <td>...</td>\n",
       "      <td>0.0</td>\n",
       "      <td>0.0</td>\n",
       "      <td>1.0</td>\n",
       "      <td>0.0</td>\n",
       "      <td>0.0</td>\n",
       "      <td>0.0</td>\n",
       "      <td>1.0</td>\n",
       "      <td>0.0</td>\n",
       "      <td>0.0</td>\n",
       "      <td>2.0</td>\n",
       "    </tr>\n",
       "    <tr>\n",
       "      <th>CST01_CCTTACGGTCCCTTGT-breast</th>\n",
       "      <td>1.0</td>\n",
       "      <td>0.0</td>\n",
       "      <td>2.0</td>\n",
       "      <td>0.0</td>\n",
       "      <td>0.0</td>\n",
       "      <td>0.0</td>\n",
       "      <td>0.0</td>\n",
       "      <td>0.0</td>\n",
       "      <td>0.0</td>\n",
       "      <td>0.0</td>\n",
       "      <td>...</td>\n",
       "      <td>0.0</td>\n",
       "      <td>0.0</td>\n",
       "      <td>0.0</td>\n",
       "      <td>0.0</td>\n",
       "      <td>0.0</td>\n",
       "      <td>0.0</td>\n",
       "      <td>0.0</td>\n",
       "      <td>0.0</td>\n",
       "      <td>0.0</td>\n",
       "      <td>1.0</td>\n",
       "    </tr>\n",
       "    <tr>\n",
       "      <th>...</th>\n",
       "      <td>...</td>\n",
       "      <td>...</td>\n",
       "      <td>...</td>\n",
       "      <td>...</td>\n",
       "      <td>...</td>\n",
       "      <td>...</td>\n",
       "      <td>...</td>\n",
       "      <td>...</td>\n",
       "      <td>...</td>\n",
       "      <td>...</td>\n",
       "      <td>...</td>\n",
       "      <td>...</td>\n",
       "      <td>...</td>\n",
       "      <td>...</td>\n",
       "      <td>...</td>\n",
       "      <td>...</td>\n",
       "      <td>...</td>\n",
       "      <td>...</td>\n",
       "      <td>...</td>\n",
       "      <td>...</td>\n",
       "      <td>...</td>\n",
       "    </tr>\n",
       "    <tr>\n",
       "      <th>TST03_GACTAACAGCATCATC-breast</th>\n",
       "      <td>0.0</td>\n",
       "      <td>0.0</td>\n",
       "      <td>0.0</td>\n",
       "      <td>0.0</td>\n",
       "      <td>0.0</td>\n",
       "      <td>0.0</td>\n",
       "      <td>0.0</td>\n",
       "      <td>0.0</td>\n",
       "      <td>0.0</td>\n",
       "      <td>0.0</td>\n",
       "      <td>...</td>\n",
       "      <td>0.0</td>\n",
       "      <td>0.0</td>\n",
       "      <td>0.0</td>\n",
       "      <td>0.0</td>\n",
       "      <td>0.0</td>\n",
       "      <td>0.0</td>\n",
       "      <td>0.0</td>\n",
       "      <td>0.0</td>\n",
       "      <td>0.0</td>\n",
       "      <td>0.0</td>\n",
       "    </tr>\n",
       "    <tr>\n",
       "      <th>TST03_GATGAAATCCCAGGTG-breast</th>\n",
       "      <td>1.0</td>\n",
       "      <td>0.0</td>\n",
       "      <td>0.0</td>\n",
       "      <td>0.0</td>\n",
       "      <td>0.0</td>\n",
       "      <td>0.0</td>\n",
       "      <td>0.0</td>\n",
       "      <td>0.0</td>\n",
       "      <td>0.0</td>\n",
       "      <td>0.0</td>\n",
       "      <td>...</td>\n",
       "      <td>0.0</td>\n",
       "      <td>0.0</td>\n",
       "      <td>0.0</td>\n",
       "      <td>0.0</td>\n",
       "      <td>0.0</td>\n",
       "      <td>0.0</td>\n",
       "      <td>0.0</td>\n",
       "      <td>0.0</td>\n",
       "      <td>0.0</td>\n",
       "      <td>0.0</td>\n",
       "    </tr>\n",
       "    <tr>\n",
       "      <th>TST03_CAAGAAACAGCTCCGA-breast</th>\n",
       "      <td>0.0</td>\n",
       "      <td>0.0</td>\n",
       "      <td>0.0</td>\n",
       "      <td>0.0</td>\n",
       "      <td>0.0</td>\n",
       "      <td>0.0</td>\n",
       "      <td>0.0</td>\n",
       "      <td>0.0</td>\n",
       "      <td>0.0</td>\n",
       "      <td>0.0</td>\n",
       "      <td>...</td>\n",
       "      <td>0.0</td>\n",
       "      <td>0.0</td>\n",
       "      <td>0.0</td>\n",
       "      <td>0.0</td>\n",
       "      <td>0.0</td>\n",
       "      <td>0.0</td>\n",
       "      <td>0.0</td>\n",
       "      <td>0.0</td>\n",
       "      <td>0.0</td>\n",
       "      <td>0.0</td>\n",
       "    </tr>\n",
       "    <tr>\n",
       "      <th>TST03_GTAGGCCCACTGTTAG-breast</th>\n",
       "      <td>0.0</td>\n",
       "      <td>0.0</td>\n",
       "      <td>0.0</td>\n",
       "      <td>0.0</td>\n",
       "      <td>0.0</td>\n",
       "      <td>0.0</td>\n",
       "      <td>0.0</td>\n",
       "      <td>0.0</td>\n",
       "      <td>0.0</td>\n",
       "      <td>0.0</td>\n",
       "      <td>...</td>\n",
       "      <td>0.0</td>\n",
       "      <td>0.0</td>\n",
       "      <td>0.0</td>\n",
       "      <td>0.0</td>\n",
       "      <td>0.0</td>\n",
       "      <td>0.0</td>\n",
       "      <td>0.0</td>\n",
       "      <td>0.0</td>\n",
       "      <td>0.0</td>\n",
       "      <td>0.0</td>\n",
       "    </tr>\n",
       "    <tr>\n",
       "      <th>TST03_GAAGCAGGTCTAACGT-breast</th>\n",
       "      <td>0.0</td>\n",
       "      <td>0.0</td>\n",
       "      <td>0.0</td>\n",
       "      <td>0.0</td>\n",
       "      <td>0.0</td>\n",
       "      <td>0.0</td>\n",
       "      <td>0.0</td>\n",
       "      <td>0.0</td>\n",
       "      <td>0.0</td>\n",
       "      <td>0.0</td>\n",
       "      <td>...</td>\n",
       "      <td>0.0</td>\n",
       "      <td>0.0</td>\n",
       "      <td>0.0</td>\n",
       "      <td>0.0</td>\n",
       "      <td>0.0</td>\n",
       "      <td>0.0</td>\n",
       "      <td>0.0</td>\n",
       "      <td>0.0</td>\n",
       "      <td>0.0</td>\n",
       "      <td>0.0</td>\n",
       "    </tr>\n",
       "  </tbody>\n",
       "</table>\n",
       "<p>9770 rows × 17695 columns</p>\n",
       "</div>"
      ],
      "text/plain": [
       "                               FO538757.2  SAMD11  NOC2L  KLHL17  PLEKHN1  \\\n",
       "CST01_ACCGTAAGTGAGGGTT-breast         1.0     0.0    0.0     1.0      0.0   \n",
       "CST01_TAAACCGTCGTTTATC-breast         2.0     0.0    0.0     0.0      0.0   \n",
       "CST01_CGGGTCAAGCCCAGCT-breast         0.0     0.0    0.0     0.0      0.0   \n",
       "CST01_CTCGAAACATAACCTG-breast         2.0     0.0    0.0     0.0      0.0   \n",
       "CST01_CCTTACGGTCCCTTGT-breast         1.0     0.0    2.0     0.0      0.0   \n",
       "...                                   ...     ...    ...     ...      ...   \n",
       "TST03_GACTAACAGCATCATC-breast         0.0     0.0    0.0     0.0      0.0   \n",
       "TST03_GATGAAATCCCAGGTG-breast         1.0     0.0    0.0     0.0      0.0   \n",
       "TST03_CAAGAAACAGCTCCGA-breast         0.0     0.0    0.0     0.0      0.0   \n",
       "TST03_GTAGGCCCACTGTTAG-breast         0.0     0.0    0.0     0.0      0.0   \n",
       "TST03_GAAGCAGGTCTAACGT-breast         0.0     0.0    0.0     0.0      0.0   \n",
       "\n",
       "                               PERM1  HES4  ISG15  AGRN  RNF223  ...  FTCD  \\\n",
       "CST01_ACCGTAAGTGAGGGTT-breast    0.0   4.0    0.0   3.0     0.0  ...   0.0   \n",
       "CST01_TAAACCGTCGTTTATC-breast    0.0   1.0    0.0   0.0     0.0  ...   0.0   \n",
       "CST01_CGGGTCAAGCCCAGCT-breast    0.0   0.0    0.0   0.0     0.0  ...   0.0   \n",
       "CST01_CTCGAAACATAACCTG-breast    0.0   0.0    0.0   0.0     0.0  ...   0.0   \n",
       "CST01_CCTTACGGTCCCTTGT-breast    0.0   0.0    0.0   0.0     0.0  ...   0.0   \n",
       "...                              ...   ...    ...   ...     ...  ...   ...   \n",
       "TST03_GACTAACAGCATCATC-breast    0.0   0.0    0.0   0.0     0.0  ...   0.0   \n",
       "TST03_GATGAAATCCCAGGTG-breast    0.0   0.0    0.0   0.0     0.0  ...   0.0   \n",
       "TST03_CAAGAAACAGCTCCGA-breast    0.0   0.0    0.0   0.0     0.0  ...   0.0   \n",
       "TST03_GTAGGCCCACTGTTAG-breast    0.0   0.0    0.0   0.0     0.0  ...   0.0   \n",
       "TST03_GAAGCAGGTCTAACGT-breast    0.0   0.0    0.0   0.0     0.0  ...   0.0   \n",
       "\n",
       "                               SPATC1L  LSS  MCM3AP  YBEY  C21orf58  PCNT  \\\n",
       "CST01_ACCGTAAGTGAGGGTT-breast      1.0  1.0     0.0   0.0       0.0   1.0   \n",
       "CST01_TAAACCGTCGTTTATC-breast      0.0  0.0     0.0   0.0       0.0   0.0   \n",
       "CST01_CGGGTCAAGCCCAGCT-breast      0.0  0.0     1.0   0.0       0.0   0.0   \n",
       "CST01_CTCGAAACATAACCTG-breast      0.0  1.0     0.0   0.0       0.0   1.0   \n",
       "CST01_CCTTACGGTCCCTTGT-breast      0.0  0.0     0.0   0.0       0.0   0.0   \n",
       "...                                ...  ...     ...   ...       ...   ...   \n",
       "TST03_GACTAACAGCATCATC-breast      0.0  0.0     0.0   0.0       0.0   0.0   \n",
       "TST03_GATGAAATCCCAGGTG-breast      0.0  0.0     0.0   0.0       0.0   0.0   \n",
       "TST03_CAAGAAACAGCTCCGA-breast      0.0  0.0     0.0   0.0       0.0   0.0   \n",
       "TST03_GTAGGCCCACTGTTAG-breast      0.0  0.0     0.0   0.0       0.0   0.0   \n",
       "TST03_GAAGCAGGTCTAACGT-breast      0.0  0.0     0.0   0.0       0.0   0.0   \n",
       "\n",
       "                               DIP2A  S100B  PRMT2  \n",
       "CST01_ACCGTAAGTGAGGGTT-breast    1.0    0.0    0.0  \n",
       "CST01_TAAACCGTCGTTTATC-breast    1.0    0.0    0.0  \n",
       "CST01_CGGGTCAAGCCCAGCT-breast    1.0    0.0    0.0  \n",
       "CST01_CTCGAAACATAACCTG-breast    0.0    0.0    2.0  \n",
       "CST01_CCTTACGGTCCCTTGT-breast    0.0    0.0    1.0  \n",
       "...                              ...    ...    ...  \n",
       "TST03_GACTAACAGCATCATC-breast    0.0    0.0    0.0  \n",
       "TST03_GATGAAATCCCAGGTG-breast    0.0    0.0    0.0  \n",
       "TST03_CAAGAAACAGCTCCGA-breast    0.0    0.0    0.0  \n",
       "TST03_GTAGGCCCACTGTTAG-breast    0.0    0.0    0.0  \n",
       "TST03_GAAGCAGGTCTAACGT-breast    0.0    0.0    0.0  \n",
       "\n",
       "[9770 rows x 17695 columns]"
      ]
     },
     "execution_count": 12,
     "metadata": {},
     "output_type": "execute_result"
    }
   ],
   "source": [
    "adata.to_df(layer=\"counts\")"
   ]
  },
  {
   "cell_type": "code",
   "execution_count": 15,
   "metadata": {
    "tags": []
   },
   "outputs": [],
   "source": [
    "path= '../data/brca/icgc/GTEx_8_tissues_snRNAseq_immune_atlas_071421.public_obs.h5ad'\n",
    "adata2 = sc.read_h5ad(path)"
   ]
  },
  {
   "cell_type": "code",
   "execution_count": 16,
   "metadata": {
    "tags": []
   },
   "outputs": [
    {
     "data": {
      "text/plain": [
       "AnnData object with n_obs × n_vars = 14156 × 16150\n",
       "    obs: 'n_genes', 'tissue', 'prep', 'individual', 'nGenes', 'nUMIs', 'PercentMito', 'PercentRibo', 'Age_bin', 'Sex', 'Sample ID', 'participant_id', 'Sample ID short', 'Sample Ischemic Time (mins)', 'Tissue Site Detail', 'scrublet', 'scrublet_score', 'barcode', 'batch', 'annotation', 'broad', 'granular', 'leiden', 'Tissue', 'LAM_prediction'\n",
       "    var: 'gene_ids', 'Chromosome', 'gene_name', 'gene_biotype', 'n_cells', 'highly_variable', 'means', 'dispersions', 'dispersions_norm', 'mean', 'std'\n",
       "    uns: 'Sex_colors', 'Tissue_colors', 'annotation_colors', 'annotation_sizes', 'broad_colors', 'dendrogram_annotation', 'dendrogram_leiden', 'granular_colors', 'hvg', 'lam_02_colors', 'leiden', 'leiden_DE', 'neighbors', 'paga', 'participant_id_colors', 'pca', 'prediction_colors', 'prep_colors', 'rank_genes_groups', 'tissue_colors', 'umap'\n",
       "    obsm: 'X_harmony', 'X_pca', 'X_umap'\n",
       "    varm: 'PCs'\n",
       "    layers: 'counts'\n",
       "    obsp: 'connectivities', 'distances'"
      ]
     },
     "execution_count": 16,
     "metadata": {},
     "output_type": "execute_result"
    }
   ],
   "source": [
    "adata2"
   ]
  },
  {
   "cell_type": "code",
   "execution_count": 17,
   "metadata": {
    "tags": []
   },
   "outputs": [
    {
     "data": {
      "text/plain": [
       "n_genes                                             987\n",
       "tissue                                           breast\n",
       "prep                                                CST\n",
       "individual                                           01\n",
       "nGenes                                              987\n",
       "nUMIs                                            1376.0\n",
       "PercentMito                                         0.0\n",
       "PercentRibo                                     0.00218\n",
       "Age_bin                                           41-50\n",
       "Sex                                              Female\n",
       "Sample ID                      GTEX-1R9PN-5002-SM-HD2MC\n",
       "participant_id                               GTEX-1R9PN\n",
       "Sample ID short                         GTEX-1R9PN-5002\n",
       "Sample Ischemic Time (mins)                         387\n",
       "Tissue Site Detail              Breast - Mammary Tissue\n",
       "scrublet                                          False\n",
       "scrublet_score                                  0.09434\n",
       "barcode                                CCTCTGAGTCACCTAA\n",
       "batch                                                 0\n",
       "annotation                                     LAM-like\n",
       "broad                            Immune (DC/macrophage)\n",
       "granular                         Immune (macrophage II)\n",
       "leiden                                               18\n",
       "Tissue                                           Breast\n",
       "LAM_prediction                                      LAM\n",
       "Name: CST01_CCTCTGAGTCACCTAA-breast, dtype: object"
      ]
     },
     "execution_count": 17,
     "metadata": {},
     "output_type": "execute_result"
    }
   ],
   "source": [
    "adata2.obs.head(1).iloc[0,:]"
   ]
  },
  {
   "cell_type": "code",
   "execution_count": 18,
   "metadata": {
    "tags": []
   },
   "outputs": [],
   "source": [
    "adata2 = adata2[adata2.obs['tissue'] == 'breast']"
   ]
  },
  {
   "cell_type": "code",
   "execution_count": 19,
   "metadata": {
    "tags": []
   },
   "outputs": [
    {
     "data": {
      "text/plain": [
       "['Breast - Mammary Tissue']\n",
       "Categories (1, object): ['Breast - Mammary Tissue']"
      ]
     },
     "execution_count": 19,
     "metadata": {},
     "output_type": "execute_result"
    }
   ],
   "source": [
    "adata2.obs['Tissue Site Detail'].unique()"
   ]
  },
  {
   "cell_type": "code",
   "execution_count": 20,
   "metadata": {
    "tags": []
   },
   "outputs": [
    {
     "data": {
      "text/plain": [
       "['Immune (DC/macrophage)', NaN]\n",
       "Categories (1, object): ['Immune (DC/macrophage)']"
      ]
     },
     "execution_count": 20,
     "metadata": {},
     "output_type": "execute_result"
    }
   ],
   "source": [
    "adata2.obs['broad'].unique()"
   ]
  },
  {
   "cell_type": "code",
   "execution_count": 22,
   "metadata": {
    "tags": []
   },
   "outputs": [
    {
     "data": {
      "text/plain": [
       "['Immune (macrophage II)', 'Immune (macrophage I)', 'Immune (macrophage III)', 'Epithelial cell (luminal II)', NaN, 'Epithelial cell (luminal I)']\n",
       "Categories (5, object): ['Epithelial cell (luminal I)', 'Epithelial cell (luminal II)', 'Immune (macrophage I)', 'Immune (macrophage II)', 'Immune (macrophage III)']"
      ]
     },
     "execution_count": 22,
     "metadata": {},
     "output_type": "execute_result"
    }
   ],
   "source": [
    "adata2.obs['granular'].unique()"
   ]
  },
  {
   "cell_type": "code",
   "execution_count": 23,
   "metadata": {
    "tags": []
   },
   "outputs": [
    {
     "data": {
      "text/plain": [
       "Index(['Epithelial cell (luminal I)', 'Epithelial cell (luminal II)',\n",
       "       'Immune (macrophage I)', 'Immune (macrophage II)',\n",
       "       'Immune (macrophage III)'],\n",
       "      dtype='object')"
      ]
     },
     "execution_count": 23,
     "metadata": {},
     "output_type": "execute_result"
    }
   ],
   "source": [
    "adata2.obs['granular'].cat.categories"
   ]
  },
  {
   "cell_type": "code",
   "execution_count": 24,
   "metadata": {
    "tags": []
   },
   "outputs": [],
   "source": [
    "filename = '../data/brca/icgc/GTEx_breast_snRNAseq_immune_atlas_071421.public_obs.h5ad'\n",
    "adata2.write_h5ad(\n",
    "    filename,\n",
    "    compression=hdf5plugin.FILTERS[\"zstd\"]\n",
    ")"
   ]
  },
  {
   "cell_type": "code",
   "execution_count": 28,
   "metadata": {},
   "outputs": [],
   "source": [
    "filename = \"../data/brca/icgc/sample.tsv\"\n",
    "sample_df = pd.read_csv(filename, sep=\"\\t\")"
   ]
  },
  {
   "cell_type": "code",
   "execution_count": 29,
   "metadata": {
    "tags": []
   },
   "outputs": [
    {
     "data": {
      "text/html": [
       "<div>\n",
       "<style scoped>\n",
       "    .dataframe tbody tr th:only-of-type {\n",
       "        vertical-align: middle;\n",
       "    }\n",
       "\n",
       "    .dataframe tbody tr th {\n",
       "        vertical-align: top;\n",
       "    }\n",
       "\n",
       "    .dataframe thead th {\n",
       "        text-align: right;\n",
       "    }\n",
       "</style>\n",
       "<table border=\"1\" class=\"dataframe\">\n",
       "  <thead>\n",
       "    <tr style=\"text-align: right;\">\n",
       "      <th></th>\n",
       "      <th>icgc_sample_id</th>\n",
       "      <th>project_code</th>\n",
       "      <th>submitted_sample_id</th>\n",
       "      <th>icgc_specimen_id</th>\n",
       "      <th>submitted_specimen_id</th>\n",
       "      <th>icgc_donor_id</th>\n",
       "      <th>submitted_donor_id</th>\n",
       "      <th>analyzed_sample_interval</th>\n",
       "      <th>percentage_cellularity</th>\n",
       "      <th>level_of_cellularity</th>\n",
       "      <th>study</th>\n",
       "    </tr>\n",
       "  </thead>\n",
       "  <tbody>\n",
       "    <tr>\n",
       "      <th>0</th>\n",
       "      <td>SA42187</td>\n",
       "      <td>BRCA-US</td>\n",
       "      <td>TCGA-E2-A15C-10A-01D-A129-02</td>\n",
       "      <td>SP3936</td>\n",
       "      <td>TCGA-E2-A15C-10A</td>\n",
       "      <td>DO1808</td>\n",
       "      <td>TCGA-E2-A15C</td>\n",
       "      <td>NaN</td>\n",
       "      <td>NaN</td>\n",
       "      <td>NaN</td>\n",
       "      <td>NaN</td>\n",
       "    </tr>\n",
       "  </tbody>\n",
       "</table>\n",
       "</div>"
      ],
      "text/plain": [
       "  icgc_sample_id project_code           submitted_sample_id icgc_specimen_id  \\\n",
       "0        SA42187      BRCA-US  TCGA-E2-A15C-10A-01D-A129-02           SP3936   \n",
       "\n",
       "  submitted_specimen_id icgc_donor_id submitted_donor_id  \\\n",
       "0      TCGA-E2-A15C-10A        DO1808       TCGA-E2-A15C   \n",
       "\n",
       "   analyzed_sample_interval  percentage_cellularity  level_of_cellularity  \\\n",
       "0                       NaN                     NaN                   NaN   \n",
       "\n",
       "  study  \n",
       "0   NaN  "
      ]
     },
     "execution_count": 29,
     "metadata": {},
     "output_type": "execute_result"
    }
   ],
   "source": [
    "sample_df.head(1)"
   ]
  },
  {
   "cell_type": "code",
   "execution_count": 30,
   "metadata": {
    "tags": []
   },
   "outputs": [
    {
     "data": {
      "text/plain": [
       "array(['SA42187', 'SA42199', 'SA42211', ..., 'SA551226', 'SA551225',\n",
       "       'SA551224'], dtype=object)"
      ]
     },
     "execution_count": 30,
     "metadata": {},
     "output_type": "execute_result"
    }
   ],
   "source": [
    "sample_df.icgc_sample_id.unique()"
   ]
  },
  {
   "cell_type": "code",
   "execution_count": 32,
   "metadata": {},
   "outputs": [],
   "source": [
    "filename = \"../data/brca/icgc/donor.tsv\"\n",
    "donor_df = pd.read_csv(filename, sep=\"\\t\")"
   ]
  },
  {
   "cell_type": "code",
   "execution_count": 34,
   "metadata": {
    "tags": []
   },
   "outputs": [
    {
     "data": {
      "text/html": [
       "<div>\n",
       "<style scoped>\n",
       "    .dataframe tbody tr th:only-of-type {\n",
       "        vertical-align: middle;\n",
       "    }\n",
       "\n",
       "    .dataframe tbody tr th {\n",
       "        vertical-align: top;\n",
       "    }\n",
       "\n",
       "    .dataframe thead th {\n",
       "        text-align: right;\n",
       "    }\n",
       "</style>\n",
       "<table border=\"1\" class=\"dataframe\">\n",
       "  <thead>\n",
       "    <tr style=\"text-align: right;\">\n",
       "      <th></th>\n",
       "      <th>icgc_donor_id</th>\n",
       "      <th>project_code</th>\n",
       "      <th>study_donor_involved_in</th>\n",
       "      <th>submitted_donor_id</th>\n",
       "      <th>donor_sex</th>\n",
       "      <th>donor_vital_status</th>\n",
       "      <th>disease_status_last_followup</th>\n",
       "      <th>donor_relapse_type</th>\n",
       "      <th>donor_age_at_diagnosis</th>\n",
       "      <th>donor_age_at_enrollment</th>\n",
       "      <th>...</th>\n",
       "      <th>donor_relapse_interval</th>\n",
       "      <th>donor_diagnosis_icd10</th>\n",
       "      <th>donor_tumour_staging_system_at_diagnosis</th>\n",
       "      <th>donor_tumour_stage_at_diagnosis</th>\n",
       "      <th>donor_tumour_stage_at_diagnosis_supplemental</th>\n",
       "      <th>donor_survival_time</th>\n",
       "      <th>donor_interval_of_last_followup</th>\n",
       "      <th>prior_malignancy</th>\n",
       "      <th>cancer_type_prior_malignancy</th>\n",
       "      <th>cancer_history_first_degree_relative</th>\n",
       "    </tr>\n",
       "  </thead>\n",
       "  <tbody>\n",
       "    <tr>\n",
       "      <th>0</th>\n",
       "      <td>DO1808</td>\n",
       "      <td>BRCA-US</td>\n",
       "      <td>NaN</td>\n",
       "      <td>TCGA-E2-A15C</td>\n",
       "      <td>female</td>\n",
       "      <td>alive</td>\n",
       "      <td>complete remission</td>\n",
       "      <td>NaN</td>\n",
       "      <td>61</td>\n",
       "      <td>NaN</td>\n",
       "      <td>...</td>\n",
       "      <td>NaN</td>\n",
       "      <td>C50.9</td>\n",
       "      <td>NaN</td>\n",
       "      <td>NaN</td>\n",
       "      <td>NaN</td>\n",
       "      <td>NaN</td>\n",
       "      <td>497.0</td>\n",
       "      <td>unknown</td>\n",
       "      <td>NaN</td>\n",
       "      <td>unknown</td>\n",
       "    </tr>\n",
       "  </tbody>\n",
       "</table>\n",
       "<p>1 rows × 21 columns</p>\n",
       "</div>"
      ],
      "text/plain": [
       "  icgc_donor_id project_code study_donor_involved_in submitted_donor_id  \\\n",
       "0        DO1808      BRCA-US                     NaN       TCGA-E2-A15C   \n",
       "\n",
       "  donor_sex donor_vital_status disease_status_last_followup  \\\n",
       "0    female              alive           complete remission   \n",
       "\n",
       "   donor_relapse_type  donor_age_at_diagnosis  donor_age_at_enrollment  ...  \\\n",
       "0                 NaN                      61                      NaN  ...   \n",
       "\n",
       "   donor_relapse_interval  donor_diagnosis_icd10  \\\n",
       "0                     NaN                  C50.9   \n",
       "\n",
       "  donor_tumour_staging_system_at_diagnosis  donor_tumour_stage_at_diagnosis  \\\n",
       "0                                      NaN                              NaN   \n",
       "\n",
       "   donor_tumour_stage_at_diagnosis_supplemental  donor_survival_time  \\\n",
       "0                                           NaN                  NaN   \n",
       "\n",
       "   donor_interval_of_last_followup  prior_malignancy  \\\n",
       "0                            497.0           unknown   \n",
       "\n",
       "  cancer_type_prior_malignancy  cancer_history_first_degree_relative  \n",
       "0                          NaN                               unknown  \n",
       "\n",
       "[1 rows x 21 columns]"
      ]
     },
     "execution_count": 34,
     "metadata": {},
     "output_type": "execute_result"
    }
   ],
   "source": [
    "donor_df.head(1)"
   ]
  },
  {
   "cell_type": "code",
   "execution_count": 35,
   "metadata": {
    "tags": []
   },
   "outputs": [],
   "source": [
    "filename = \"../data/brca/icgc/exp_seq.tsv\"\n",
    "seq_df = pd.read_csv(filename, sep=\"\\t\")"
   ]
  },
  {
   "cell_type": "code",
   "execution_count": 37,
   "metadata": {
    "tags": []
   },
   "outputs": [
    {
     "data": {
      "text/plain": [
       "icgc_donor_id                                                          DO1808\n",
       "project_code                                                          BRCA-US\n",
       "icgc_specimen_id                                                       SP3930\n",
       "icgc_sample_id                                                        SA42163\n",
       "submitted_sample_id                              TCGA-E2-A15C-01A-31R-A12D-07\n",
       "analysis_id                                                              7768\n",
       "gene_model                                                                GAF\n",
       "gene_id                                                                  ALPL\n",
       "normalized_read_count                                                0.000004\n",
       "raw_read_count                                                            278\n",
       "fold_change                                                               NaN\n",
       "assembly_version                                                       GRCh37\n",
       "platform                                                       Illumina HiSeq\n",
       "total_read_count                                                          NaN\n",
       "experimental_protocol       RNASeqV2_RSEM_genes https://tcga-data.nci.nih....\n",
       "alignment_algorithm                                                       NaN\n",
       "normalization_algorithm                                                   NaN\n",
       "other_analysis_algorithm                                                  NaN\n",
       "sequencing_strategy                                                   RNA-Seq\n",
       "raw_data_repository                                                     CGHub\n",
       "raw_data_accession                       1a77082d-f130-436b-9028-23c8dd9dc565\n",
       "reference_sample_type                                                     NaN\n",
       "Name: 0, dtype: object"
      ]
     },
     "execution_count": 37,
     "metadata": {},
     "output_type": "execute_result"
    }
   ],
   "source": [
    "seq_df.head(1).iloc[0]"
   ]
  },
  {
   "cell_type": "code",
   "execution_count": null,
   "metadata": {},
   "outputs": [],
   "source": []
  }
 ],
 "metadata": {
  "kernelspec": {
   "display_name": "compbio",
   "language": "python",
   "name": "compbio"
  },
  "language_info": {
   "codemirror_mode": {
    "name": "ipython",
    "version": 3
   },
   "file_extension": ".py",
   "mimetype": "text/x-python",
   "name": "python",
   "nbconvert_exporter": "python",
   "pygments_lexer": "ipython3",
   "version": "3.9.7"
  }
 },
 "nbformat": 4,
 "nbformat_minor": 4
}
