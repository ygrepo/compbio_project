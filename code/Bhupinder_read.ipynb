{
 "cells": [
  {
   "cell_type": "markdown",
   "metadata": {},
   "source": [
    "# ScRNA-seq H5AD"
   ]
  },
  {
   "cell_type": "code",
   "execution_count": 15,
   "metadata": {
    "tags": []
   },
   "outputs": [],
   "source": [
    "import pandas as pd"
   ]
  },
  {
   "cell_type": "code",
   "execution_count": 12,
   "metadata": {
    "tags": []
   },
   "outputs": [],
   "source": [
    "path= '../data/brca/Bhupinder_etal_2021_BRCA_bulk_sc/bulk/GSE161892_GeneCountMatrix.txt'\n",
    "df = pd.read_csv(path, delimiter=\"\\t\")"
   ]
  },
  {
   "cell_type": "code",
   "execution_count": 14,
   "metadata": {
    "tags": []
   },
   "outputs": [
    {
     "data": {
      "text/plain": [
       "GeneID           100287102\n",
       "Length                1652\n",
       "Basal-0233               2\n",
       "LP-0233                  0\n",
       "ML-0233                  4\n",
       "Stroma-0233              1\n",
       "Basal-0232               1\n",
       "LP-0232                  4\n",
       "ML-0232                  0\n",
       "Stroma-0232              0\n",
       "Basal-1105               6\n",
       "LP-1105                  8\n",
       "ML-1105-1                9\n",
       "ML-1105-2                3\n",
       "Basal-0507-R             2\n",
       "Stroma-0507-R            1\n",
       "ML-0507-R                2\n",
       "LP-0507-R                5\n",
       "Basal-0507-L             1\n",
       "Stroma-0507-L            0\n",
       "ML-0507-L                0\n",
       "LP-0507-L                0\n",
       "Basal-0218               0\n",
       "LP-0218                  0\n",
       "ML-0218                  0\n",
       "ML-0165                  0\n",
       "LP-0165                  0\n",
       "Basal-0165               0\n",
       "LP-0408                  1\n",
       "Basal-0408               0\n",
       "Stroma-0408              0\n",
       "ML-0408                  2\n",
       "Basal-0030               0\n",
       "LP-0030                  0\n",
       "ML-0030                  0\n",
       "Stroma-0030              0\n",
       "Name: 0, dtype: int64"
      ]
     },
     "execution_count": 14,
     "metadata": {},
     "output_type": "execute_result"
    }
   ],
   "source": [
    "df.head(1).iloc[0,:]"
   ]
  },
  {
   "cell_type": "code",
   "execution_count": 19,
   "metadata": {
    "tags": []
   },
   "outputs": [
    {
     "data": {
      "text/html": [
       "<div>\n",
       "<style scoped>\n",
       "    .dataframe tbody tr th:only-of-type {\n",
       "        vertical-align: middle;\n",
       "    }\n",
       "\n",
       "    .dataframe tbody tr th {\n",
       "        vertical-align: top;\n",
       "    }\n",
       "\n",
       "    .dataframe thead th {\n",
       "        text-align: right;\n",
       "    }\n",
       "</style>\n",
       "<table border=\"1\" class=\"dataframe\">\n",
       "  <thead>\n",
       "    <tr style=\"text-align: right;\">\n",
       "      <th></th>\n",
       "      <th>GeneID</th>\n",
       "      <th>Length</th>\n",
       "      <th>Basal-0233</th>\n",
       "      <th>LP-0233</th>\n",
       "      <th>ML-0233</th>\n",
       "      <th>Stroma-0233</th>\n",
       "      <th>Basal-0232</th>\n",
       "      <th>LP-0232</th>\n",
       "      <th>ML-0232</th>\n",
       "      <th>Stroma-0232</th>\n",
       "      <th>...</th>\n",
       "      <th>LP-0165</th>\n",
       "      <th>Basal-0165</th>\n",
       "      <th>LP-0408</th>\n",
       "      <th>Basal-0408</th>\n",
       "      <th>Stroma-0408</th>\n",
       "      <th>ML-0408</th>\n",
       "      <th>Basal-0030</th>\n",
       "      <th>LP-0030</th>\n",
       "      <th>ML-0030</th>\n",
       "      <th>Stroma-0030</th>\n",
       "    </tr>\n",
       "  </thead>\n",
       "  <tbody>\n",
       "    <tr>\n",
       "      <th>0</th>\n",
       "      <td>100287102</td>\n",
       "      <td>1652</td>\n",
       "      <td>2</td>\n",
       "      <td>0</td>\n",
       "      <td>4</td>\n",
       "      <td>1</td>\n",
       "      <td>1</td>\n",
       "      <td>4</td>\n",
       "      <td>0</td>\n",
       "      <td>0</td>\n",
       "      <td>...</td>\n",
       "      <td>0</td>\n",
       "      <td>0</td>\n",
       "      <td>1</td>\n",
       "      <td>0</td>\n",
       "      <td>0</td>\n",
       "      <td>2</td>\n",
       "      <td>0</td>\n",
       "      <td>0</td>\n",
       "      <td>0</td>\n",
       "      <td>0</td>\n",
       "    </tr>\n",
       "  </tbody>\n",
       "</table>\n",
       "<p>1 rows × 36 columns</p>\n",
       "</div>"
      ],
      "text/plain": [
       "      GeneID  Length  Basal-0233  LP-0233  ML-0233  Stroma-0233  Basal-0232  \\\n",
       "0  100287102    1652           2        0        4            1           1   \n",
       "\n",
       "   LP-0232  ML-0232  Stroma-0232  ...  LP-0165  Basal-0165  LP-0408  \\\n",
       "0        4        0            0  ...        0           0        1   \n",
       "\n",
       "   Basal-0408  Stroma-0408  ML-0408  Basal-0030  LP-0030  ML-0030  Stroma-0030  \n",
       "0           0            0        2           0        0        0            0  \n",
       "\n",
       "[1 rows x 36 columns]"
      ]
     },
     "execution_count": 19,
     "metadata": {},
     "output_type": "execute_result"
    }
   ],
   "source": [
    "df.head(1)"
   ]
  },
  {
   "cell_type": "code",
   "execution_count": 16,
   "metadata": {
    "tags": []
   },
   "outputs": [],
   "source": [
    "path= '../data/brca/Bhupinder_etal_2021_BRCA_bulk_sc/bulk/GSM4916468_LP-0233.txt'\n",
    "lp_0233_df =pd.read_csv(path, delimiter=\"\\t\")"
   ]
  },
  {
   "cell_type": "code",
   "execution_count": 17,
   "metadata": {
    "tags": []
   },
   "outputs": [
    {
     "data": {
      "text/html": [
       "<div>\n",
       "<style scoped>\n",
       "    .dataframe tbody tr th:only-of-type {\n",
       "        vertical-align: middle;\n",
       "    }\n",
       "\n",
       "    .dataframe tbody tr th {\n",
       "        vertical-align: top;\n",
       "    }\n",
       "\n",
       "    .dataframe thead th {\n",
       "        text-align: right;\n",
       "    }\n",
       "</style>\n",
       "<table border=\"1\" class=\"dataframe\">\n",
       "  <thead>\n",
       "    <tr style=\"text-align: right;\">\n",
       "      <th></th>\n",
       "      <th>GeneID</th>\n",
       "      <th>Length</th>\n",
       "      <th>LP-0233</th>\n",
       "    </tr>\n",
       "  </thead>\n",
       "  <tbody>\n",
       "    <tr>\n",
       "      <th>0</th>\n",
       "      <td>100287102</td>\n",
       "      <td>1652</td>\n",
       "      <td>0</td>\n",
       "    </tr>\n",
       "    <tr>\n",
       "      <th>1</th>\n",
       "      <td>653635</td>\n",
       "      <td>1769</td>\n",
       "      <td>71</td>\n",
       "    </tr>\n",
       "    <tr>\n",
       "      <th>2</th>\n",
       "      <td>102466751</td>\n",
       "      <td>68</td>\n",
       "      <td>0</td>\n",
       "    </tr>\n",
       "    <tr>\n",
       "      <th>3</th>\n",
       "      <td>100302278</td>\n",
       "      <td>138</td>\n",
       "      <td>0</td>\n",
       "    </tr>\n",
       "    <tr>\n",
       "      <th>4</th>\n",
       "      <td>645520</td>\n",
       "      <td>1130</td>\n",
       "      <td>0</td>\n",
       "    </tr>\n",
       "    <tr>\n",
       "      <th>...</th>\n",
       "      <td>...</td>\n",
       "      <td>...</td>\n",
       "      <td>...</td>\n",
       "    </tr>\n",
       "    <tr>\n",
       "      <th>28390</th>\n",
       "      <td>105379557</td>\n",
       "      <td>1010</td>\n",
       "      <td>0</td>\n",
       "    </tr>\n",
       "    <tr>\n",
       "      <th>28391</th>\n",
       "      <td>105379559</td>\n",
       "      <td>456</td>\n",
       "      <td>0</td>\n",
       "    </tr>\n",
       "    <tr>\n",
       "      <th>28392</th>\n",
       "      <td>105379561</td>\n",
       "      <td>2275</td>\n",
       "      <td>0</td>\n",
       "    </tr>\n",
       "    <tr>\n",
       "      <th>28393</th>\n",
       "      <td>102723822</td>\n",
       "      <td>1728</td>\n",
       "      <td>0</td>\n",
       "    </tr>\n",
       "    <tr>\n",
       "      <th>28394</th>\n",
       "      <td>102723891</td>\n",
       "      <td>346</td>\n",
       "      <td>0</td>\n",
       "    </tr>\n",
       "  </tbody>\n",
       "</table>\n",
       "<p>28395 rows × 3 columns</p>\n",
       "</div>"
      ],
      "text/plain": [
       "          GeneID  Length  LP-0233\n",
       "0      100287102    1652        0\n",
       "1         653635    1769       71\n",
       "2      102466751      68        0\n",
       "3      100302278     138        0\n",
       "4         645520    1130        0\n",
       "...          ...     ...      ...\n",
       "28390  105379557    1010        0\n",
       "28391  105379559     456        0\n",
       "28392  105379561    2275        0\n",
       "28393  102723822    1728        0\n",
       "28394  102723891     346        0\n",
       "\n",
       "[28395 rows x 3 columns]"
      ]
     },
     "execution_count": 17,
     "metadata": {},
     "output_type": "execute_result"
    }
   ],
   "source": [
    "lp_0233_df"
   ]
  },
  {
   "cell_type": "code",
   "execution_count": 18,
   "metadata": {
    "tags": []
   },
   "outputs": [
    {
     "data": {
      "text/plain": [
       "array([100287102,    653635, 102466751, ..., 105379561, 102723822,\n",
       "       102723891])"
      ]
     },
     "execution_count": 18,
     "metadata": {},
     "output_type": "execute_result"
    }
   ],
   "source": [
    "lp_0233_df[\"GeneID\"].unique()"
   ]
  },
  {
   "cell_type": "code",
   "execution_count": null,
   "metadata": {},
   "outputs": [],
   "source": []
  }
 ],
 "metadata": {
  "kernelspec": {
   "display_name": "compbio",
   "language": "python",
   "name": "compbio"
  },
  "language_info": {
   "codemirror_mode": {
    "name": "ipython",
    "version": 3
   },
   "file_extension": ".py",
   "mimetype": "text/x-python",
   "name": "python",
   "nbconvert_exporter": "python",
   "pygments_lexer": "ipython3",
   "version": "3.9.7"
  }
 },
 "nbformat": 4,
 "nbformat_minor": 4
}
