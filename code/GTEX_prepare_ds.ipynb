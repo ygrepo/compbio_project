{
 "cells": [
  {
   "cell_type": "code",
   "execution_count": 1,
   "metadata": {
    "tags": []
   },
   "outputs": [],
   "source": [
    "import scanpy as sc\n",
    "import pandas as pd\n",
    "import hdf5plugin"
   ]
  },
  {
   "cell_type": "code",
   "execution_count": 2,
   "metadata": {
    "tags": []
   },
   "outputs": [],
   "source": [
    "filename = '../data/brca/icgc/GTEx_breast_snRNAseq_immune_atlas_071421.public_obs.h5ad'\n",
    "adata = sc.read_h5ad(filename)"
   ]
  },
  {
   "cell_type": "code",
   "execution_count": 3,
   "metadata": {
    "tags": []
   },
   "outputs": [
    {
     "data": {
      "text/plain": [
       "AnnData object with n_obs × n_vars = 244 × 16150\n",
       "    obs: 'n_genes', 'tissue', 'prep', 'individual', 'nGenes', 'nUMIs', 'PercentMito', 'PercentRibo', 'Age_bin', 'Sex', 'Sample ID', 'participant_id', 'Sample ID short', 'Sample Ischemic Time (mins)', 'Tissue Site Detail', 'scrublet', 'scrublet_score', 'barcode', 'batch', 'annotation', 'broad', 'granular', 'leiden', 'Tissue', 'LAM_prediction'\n",
       "    var: 'gene_ids', 'Chromosome', 'gene_name', 'gene_biotype', 'n_cells', 'highly_variable', 'means', 'dispersions', 'dispersions_norm', 'mean', 'std'\n",
       "    uns: 'Sex_colors', 'Tissue_colors', 'annotation_colors', 'annotation_sizes', 'broad_colors', 'dendrogram_annotation', 'dendrogram_leiden', 'granular_colors', 'hvg', 'lam_02_colors', 'leiden', 'leiden_DE', 'neighbors', 'paga', 'participant_id_colors', 'pca', 'prediction_colors', 'prep_colors', 'rank_genes_groups', 'tissue_colors', 'umap'\n",
       "    obsm: 'X_harmony', 'X_pca', 'X_umap'\n",
       "    varm: 'PCs'\n",
       "    layers: 'counts'\n",
       "    obsp: 'connectivities', 'distances'"
      ]
     },
     "execution_count": 3,
     "metadata": {},
     "output_type": "execute_result"
    }
   ],
   "source": [
    "adata"
   ]
  },
  {
   "cell_type": "code",
   "execution_count": 7,
   "metadata": {
    "tags": []
   },
   "outputs": [],
   "source": [
    "adata = adata[adata.obs['tissue'] == 'breast']"
   ]
  },
  {
   "cell_type": "code",
   "execution_count": 4,
   "metadata": {
    "tags": []
   },
   "outputs": [
    {
     "data": {
      "text/plain": [
       "n_genes                                             987\n",
       "tissue                                           breast\n",
       "prep                                                CST\n",
       "individual                                           01\n",
       "nGenes                                              987\n",
       "nUMIs                                            1376.0\n",
       "PercentMito                                         0.0\n",
       "PercentRibo                                     0.00218\n",
       "Age_bin                                           41-50\n",
       "Sex                                              Female\n",
       "Sample ID                      GTEX-1R9PN-5002-SM-HD2MC\n",
       "participant_id                               GTEX-1R9PN\n",
       "Sample ID short                         GTEX-1R9PN-5002\n",
       "Sample Ischemic Time (mins)                         387\n",
       "Tissue Site Detail              Breast - Mammary Tissue\n",
       "scrublet                                          False\n",
       "scrublet_score                                  0.09434\n",
       "barcode                                CCTCTGAGTCACCTAA\n",
       "batch                                                 0\n",
       "annotation                                     LAM-like\n",
       "broad                            Immune (DC/macrophage)\n",
       "granular                         Immune (macrophage II)\n",
       "leiden                                               18\n",
       "Tissue                                           Breast\n",
       "LAM_prediction                                      LAM\n",
       "Name: CST01_CCTCTGAGTCACCTAA-breast, dtype: object"
      ]
     },
     "execution_count": 4,
     "metadata": {},
     "output_type": "execute_result"
    }
   ],
   "source": [
    "adata.obs.head(1).iloc[0,:]"
   ]
  },
  {
   "cell_type": "code",
   "execution_count": 9,
   "metadata": {
    "tags": []
   },
   "outputs": [
    {
     "data": {
      "text/plain": [
       "Index(['Adipocyte', 'Endothelial cell (lymphatic)',\n",
       "       'Endothelial cell (vascular)', 'Epithelial cell (luminal)',\n",
       "       'Fibroblast', 'Immune (DC/macrophage)', 'Myoepithelial (basal)',\n",
       "       'Pericyte/SMC'],\n",
       "      dtype='object')"
      ]
     },
     "execution_count": 9,
     "metadata": {},
     "output_type": "execute_result"
    }
   ],
   "source": [
    "adata.obs['Broad cell type'].cat.categories"
   ]
  },
  {
   "cell_type": "code",
   "execution_count": 5,
   "metadata": {
    "tags": []
   },
   "outputs": [
    {
     "data": {
      "text/plain": [
       "Index(['Immune (DC/macrophage)'], dtype='object')"
      ]
     },
     "execution_count": 5,
     "metadata": {},
     "output_type": "execute_result"
    }
   ],
   "source": [
    "adata.obs['broad'].cat.categories"
   ]
  },
  {
   "cell_type": "code",
   "execution_count": 6,
   "metadata": {
    "tags": []
   },
   "outputs": [
    {
     "data": {
      "text/plain": [
       "Index(['Epithelial cell (luminal I)', 'Epithelial cell (luminal II)',\n",
       "       'Immune (macrophage I)', 'Immune (macrophage II)',\n",
       "       'Immune (macrophage III)'],\n",
       "      dtype='object')"
      ]
     },
     "execution_count": 6,
     "metadata": {},
     "output_type": "execute_result"
    }
   ],
   "source": [
    "adata.obs['granular'].cat.categories"
   ]
  },
  {
   "cell_type": "code",
   "execution_count": 47,
   "metadata": {
    "tags": []
   },
   "outputs": [
    {
     "data": {
      "text/html": [
       "<div>\n",
       "<style scoped>\n",
       "    .dataframe tbody tr th:only-of-type {\n",
       "        vertical-align: middle;\n",
       "    }\n",
       "\n",
       "    .dataframe tbody tr th {\n",
       "        vertical-align: top;\n",
       "    }\n",
       "\n",
       "    .dataframe thead th {\n",
       "        text-align: right;\n",
       "    }\n",
       "</style>\n",
       "<table border=\"1\" class=\"dataframe\">\n",
       "  <thead>\n",
       "    <tr style=\"text-align: right;\">\n",
       "      <th></th>\n",
       "      <th>FO538757.2</th>\n",
       "      <th>SAMD11</th>\n",
       "      <th>NOC2L</th>\n",
       "      <th>KLHL17</th>\n",
       "      <th>PLEKHN1</th>\n",
       "      <th>HES4</th>\n",
       "      <th>ISG15</th>\n",
       "      <th>AGRN</th>\n",
       "      <th>C1orf159</th>\n",
       "      <th>TTLL10</th>\n",
       "      <th>...</th>\n",
       "      <th>FTCD</th>\n",
       "      <th>SPATC1L</th>\n",
       "      <th>LSS</th>\n",
       "      <th>MCM3AP</th>\n",
       "      <th>YBEY</th>\n",
       "      <th>C21orf58</th>\n",
       "      <th>PCNT</th>\n",
       "      <th>DIP2A</th>\n",
       "      <th>S100B</th>\n",
       "      <th>PRMT2</th>\n",
       "    </tr>\n",
       "  </thead>\n",
       "  <tbody>\n",
       "    <tr>\n",
       "      <th>CST01_CCTCTGAGTCACCTAA-breast</th>\n",
       "      <td>0.0</td>\n",
       "      <td>0.0</td>\n",
       "      <td>0.0</td>\n",
       "      <td>0.0</td>\n",
       "      <td>0.0</td>\n",
       "      <td>0.0</td>\n",
       "      <td>0.0</td>\n",
       "      <td>0.0</td>\n",
       "      <td>0.0</td>\n",
       "      <td>0.0</td>\n",
       "      <td>...</td>\n",
       "      <td>0.0</td>\n",
       "      <td>0.0</td>\n",
       "      <td>0.0</td>\n",
       "      <td>1.0</td>\n",
       "      <td>0.0</td>\n",
       "      <td>0.0</td>\n",
       "      <td>0.0</td>\n",
       "      <td>0.0</td>\n",
       "      <td>0.0</td>\n",
       "      <td>0.0</td>\n",
       "    </tr>\n",
       "    <tr>\n",
       "      <th>CST01_GGTGCGTCATGCATGT-breast</th>\n",
       "      <td>0.0</td>\n",
       "      <td>0.0</td>\n",
       "      <td>0.0</td>\n",
       "      <td>0.0</td>\n",
       "      <td>0.0</td>\n",
       "      <td>0.0</td>\n",
       "      <td>0.0</td>\n",
       "      <td>0.0</td>\n",
       "      <td>0.0</td>\n",
       "      <td>0.0</td>\n",
       "      <td>...</td>\n",
       "      <td>0.0</td>\n",
       "      <td>0.0</td>\n",
       "      <td>0.0</td>\n",
       "      <td>0.0</td>\n",
       "      <td>0.0</td>\n",
       "      <td>0.0</td>\n",
       "      <td>0.0</td>\n",
       "      <td>0.0</td>\n",
       "      <td>0.0</td>\n",
       "      <td>1.0</td>\n",
       "    </tr>\n",
       "  </tbody>\n",
       "</table>\n",
       "<p>2 rows × 16150 columns</p>\n",
       "</div>"
      ],
      "text/plain": [
       "                               FO538757.2  SAMD11  NOC2L  KLHL17  PLEKHN1  \\\n",
       "CST01_CCTCTGAGTCACCTAA-breast         0.0     0.0    0.0     0.0      0.0   \n",
       "CST01_GGTGCGTCATGCATGT-breast         0.0     0.0    0.0     0.0      0.0   \n",
       "\n",
       "                               HES4  ISG15  AGRN  C1orf159  TTLL10  ...  FTCD  \\\n",
       "CST01_CCTCTGAGTCACCTAA-breast   0.0    0.0   0.0       0.0     0.0  ...   0.0   \n",
       "CST01_GGTGCGTCATGCATGT-breast   0.0    0.0   0.0       0.0     0.0  ...   0.0   \n",
       "\n",
       "                               SPATC1L  LSS  MCM3AP  YBEY  C21orf58  PCNT  \\\n",
       "CST01_CCTCTGAGTCACCTAA-breast      0.0  0.0     1.0   0.0       0.0   0.0   \n",
       "CST01_GGTGCGTCATGCATGT-breast      0.0  0.0     0.0   0.0       0.0   0.0   \n",
       "\n",
       "                               DIP2A  S100B  PRMT2  \n",
       "CST01_CCTCTGAGTCACCTAA-breast    0.0    0.0    0.0  \n",
       "CST01_GGTGCGTCATGCATGT-breast    0.0    0.0    1.0  \n",
       "\n",
       "[2 rows x 16150 columns]"
      ]
     },
     "execution_count": 47,
     "metadata": {},
     "output_type": "execute_result"
    }
   ],
   "source": [
    "counts = adata.to_df(layer=\"counts\")\n",
    "counts.head(2)"
   ]
  },
  {
   "cell_type": "code",
   "execution_count": 39,
   "metadata": {
    "tags": []
   },
   "outputs": [
    {
     "data": {
      "text/plain": [
       "16150"
      ]
     },
     "execution_count": 39,
     "metadata": {},
     "output_type": "execute_result"
    }
   ],
   "source": [
    "lg = len(counts.columns)\n",
    "lg"
   ]
  },
  {
   "cell_type": "code",
   "execution_count": 19,
   "metadata": {
    "tags": []
   },
   "outputs": [],
   "source": [
    "counts[\"Barcode\"] = counts.index"
   ]
  },
  {
   "cell_type": "code",
   "execution_count": 20,
   "metadata": {
    "tags": []
   },
   "outputs": [
    {
     "data": {
      "text/html": [
       "<div>\n",
       "<style scoped>\n",
       "    .dataframe tbody tr th:only-of-type {\n",
       "        vertical-align: middle;\n",
       "    }\n",
       "\n",
       "    .dataframe tbody tr th {\n",
       "        vertical-align: top;\n",
       "    }\n",
       "\n",
       "    .dataframe thead th {\n",
       "        text-align: right;\n",
       "    }\n",
       "</style>\n",
       "<table border=\"1\" class=\"dataframe\">\n",
       "  <thead>\n",
       "    <tr style=\"text-align: right;\">\n",
       "      <th></th>\n",
       "      <th>FO538757.2</th>\n",
       "      <th>SAMD11</th>\n",
       "      <th>NOC2L</th>\n",
       "      <th>KLHL17</th>\n",
       "      <th>PLEKHN1</th>\n",
       "      <th>HES4</th>\n",
       "      <th>ISG15</th>\n",
       "      <th>AGRN</th>\n",
       "      <th>C1orf159</th>\n",
       "      <th>TTLL10</th>\n",
       "      <th>...</th>\n",
       "      <th>SPATC1L</th>\n",
       "      <th>LSS</th>\n",
       "      <th>MCM3AP</th>\n",
       "      <th>YBEY</th>\n",
       "      <th>C21orf58</th>\n",
       "      <th>PCNT</th>\n",
       "      <th>DIP2A</th>\n",
       "      <th>S100B</th>\n",
       "      <th>PRMT2</th>\n",
       "      <th>Barcode</th>\n",
       "    </tr>\n",
       "  </thead>\n",
       "  <tbody>\n",
       "    <tr>\n",
       "      <th>CST01_CCTCTGAGTCACCTAA-breast</th>\n",
       "      <td>0.0</td>\n",
       "      <td>0.0</td>\n",
       "      <td>0.0</td>\n",
       "      <td>0.0</td>\n",
       "      <td>0.0</td>\n",
       "      <td>0.0</td>\n",
       "      <td>0.0</td>\n",
       "      <td>0.0</td>\n",
       "      <td>0.0</td>\n",
       "      <td>0.0</td>\n",
       "      <td>...</td>\n",
       "      <td>0.0</td>\n",
       "      <td>0.0</td>\n",
       "      <td>1.0</td>\n",
       "      <td>0.0</td>\n",
       "      <td>0.0</td>\n",
       "      <td>0.0</td>\n",
       "      <td>0.0</td>\n",
       "      <td>0.0</td>\n",
       "      <td>0.0</td>\n",
       "      <td>CST01_CCTCTGAGTCACCTAA-breast</td>\n",
       "    </tr>\n",
       "    <tr>\n",
       "      <th>CST01_GGTGCGTCATGCATGT-breast</th>\n",
       "      <td>0.0</td>\n",
       "      <td>0.0</td>\n",
       "      <td>0.0</td>\n",
       "      <td>0.0</td>\n",
       "      <td>0.0</td>\n",
       "      <td>0.0</td>\n",
       "      <td>0.0</td>\n",
       "      <td>0.0</td>\n",
       "      <td>0.0</td>\n",
       "      <td>0.0</td>\n",
       "      <td>...</td>\n",
       "      <td>0.0</td>\n",
       "      <td>0.0</td>\n",
       "      <td>0.0</td>\n",
       "      <td>0.0</td>\n",
       "      <td>0.0</td>\n",
       "      <td>0.0</td>\n",
       "      <td>0.0</td>\n",
       "      <td>0.0</td>\n",
       "      <td>1.0</td>\n",
       "      <td>CST01_GGTGCGTCATGCATGT-breast</td>\n",
       "    </tr>\n",
       "  </tbody>\n",
       "</table>\n",
       "<p>2 rows × 16151 columns</p>\n",
       "</div>"
      ],
      "text/plain": [
       "                               FO538757.2  SAMD11  NOC2L  KLHL17  PLEKHN1  \\\n",
       "CST01_CCTCTGAGTCACCTAA-breast         0.0     0.0    0.0     0.0      0.0   \n",
       "CST01_GGTGCGTCATGCATGT-breast         0.0     0.0    0.0     0.0      0.0   \n",
       "\n",
       "                               HES4  ISG15  AGRN  C1orf159  TTLL10  ...  \\\n",
       "CST01_CCTCTGAGTCACCTAA-breast   0.0    0.0   0.0       0.0     0.0  ...   \n",
       "CST01_GGTGCGTCATGCATGT-breast   0.0    0.0   0.0       0.0     0.0  ...   \n",
       "\n",
       "                               SPATC1L  LSS  MCM3AP  YBEY  C21orf58  PCNT  \\\n",
       "CST01_CCTCTGAGTCACCTAA-breast      0.0  0.0     1.0   0.0       0.0   0.0   \n",
       "CST01_GGTGCGTCATGCATGT-breast      0.0  0.0     0.0   0.0       0.0   0.0   \n",
       "\n",
       "                               DIP2A  S100B  PRMT2  \\\n",
       "CST01_CCTCTGAGTCACCTAA-breast    0.0    0.0    0.0   \n",
       "CST01_GGTGCGTCATGCATGT-breast    0.0    0.0    1.0   \n",
       "\n",
       "                                                     Barcode  \n",
       "CST01_CCTCTGAGTCACCTAA-breast  CST01_CCTCTGAGTCACCTAA-breast  \n",
       "CST01_GGTGCGTCATGCATGT-breast  CST01_GGTGCGTCATGCATGT-breast  \n",
       "\n",
       "[2 rows x 16151 columns]"
      ]
     },
     "execution_count": 20,
     "metadata": {},
     "output_type": "execute_result"
    }
   ],
   "source": [
    "counts.head(2)"
   ]
  },
  {
   "cell_type": "code",
   "execution_count": 8,
   "metadata": {},
   "outputs": [
    {
     "data": {
      "text/html": [
       "<div>\n",
       "<style scoped>\n",
       "    .dataframe tbody tr th:only-of-type {\n",
       "        vertical-align: middle;\n",
       "    }\n",
       "\n",
       "    .dataframe tbody tr th {\n",
       "        vertical-align: top;\n",
       "    }\n",
       "\n",
       "    .dataframe thead th {\n",
       "        text-align: right;\n",
       "    }\n",
       "</style>\n",
       "<table border=\"1\" class=\"dataframe\">\n",
       "  <thead>\n",
       "    <tr style=\"text-align: right;\">\n",
       "      <th></th>\n",
       "      <th>n_genes</th>\n",
       "      <th>tissue</th>\n",
       "      <th>prep</th>\n",
       "      <th>individual</th>\n",
       "      <th>nGenes</th>\n",
       "      <th>nUMIs</th>\n",
       "      <th>PercentMito</th>\n",
       "      <th>PercentRibo</th>\n",
       "      <th>Age_bin</th>\n",
       "      <th>Sex</th>\n",
       "      <th>...</th>\n",
       "      <th>scrublet</th>\n",
       "      <th>scrublet_score</th>\n",
       "      <th>barcode</th>\n",
       "      <th>batch</th>\n",
       "      <th>annotation</th>\n",
       "      <th>broad</th>\n",
       "      <th>granular</th>\n",
       "      <th>leiden</th>\n",
       "      <th>Tissue</th>\n",
       "      <th>LAM_prediction</th>\n",
       "    </tr>\n",
       "  </thead>\n",
       "  <tbody>\n",
       "    <tr>\n",
       "      <th>CST01_CCTCTGAGTCACCTAA-breast</th>\n",
       "      <td>987</td>\n",
       "      <td>breast</td>\n",
       "      <td>CST</td>\n",
       "      <td>01</td>\n",
       "      <td>987</td>\n",
       "      <td>1376.0</td>\n",
       "      <td>0.0</td>\n",
       "      <td>0.00218</td>\n",
       "      <td>41-50</td>\n",
       "      <td>Female</td>\n",
       "      <td>...</td>\n",
       "      <td>False</td>\n",
       "      <td>0.09434</td>\n",
       "      <td>CCTCTGAGTCACCTAA</td>\n",
       "      <td>0</td>\n",
       "      <td>LAM-like</td>\n",
       "      <td>Immune (DC/macrophage)</td>\n",
       "      <td>Immune (macrophage II)</td>\n",
       "      <td>18</td>\n",
       "      <td>Breast</td>\n",
       "      <td>LAM</td>\n",
       "    </tr>\n",
       "  </tbody>\n",
       "</table>\n",
       "<p>1 rows × 25 columns</p>\n",
       "</div>"
      ],
      "text/plain": [
       "                               n_genes  tissue prep individual  nGenes  \\\n",
       "CST01_CCTCTGAGTCACCTAA-breast      987  breast  CST         01     987   \n",
       "\n",
       "                                nUMIs  PercentMito  PercentRibo Age_bin  \\\n",
       "CST01_CCTCTGAGTCACCTAA-breast  1376.0          0.0      0.00218   41-50   \n",
       "\n",
       "                                  Sex  ... scrublet scrublet_score  \\\n",
       "CST01_CCTCTGAGTCACCTAA-breast  Female  ...    False        0.09434   \n",
       "\n",
       "                                        barcode batch annotation  \\\n",
       "CST01_CCTCTGAGTCACCTAA-breast  CCTCTGAGTCACCTAA     0   LAM-like   \n",
       "\n",
       "                                                broad                granular  \\\n",
       "CST01_CCTCTGAGTCACCTAA-breast  Immune (DC/macrophage)  Immune (macrophage II)   \n",
       "\n",
       "                              leiden  Tissue LAM_prediction  \n",
       "CST01_CCTCTGAGTCACCTAA-breast     18  Breast            LAM  \n",
       "\n",
       "[1 rows x 25 columns]"
      ]
     },
     "execution_count": 8,
     "metadata": {},
     "output_type": "execute_result"
    }
   ],
   "source": [
    "obs = adata.obs\n",
    "obs.head(1)"
   ]
  },
  {
   "cell_type": "code",
   "execution_count": 45,
   "metadata": {
    "tags": []
   },
   "outputs": [
    {
     "data": {
      "text/plain": [
       "(16150, 244)"
      ]
     },
     "execution_count": 45,
     "metadata": {},
     "output_type": "execute_result"
    }
   ],
   "source": [
    "counts.shape"
   ]
  },
  {
   "cell_type": "code",
   "execution_count": 49,
   "metadata": {
    "tags": []
   },
   "outputs": [
    {
     "data": {
      "text/plain": [
       "['Immune (macrophage II)', 'Immune (macrophage I)', 'Immune (macrophage III)', 'Epithelial cell (luminal II)', NaN, 'Epithelial cell (luminal I)']\n",
       "Categories (5, object): ['Epithelial cell (luminal I)', 'Epithelial cell (luminal II)', 'Immune (macrophage I)', 'Immune (macrophage II)', 'Immune (macrophage III)']"
      ]
     },
     "execution_count": 49,
     "metadata": {},
     "output_type": "execute_result"
    }
   ],
   "source": [
    "obs[\"granular\"].unique()"
   ]
  },
  {
   "cell_type": "code",
   "execution_count": 9,
   "metadata": {
    "tags": []
   },
   "outputs": [
    {
     "data": {
      "text/plain": [
       "3"
      ]
     },
     "execution_count": 9,
     "metadata": {},
     "output_type": "execute_result"
    }
   ],
   "source": [
    "obs[\"individual\"].nunique()"
   ]
  },
  {
   "cell_type": "code",
   "execution_count": 21,
   "metadata": {
    "tags": []
   },
   "outputs": [
    {
     "data": {
      "text/html": [
       "<div>\n",
       "<style scoped>\n",
       "    .dataframe tbody tr th:only-of-type {\n",
       "        vertical-align: middle;\n",
       "    }\n",
       "\n",
       "    .dataframe tbody tr th {\n",
       "        vertical-align: top;\n",
       "    }\n",
       "\n",
       "    .dataframe thead th {\n",
       "        text-align: right;\n",
       "    }\n",
       "</style>\n",
       "<table border=\"1\" class=\"dataframe\">\n",
       "  <thead>\n",
       "    <tr style=\"text-align: right;\">\n",
       "      <th></th>\n",
       "      <th>n_genes</th>\n",
       "      <th>tissue</th>\n",
       "      <th>prep</th>\n",
       "      <th>individual</th>\n",
       "      <th>nGenes</th>\n",
       "      <th>nUMIs</th>\n",
       "      <th>PercentMito</th>\n",
       "      <th>PercentRibo</th>\n",
       "      <th>Age_bin</th>\n",
       "      <th>Sex</th>\n",
       "      <th>...</th>\n",
       "      <th>scrublet_score</th>\n",
       "      <th>barcode</th>\n",
       "      <th>batch</th>\n",
       "      <th>annotation</th>\n",
       "      <th>broad</th>\n",
       "      <th>granular</th>\n",
       "      <th>leiden</th>\n",
       "      <th>Tissue</th>\n",
       "      <th>LAM_prediction</th>\n",
       "      <th>Barcode</th>\n",
       "    </tr>\n",
       "  </thead>\n",
       "  <tbody>\n",
       "    <tr>\n",
       "      <th>CST01_CCTCTGAGTCACCTAA-breast</th>\n",
       "      <td>987</td>\n",
       "      <td>breast</td>\n",
       "      <td>CST</td>\n",
       "      <td>01</td>\n",
       "      <td>987</td>\n",
       "      <td>1376.0</td>\n",
       "      <td>0.0</td>\n",
       "      <td>0.002180</td>\n",
       "      <td>41-50</td>\n",
       "      <td>Female</td>\n",
       "      <td>...</td>\n",
       "      <td>0.094340</td>\n",
       "      <td>CCTCTGAGTCACCTAA</td>\n",
       "      <td>0</td>\n",
       "      <td>LAM-like</td>\n",
       "      <td>Immune (DC/macrophage)</td>\n",
       "      <td>Immune (macrophage II)</td>\n",
       "      <td>18</td>\n",
       "      <td>Breast</td>\n",
       "      <td>LAM</td>\n",
       "      <td>CST01_CCTCTGAGTCACCTAA-breast</td>\n",
       "    </tr>\n",
       "    <tr>\n",
       "      <th>CST01_GGTGCGTCATGCATGT-breast</th>\n",
       "      <td>946</td>\n",
       "      <td>breast</td>\n",
       "      <td>CST</td>\n",
       "      <td>01</td>\n",
       "      <td>946</td>\n",
       "      <td>1312.0</td>\n",
       "      <td>0.0</td>\n",
       "      <td>0.001524</td>\n",
       "      <td>41-50</td>\n",
       "      <td>Female</td>\n",
       "      <td>...</td>\n",
       "      <td>0.070199</td>\n",
       "      <td>GGTGCGTCATGCATGT</td>\n",
       "      <td>0</td>\n",
       "      <td>LAM-like</td>\n",
       "      <td>Immune (DC/macrophage)</td>\n",
       "      <td>Immune (macrophage II)</td>\n",
       "      <td>0</td>\n",
       "      <td>Breast</td>\n",
       "      <td>LAM</td>\n",
       "      <td>CST01_GGTGCGTCATGCATGT-breast</td>\n",
       "    </tr>\n",
       "  </tbody>\n",
       "</table>\n",
       "<p>2 rows × 26 columns</p>\n",
       "</div>"
      ],
      "text/plain": [
       "                               n_genes  tissue prep individual  nGenes  \\\n",
       "CST01_CCTCTGAGTCACCTAA-breast      987  breast  CST         01     987   \n",
       "CST01_GGTGCGTCATGCATGT-breast      946  breast  CST         01     946   \n",
       "\n",
       "                                nUMIs  PercentMito  PercentRibo Age_bin  \\\n",
       "CST01_CCTCTGAGTCACCTAA-breast  1376.0          0.0     0.002180   41-50   \n",
       "CST01_GGTGCGTCATGCATGT-breast  1312.0          0.0     0.001524   41-50   \n",
       "\n",
       "                                  Sex  ... scrublet_score           barcode  \\\n",
       "CST01_CCTCTGAGTCACCTAA-breast  Female  ...       0.094340  CCTCTGAGTCACCTAA   \n",
       "CST01_GGTGCGTCATGCATGT-breast  Female  ...       0.070199  GGTGCGTCATGCATGT   \n",
       "\n",
       "                              batch annotation                   broad  \\\n",
       "CST01_CCTCTGAGTCACCTAA-breast     0   LAM-like  Immune (DC/macrophage)   \n",
       "CST01_GGTGCGTCATGCATGT-breast     0   LAM-like  Immune (DC/macrophage)   \n",
       "\n",
       "                                             granular  leiden  Tissue  \\\n",
       "CST01_CCTCTGAGTCACCTAA-breast  Immune (macrophage II)      18  Breast   \n",
       "CST01_GGTGCGTCATGCATGT-breast  Immune (macrophage II)       0  Breast   \n",
       "\n",
       "                              LAM_prediction                        Barcode  \n",
       "CST01_CCTCTGAGTCACCTAA-breast            LAM  CST01_CCTCTGAGTCACCTAA-breast  \n",
       "CST01_GGTGCGTCATGCATGT-breast            LAM  CST01_GGTGCGTCATGCATGT-breast  \n",
       "\n",
       "[2 rows x 26 columns]"
      ]
     },
     "execution_count": 21,
     "metadata": {},
     "output_type": "execute_result"
    }
   ],
   "source": [
    "obs[\"Barcode\"] = counts.index\n",
    "obs.head(2)"
   ]
  },
  {
   "cell_type": "code",
   "execution_count": 11,
   "metadata": {
    "tags": []
   },
   "outputs": [
    {
     "data": {
      "text/plain": [
       "Index(['n_genes', 'tissue', 'prep', 'individual', 'nGenes', 'nUMIs',\n",
       "       'PercentMito', 'PercentRibo', 'Age_bin', 'Sex', 'Sample ID',\n",
       "       'participant_id', 'Sample ID short', 'Sample Ischemic Time (mins)',\n",
       "       'Tissue Site Detail', 'scrublet', 'scrublet_score', 'barcode', 'batch',\n",
       "       'annotation', 'broad', 'granular', 'leiden', 'Tissue',\n",
       "       'LAM_prediction'],\n",
       "      dtype='object')"
      ]
     },
     "execution_count": 11,
     "metadata": {},
     "output_type": "execute_result"
    }
   ],
   "source": [
    "obs.columns"
   ]
  },
  {
   "cell_type": "code",
   "execution_count": 13,
   "metadata": {
    "tags": []
   },
   "outputs": [
    {
     "data": {
      "text/plain": [
       "n_genes                                             987\n",
       "tissue                                           breast\n",
       "prep                                                CST\n",
       "individual                                           01\n",
       "nGenes                                              987\n",
       "nUMIs                                            1376.0\n",
       "PercentMito                                         0.0\n",
       "PercentRibo                                     0.00218\n",
       "Age_bin                                           41-50\n",
       "Sex                                              Female\n",
       "Sample ID                      GTEX-1R9PN-5002-SM-HD2MC\n",
       "participant_id                               GTEX-1R9PN\n",
       "Sample ID short                         GTEX-1R9PN-5002\n",
       "Sample Ischemic Time (mins)                         387\n",
       "Tissue Site Detail              Breast - Mammary Tissue\n",
       "scrublet                                          False\n",
       "scrublet_score                                  0.09434\n",
       "barcode                                CCTCTGAGTCACCTAA\n",
       "batch                                                 0\n",
       "annotation                                     LAM-like\n",
       "broad                            Immune (DC/macrophage)\n",
       "granular                         Immune (macrophage II)\n",
       "leiden                                               18\n",
       "Tissue                                           Breast\n",
       "LAM_prediction                                      LAM\n",
       "Name: CST01_CCTCTGAGTCACCTAA-breast, dtype: object"
      ]
     },
     "execution_count": 13,
     "metadata": {},
     "output_type": "execute_result"
    }
   ],
   "source": [
    "obs.iloc[0]"
   ]
  },
  {
   "cell_type": "code",
   "execution_count": 24,
   "metadata": {
    "tags": []
   },
   "outputs": [
    {
     "data": {
      "text/plain": [
       "(244, 16151)"
      ]
     },
     "execution_count": 24,
     "metadata": {},
     "output_type": "execute_result"
    }
   ],
   "source": [
    "counts.shape"
   ]
  },
  {
   "cell_type": "code",
   "execution_count": 25,
   "metadata": {
    "tags": []
   },
   "outputs": [
    {
     "data": {
      "text/plain": [
       "(244, 26)"
      ]
     },
     "execution_count": 25,
     "metadata": {},
     "output_type": "execute_result"
    }
   ],
   "source": [
    "obs.shape"
   ]
  },
  {
   "cell_type": "code",
   "execution_count": 53,
   "metadata": {
    "tags": []
   },
   "outputs": [
    {
     "data": {
      "text/html": [
       "<div>\n",
       "<style scoped>\n",
       "    .dataframe tbody tr th:only-of-type {\n",
       "        vertical-align: middle;\n",
       "    }\n",
       "\n",
       "    .dataframe tbody tr th {\n",
       "        vertical-align: top;\n",
       "    }\n",
       "\n",
       "    .dataframe thead th {\n",
       "        text-align: right;\n",
       "    }\n",
       "</style>\n",
       "<table border=\"1\" class=\"dataframe\">\n",
       "  <thead>\n",
       "    <tr style=\"text-align: right;\">\n",
       "      <th></th>\n",
       "      <th>index</th>\n",
       "      <th>granular</th>\n",
       "    </tr>\n",
       "  </thead>\n",
       "  <tbody>\n",
       "    <tr>\n",
       "      <th>0</th>\n",
       "      <td>CST01_CCTCTGAGTCACCTAA-breast</td>\n",
       "      <td>Immune (macrophage II)</td>\n",
       "    </tr>\n",
       "    <tr>\n",
       "      <th>1</th>\n",
       "      <td>CST01_GGTGCGTCATGCATGT-breast</td>\n",
       "      <td>Immune (macrophage II)</td>\n",
       "    </tr>\n",
       "    <tr>\n",
       "      <th>2</th>\n",
       "      <td>CST01_CCAATCCAGGGCTCTC-breast</td>\n",
       "      <td>Immune (macrophage I)</td>\n",
       "    </tr>\n",
       "  </tbody>\n",
       "</table>\n",
       "</div>"
      ],
      "text/plain": [
       "                           index                granular\n",
       "0  CST01_CCTCTGAGTCACCTAA-breast  Immune (macrophage II)\n",
       "1  CST01_GGTGCGTCATGCATGT-breast  Immune (macrophage II)\n",
       "2  CST01_CCAATCCAGGGCTCTC-breast   Immune (macrophage I)"
      ]
     },
     "execution_count": 53,
     "metadata": {},
     "output_type": "execute_result"
    }
   ],
   "source": [
    "ct = obs[\"granular\"].reset_index()\n",
    "ct.head(3)"
   ]
  },
  {
   "cell_type": "code",
   "execution_count": 61,
   "metadata": {
    "tags": []
   },
   "outputs": [
    {
     "data": {
      "text/html": [
       "<div>\n",
       "<style scoped>\n",
       "    .dataframe tbody tr th:only-of-type {\n",
       "        vertical-align: middle;\n",
       "    }\n",
       "\n",
       "    .dataframe tbody tr th {\n",
       "        vertical-align: top;\n",
       "    }\n",
       "\n",
       "    .dataframe thead th {\n",
       "        text-align: right;\n",
       "    }\n",
       "</style>\n",
       "<table border=\"1\" class=\"dataframe\">\n",
       "  <thead>\n",
       "    <tr style=\"text-align: right;\">\n",
       "      <th></th>\n",
       "      <th>FO538757.2</th>\n",
       "      <th>SAMD11</th>\n",
       "      <th>NOC2L</th>\n",
       "      <th>KLHL17</th>\n",
       "      <th>PLEKHN1</th>\n",
       "      <th>HES4</th>\n",
       "      <th>ISG15</th>\n",
       "      <th>AGRN</th>\n",
       "      <th>C1orf159</th>\n",
       "      <th>TTLL10</th>\n",
       "      <th>...</th>\n",
       "      <th>SPATC1L</th>\n",
       "      <th>LSS</th>\n",
       "      <th>MCM3AP</th>\n",
       "      <th>YBEY</th>\n",
       "      <th>C21orf58</th>\n",
       "      <th>PCNT</th>\n",
       "      <th>DIP2A</th>\n",
       "      <th>S100B</th>\n",
       "      <th>PRMT2</th>\n",
       "      <th>granular</th>\n",
       "    </tr>\n",
       "    <tr>\n",
       "      <th>Barcode</th>\n",
       "      <th></th>\n",
       "      <th></th>\n",
       "      <th></th>\n",
       "      <th></th>\n",
       "      <th></th>\n",
       "      <th></th>\n",
       "      <th></th>\n",
       "      <th></th>\n",
       "      <th></th>\n",
       "      <th></th>\n",
       "      <th></th>\n",
       "      <th></th>\n",
       "      <th></th>\n",
       "      <th></th>\n",
       "      <th></th>\n",
       "      <th></th>\n",
       "      <th></th>\n",
       "      <th></th>\n",
       "      <th></th>\n",
       "      <th></th>\n",
       "      <th></th>\n",
       "    </tr>\n",
       "  </thead>\n",
       "  <tbody>\n",
       "    <tr>\n",
       "      <th>CST01_CCTCTGAGTCACCTAA-breast</th>\n",
       "      <td>0.0</td>\n",
       "      <td>0.0</td>\n",
       "      <td>0.0</td>\n",
       "      <td>0.0</td>\n",
       "      <td>0.0</td>\n",
       "      <td>0.0</td>\n",
       "      <td>0.0</td>\n",
       "      <td>0.0</td>\n",
       "      <td>0.0</td>\n",
       "      <td>0.0</td>\n",
       "      <td>...</td>\n",
       "      <td>0.0</td>\n",
       "      <td>0.0</td>\n",
       "      <td>1.0</td>\n",
       "      <td>0.0</td>\n",
       "      <td>0.0</td>\n",
       "      <td>0.0</td>\n",
       "      <td>0.0</td>\n",
       "      <td>0.0</td>\n",
       "      <td>0.0</td>\n",
       "      <td>Immune (macrophage II)</td>\n",
       "    </tr>\n",
       "    <tr>\n",
       "      <th>CST01_GGTGCGTCATGCATGT-breast</th>\n",
       "      <td>0.0</td>\n",
       "      <td>0.0</td>\n",
       "      <td>0.0</td>\n",
       "      <td>0.0</td>\n",
       "      <td>0.0</td>\n",
       "      <td>0.0</td>\n",
       "      <td>0.0</td>\n",
       "      <td>0.0</td>\n",
       "      <td>0.0</td>\n",
       "      <td>0.0</td>\n",
       "      <td>...</td>\n",
       "      <td>0.0</td>\n",
       "      <td>0.0</td>\n",
       "      <td>0.0</td>\n",
       "      <td>0.0</td>\n",
       "      <td>0.0</td>\n",
       "      <td>0.0</td>\n",
       "      <td>0.0</td>\n",
       "      <td>0.0</td>\n",
       "      <td>1.0</td>\n",
       "      <td>Immune (macrophage II)</td>\n",
       "    </tr>\n",
       "    <tr>\n",
       "      <th>CST01_CCAATCCAGGGCTCTC-breast</th>\n",
       "      <td>0.0</td>\n",
       "      <td>0.0</td>\n",
       "      <td>0.0</td>\n",
       "      <td>0.0</td>\n",
       "      <td>0.0</td>\n",
       "      <td>0.0</td>\n",
       "      <td>0.0</td>\n",
       "      <td>0.0</td>\n",
       "      <td>0.0</td>\n",
       "      <td>0.0</td>\n",
       "      <td>...</td>\n",
       "      <td>0.0</td>\n",
       "      <td>0.0</td>\n",
       "      <td>0.0</td>\n",
       "      <td>0.0</td>\n",
       "      <td>0.0</td>\n",
       "      <td>0.0</td>\n",
       "      <td>0.0</td>\n",
       "      <td>0.0</td>\n",
       "      <td>0.0</td>\n",
       "      <td>Immune (macrophage I)</td>\n",
       "    </tr>\n",
       "  </tbody>\n",
       "</table>\n",
       "<p>3 rows × 16151 columns</p>\n",
       "</div>"
      ],
      "text/plain": [
       "                               FO538757.2  SAMD11  NOC2L  KLHL17  PLEKHN1  \\\n",
       "Barcode                                                                     \n",
       "CST01_CCTCTGAGTCACCTAA-breast         0.0     0.0    0.0     0.0      0.0   \n",
       "CST01_GGTGCGTCATGCATGT-breast         0.0     0.0    0.0     0.0      0.0   \n",
       "CST01_CCAATCCAGGGCTCTC-breast         0.0     0.0    0.0     0.0      0.0   \n",
       "\n",
       "                               HES4  ISG15  AGRN  C1orf159  TTLL10  ...  \\\n",
       "Barcode                                                             ...   \n",
       "CST01_CCTCTGAGTCACCTAA-breast   0.0    0.0   0.0       0.0     0.0  ...   \n",
       "CST01_GGTGCGTCATGCATGT-breast   0.0    0.0   0.0       0.0     0.0  ...   \n",
       "CST01_CCAATCCAGGGCTCTC-breast   0.0    0.0   0.0       0.0     0.0  ...   \n",
       "\n",
       "                               SPATC1L  LSS  MCM3AP  YBEY  C21orf58  PCNT  \\\n",
       "Barcode                                                                     \n",
       "CST01_CCTCTGAGTCACCTAA-breast      0.0  0.0     1.0   0.0       0.0   0.0   \n",
       "CST01_GGTGCGTCATGCATGT-breast      0.0  0.0     0.0   0.0       0.0   0.0   \n",
       "CST01_CCAATCCAGGGCTCTC-breast      0.0  0.0     0.0   0.0       0.0   0.0   \n",
       "\n",
       "                               DIP2A  S100B  PRMT2                granular  \n",
       "Barcode                                                                     \n",
       "CST01_CCTCTGAGTCACCTAA-breast    0.0    0.0    0.0  Immune (macrophage II)  \n",
       "CST01_GGTGCGTCATGCATGT-breast    0.0    0.0    1.0  Immune (macrophage II)  \n",
       "CST01_CCAATCCAGGGCTCTC-breast    0.0    0.0    0.0   Immune (macrophage I)  \n",
       "\n",
       "[3 rows x 16151 columns]"
      ]
     },
     "execution_count": 61,
     "metadata": {},
     "output_type": "execute_result"
    }
   ],
   "source": [
    "df = pd.merge(counts.reset_index(), ct, on=\"index\")\n",
    "df = df.rename({\"index\": \"Barcode\"}, axis=1)\n",
    "df = df.set_index(\"Barcode\")\n",
    "df.head(3)"
   ]
  },
  {
   "cell_type": "code",
   "execution_count": 82,
   "metadata": {
    "tags": []
   },
   "outputs": [
    {
     "data": {
      "text/plain": [
       "Barcode\n",
       "CST01_CCTCTGAGTCACCTAA-breast    Immune (macrophage II)\n",
       "CST01_GGTGCGTCATGCATGT-breast    Immune (macrophage II)\n",
       "CST01_CCAATCCAGGGCTCTC-breast     Immune (macrophage I)\n",
       "Name: CellType, dtype: category\n",
       "Categories (5, object): ['Epithelial cell (luminal I)', 'Epithelial cell (luminal II)', 'Immune (macrophage I)', 'Immune (macrophage II)', 'Immune (macrophage III)']"
      ]
     },
     "execution_count": 82,
     "metadata": {},
     "output_type": "execute_result"
    }
   ],
   "source": [
    "annotation_df = df.copy()\n",
    "annotation_df = annotation_df.rename({\"granular\":\"CellType\"}, axis=1)\n",
    "annotation_df = annotation_df.iloc[:,-1]\n",
    "annotation_df.head(3)"
   ]
  },
  {
   "cell_type": "code",
   "execution_count": 84,
   "metadata": {
    "tags": []
   },
   "outputs": [
    {
     "data": {
      "text/plain": [
       "Barcode\n",
       "CST01_CCTCTGAGTCACCTAA-breast     Immune (macrophage II)\n",
       "CST01_GGTGCGTCATGCATGT-breast     Immune (macrophage II)\n",
       "CST01_CCAATCCAGGGCTCTC-breast      Immune (macrophage I)\n",
       "CST01_GATCAGTCAGTCACTA-breast      Immune (macrophage I)\n",
       "CST01_CGTTGGGGTGCTAGCC-breast      Immune (macrophage I)\n",
       "                                          ...           \n",
       "TST01_CTGCTGTAGTGGGATC-breast      Immune (macrophage I)\n",
       "TST01_GCTGCGAGTGATGTCT-breast      Immune (macrophage I)\n",
       "NST02_TTAACTCAGCCAGTTT-breast      Immune (macrophage I)\n",
       "NST03_ACACCGGTCCGCGTTT-breast    Immune (macrophage III)\n",
       "TST03_GTATTCTCAGCCTTTC-breast     Immune (macrophage II)\n",
       "Name: CellType, Length: 170, dtype: category\n",
       "Categories (5, object): ['Epithelial cell (luminal I)', 'Epithelial cell (luminal II)', 'Immune (macrophage I)', 'Immune (macrophage II)', 'Immune (macrophage III)']"
      ]
     },
     "execution_count": 84,
     "metadata": {},
     "output_type": "execute_result"
    }
   ],
   "source": [
    "annotation_df[~annotation_df.isna()]"
   ]
  },
  {
   "cell_type": "code",
   "execution_count": 76,
   "metadata": {
    "tags": []
   },
   "outputs": [],
   "source": [
    "path = \"../data/brca/gtex/annotation.csv\"\n",
    "annotation_df.to_csv(path, sep=\",\")"
   ]
  },
  {
   "cell_type": "code",
   "execution_count": 78,
   "metadata": {
    "tags": []
   },
   "outputs": [
    {
     "data": {
      "text/html": [
       "<div>\n",
       "<style scoped>\n",
       "    .dataframe tbody tr th:only-of-type {\n",
       "        vertical-align: middle;\n",
       "    }\n",
       "\n",
       "    .dataframe tbody tr th {\n",
       "        vertical-align: top;\n",
       "    }\n",
       "\n",
       "    .dataframe thead th {\n",
       "        text-align: right;\n",
       "    }\n",
       "</style>\n",
       "<table border=\"1\" class=\"dataframe\">\n",
       "  <thead>\n",
       "    <tr style=\"text-align: right;\">\n",
       "      <th></th>\n",
       "      <th>FO538757.2</th>\n",
       "      <th>SAMD11</th>\n",
       "      <th>NOC2L</th>\n",
       "      <th>KLHL17</th>\n",
       "      <th>PLEKHN1</th>\n",
       "      <th>HES4</th>\n",
       "      <th>ISG15</th>\n",
       "      <th>AGRN</th>\n",
       "      <th>C1orf159</th>\n",
       "      <th>TTLL10</th>\n",
       "      <th>...</th>\n",
       "      <th>FTCD</th>\n",
       "      <th>SPATC1L</th>\n",
       "      <th>LSS</th>\n",
       "      <th>MCM3AP</th>\n",
       "      <th>YBEY</th>\n",
       "      <th>C21orf58</th>\n",
       "      <th>PCNT</th>\n",
       "      <th>DIP2A</th>\n",
       "      <th>S100B</th>\n",
       "      <th>PRMT2</th>\n",
       "    </tr>\n",
       "  </thead>\n",
       "  <tbody>\n",
       "    <tr>\n",
       "      <th>CST01_CCTCTGAGTCACCTAA-breast</th>\n",
       "      <td>0.0</td>\n",
       "      <td>0.0</td>\n",
       "      <td>0.0</td>\n",
       "      <td>0.0</td>\n",
       "      <td>0.0</td>\n",
       "      <td>0.0</td>\n",
       "      <td>0.0</td>\n",
       "      <td>0.0</td>\n",
       "      <td>0.0</td>\n",
       "      <td>0.0</td>\n",
       "      <td>...</td>\n",
       "      <td>0.0</td>\n",
       "      <td>0.0</td>\n",
       "      <td>0.0</td>\n",
       "      <td>1.0</td>\n",
       "      <td>0.0</td>\n",
       "      <td>0.0</td>\n",
       "      <td>0.0</td>\n",
       "      <td>0.0</td>\n",
       "      <td>0.0</td>\n",
       "      <td>0.0</td>\n",
       "    </tr>\n",
       "    <tr>\n",
       "      <th>CST01_GGTGCGTCATGCATGT-breast</th>\n",
       "      <td>0.0</td>\n",
       "      <td>0.0</td>\n",
       "      <td>0.0</td>\n",
       "      <td>0.0</td>\n",
       "      <td>0.0</td>\n",
       "      <td>0.0</td>\n",
       "      <td>0.0</td>\n",
       "      <td>0.0</td>\n",
       "      <td>0.0</td>\n",
       "      <td>0.0</td>\n",
       "      <td>...</td>\n",
       "      <td>0.0</td>\n",
       "      <td>0.0</td>\n",
       "      <td>0.0</td>\n",
       "      <td>0.0</td>\n",
       "      <td>0.0</td>\n",
       "      <td>0.0</td>\n",
       "      <td>0.0</td>\n",
       "      <td>0.0</td>\n",
       "      <td>0.0</td>\n",
       "      <td>1.0</td>\n",
       "    </tr>\n",
       "    <tr>\n",
       "      <th>CST01_CCAATCCAGGGCTCTC-breast</th>\n",
       "      <td>0.0</td>\n",
       "      <td>0.0</td>\n",
       "      <td>0.0</td>\n",
       "      <td>0.0</td>\n",
       "      <td>0.0</td>\n",
       "      <td>0.0</td>\n",
       "      <td>0.0</td>\n",
       "      <td>0.0</td>\n",
       "      <td>0.0</td>\n",
       "      <td>0.0</td>\n",
       "      <td>...</td>\n",
       "      <td>0.0</td>\n",
       "      <td>0.0</td>\n",
       "      <td>0.0</td>\n",
       "      <td>0.0</td>\n",
       "      <td>0.0</td>\n",
       "      <td>0.0</td>\n",
       "      <td>0.0</td>\n",
       "      <td>0.0</td>\n",
       "      <td>0.0</td>\n",
       "      <td>0.0</td>\n",
       "    </tr>\n",
       "    <tr>\n",
       "      <th>CST01_GATCAGTCAGTCACTA-breast</th>\n",
       "      <td>0.0</td>\n",
       "      <td>0.0</td>\n",
       "      <td>0.0</td>\n",
       "      <td>0.0</td>\n",
       "      <td>0.0</td>\n",
       "      <td>0.0</td>\n",
       "      <td>0.0</td>\n",
       "      <td>0.0</td>\n",
       "      <td>0.0</td>\n",
       "      <td>0.0</td>\n",
       "      <td>...</td>\n",
       "      <td>0.0</td>\n",
       "      <td>0.0</td>\n",
       "      <td>0.0</td>\n",
       "      <td>0.0</td>\n",
       "      <td>0.0</td>\n",
       "      <td>0.0</td>\n",
       "      <td>0.0</td>\n",
       "      <td>0.0</td>\n",
       "      <td>0.0</td>\n",
       "      <td>0.0</td>\n",
       "    </tr>\n",
       "    <tr>\n",
       "      <th>CST01_CGTTGGGGTGCTAGCC-breast</th>\n",
       "      <td>0.0</td>\n",
       "      <td>0.0</td>\n",
       "      <td>0.0</td>\n",
       "      <td>0.0</td>\n",
       "      <td>0.0</td>\n",
       "      <td>0.0</td>\n",
       "      <td>0.0</td>\n",
       "      <td>0.0</td>\n",
       "      <td>0.0</td>\n",
       "      <td>0.0</td>\n",
       "      <td>...</td>\n",
       "      <td>0.0</td>\n",
       "      <td>0.0</td>\n",
       "      <td>0.0</td>\n",
       "      <td>0.0</td>\n",
       "      <td>0.0</td>\n",
       "      <td>0.0</td>\n",
       "      <td>0.0</td>\n",
       "      <td>0.0</td>\n",
       "      <td>0.0</td>\n",
       "      <td>0.0</td>\n",
       "    </tr>\n",
       "  </tbody>\n",
       "</table>\n",
       "<p>5 rows × 16150 columns</p>\n",
       "</div>"
      ],
      "text/plain": [
       "                               FO538757.2  SAMD11  NOC2L  KLHL17  PLEKHN1  \\\n",
       "CST01_CCTCTGAGTCACCTAA-breast         0.0     0.0    0.0     0.0      0.0   \n",
       "CST01_GGTGCGTCATGCATGT-breast         0.0     0.0    0.0     0.0      0.0   \n",
       "CST01_CCAATCCAGGGCTCTC-breast         0.0     0.0    0.0     0.0      0.0   \n",
       "CST01_GATCAGTCAGTCACTA-breast         0.0     0.0    0.0     0.0      0.0   \n",
       "CST01_CGTTGGGGTGCTAGCC-breast         0.0     0.0    0.0     0.0      0.0   \n",
       "\n",
       "                               HES4  ISG15  AGRN  C1orf159  TTLL10  ...  FTCD  \\\n",
       "CST01_CCTCTGAGTCACCTAA-breast   0.0    0.0   0.0       0.0     0.0  ...   0.0   \n",
       "CST01_GGTGCGTCATGCATGT-breast   0.0    0.0   0.0       0.0     0.0  ...   0.0   \n",
       "CST01_CCAATCCAGGGCTCTC-breast   0.0    0.0   0.0       0.0     0.0  ...   0.0   \n",
       "CST01_GATCAGTCAGTCACTA-breast   0.0    0.0   0.0       0.0     0.0  ...   0.0   \n",
       "CST01_CGTTGGGGTGCTAGCC-breast   0.0    0.0   0.0       0.0     0.0  ...   0.0   \n",
       "\n",
       "                               SPATC1L  LSS  MCM3AP  YBEY  C21orf58  PCNT  \\\n",
       "CST01_CCTCTGAGTCACCTAA-breast      0.0  0.0     1.0   0.0       0.0   0.0   \n",
       "CST01_GGTGCGTCATGCATGT-breast      0.0  0.0     0.0   0.0       0.0   0.0   \n",
       "CST01_CCAATCCAGGGCTCTC-breast      0.0  0.0     0.0   0.0       0.0   0.0   \n",
       "CST01_GATCAGTCAGTCACTA-breast      0.0  0.0     0.0   0.0       0.0   0.0   \n",
       "CST01_CGTTGGGGTGCTAGCC-breast      0.0  0.0     0.0   0.0       0.0   0.0   \n",
       "\n",
       "                               DIP2A  S100B  PRMT2  \n",
       "CST01_CCTCTGAGTCACCTAA-breast    0.0    0.0    0.0  \n",
       "CST01_GGTGCGTCATGCATGT-breast    0.0    0.0    1.0  \n",
       "CST01_CCAATCCAGGGCTCTC-breast    0.0    0.0    0.0  \n",
       "CST01_GATCAGTCAGTCACTA-breast    0.0    0.0    0.0  \n",
       "CST01_CGTTGGGGTGCTAGCC-breast    0.0    0.0    0.0  \n",
       "\n",
       "[5 rows x 16150 columns]"
      ]
     },
     "execution_count": 78,
     "metadata": {},
     "output_type": "execute_result"
    }
   ],
   "source": [
    "counts.head()"
   ]
  },
  {
   "cell_type": "code",
   "execution_count": 80,
   "metadata": {
    "tags": []
   },
   "outputs": [
    {
     "data": {
      "text/html": [
       "<div>\n",
       "<style scoped>\n",
       "    .dataframe tbody tr th:only-of-type {\n",
       "        vertical-align: middle;\n",
       "    }\n",
       "\n",
       "    .dataframe tbody tr th {\n",
       "        vertical-align: top;\n",
       "    }\n",
       "\n",
       "    .dataframe thead th {\n",
       "        text-align: right;\n",
       "    }\n",
       "</style>\n",
       "<table border=\"1\" class=\"dataframe\">\n",
       "  <thead>\n",
       "    <tr style=\"text-align: right;\">\n",
       "      <th></th>\n",
       "      <th>CST01_CCTCTGAGTCACCTAA-breast</th>\n",
       "      <th>CST01_GGTGCGTCATGCATGT-breast</th>\n",
       "      <th>CST01_CCAATCCAGGGCTCTC-breast</th>\n",
       "      <th>CST01_GATCAGTCAGTCACTA-breast</th>\n",
       "      <th>CST01_CGTTGGGGTGCTAGCC-breast</th>\n",
       "      <th>CST01_CACCAGGTCGCGGATC-breast</th>\n",
       "      <th>CST01_TCATTTGCACAGACTT-breast</th>\n",
       "      <th>CST01_CGTTAGATCCTCATTA-breast</th>\n",
       "      <th>CST01_TGCTGCTCAATGGTCT-breast</th>\n",
       "      <th>CST01_GTGAAGGGTACAGACG-breast</th>\n",
       "      <th>...</th>\n",
       "      <th>TST01_GGACAGAAGGGATGGG-breast</th>\n",
       "      <th>TST01_GACTGCGCAGCCTTTC-breast</th>\n",
       "      <th>TST01_TGACTTTTCTCGCTTG-breast</th>\n",
       "      <th>TST01_GCAGTTAGTAAGGGAA-breast</th>\n",
       "      <th>CST02_CTCACACCAAGTCATC-breast</th>\n",
       "      <th>EZ02_ACTGAGTTCAATCTCT-breast</th>\n",
       "      <th>NST02_TTAACTCAGCCAGTTT-breast</th>\n",
       "      <th>NST03_ACACCGGTCCGCGTTT-breast</th>\n",
       "      <th>NST03_CGATGTATCTAACTCT-breast</th>\n",
       "      <th>TST03_GTATTCTCAGCCTTTC-breast</th>\n",
       "    </tr>\n",
       "  </thead>\n",
       "  <tbody>\n",
       "    <tr>\n",
       "      <th>FO538757.2</th>\n",
       "      <td>0.0</td>\n",
       "      <td>0.0</td>\n",
       "      <td>0.0</td>\n",
       "      <td>0.0</td>\n",
       "      <td>0.0</td>\n",
       "      <td>0.0</td>\n",
       "      <td>0.0</td>\n",
       "      <td>0.0</td>\n",
       "      <td>0.0</td>\n",
       "      <td>1.0</td>\n",
       "      <td>...</td>\n",
       "      <td>0.0</td>\n",
       "      <td>0.0</td>\n",
       "      <td>1.0</td>\n",
       "      <td>0.0</td>\n",
       "      <td>0.0</td>\n",
       "      <td>0.0</td>\n",
       "      <td>0.0</td>\n",
       "      <td>1.0</td>\n",
       "      <td>0.0</td>\n",
       "      <td>3.0</td>\n",
       "    </tr>\n",
       "    <tr>\n",
       "      <th>SAMD11</th>\n",
       "      <td>0.0</td>\n",
       "      <td>0.0</td>\n",
       "      <td>0.0</td>\n",
       "      <td>0.0</td>\n",
       "      <td>0.0</td>\n",
       "      <td>0.0</td>\n",
       "      <td>0.0</td>\n",
       "      <td>0.0</td>\n",
       "      <td>0.0</td>\n",
       "      <td>0.0</td>\n",
       "      <td>...</td>\n",
       "      <td>0.0</td>\n",
       "      <td>0.0</td>\n",
       "      <td>0.0</td>\n",
       "      <td>0.0</td>\n",
       "      <td>0.0</td>\n",
       "      <td>0.0</td>\n",
       "      <td>0.0</td>\n",
       "      <td>0.0</td>\n",
       "      <td>0.0</td>\n",
       "      <td>0.0</td>\n",
       "    </tr>\n",
       "  </tbody>\n",
       "</table>\n",
       "<p>2 rows × 244 columns</p>\n",
       "</div>"
      ],
      "text/plain": [
       "            CST01_CCTCTGAGTCACCTAA-breast  CST01_GGTGCGTCATGCATGT-breast  \\\n",
       "FO538757.2                            0.0                            0.0   \n",
       "SAMD11                                0.0                            0.0   \n",
       "\n",
       "            CST01_CCAATCCAGGGCTCTC-breast  CST01_GATCAGTCAGTCACTA-breast  \\\n",
       "FO538757.2                            0.0                            0.0   \n",
       "SAMD11                                0.0                            0.0   \n",
       "\n",
       "            CST01_CGTTGGGGTGCTAGCC-breast  CST01_CACCAGGTCGCGGATC-breast  \\\n",
       "FO538757.2                            0.0                            0.0   \n",
       "SAMD11                                0.0                            0.0   \n",
       "\n",
       "            CST01_TCATTTGCACAGACTT-breast  CST01_CGTTAGATCCTCATTA-breast  \\\n",
       "FO538757.2                            0.0                            0.0   \n",
       "SAMD11                                0.0                            0.0   \n",
       "\n",
       "            CST01_TGCTGCTCAATGGTCT-breast  CST01_GTGAAGGGTACAGACG-breast  ...  \\\n",
       "FO538757.2                            0.0                            1.0  ...   \n",
       "SAMD11                                0.0                            0.0  ...   \n",
       "\n",
       "            TST01_GGACAGAAGGGATGGG-breast  TST01_GACTGCGCAGCCTTTC-breast  \\\n",
       "FO538757.2                            0.0                            0.0   \n",
       "SAMD11                                0.0                            0.0   \n",
       "\n",
       "            TST01_TGACTTTTCTCGCTTG-breast  TST01_GCAGTTAGTAAGGGAA-breast  \\\n",
       "FO538757.2                            1.0                            0.0   \n",
       "SAMD11                                0.0                            0.0   \n",
       "\n",
       "            CST02_CTCACACCAAGTCATC-breast  EZ02_ACTGAGTTCAATCTCT-breast  \\\n",
       "FO538757.2                            0.0                           0.0   \n",
       "SAMD11                                0.0                           0.0   \n",
       "\n",
       "            NST02_TTAACTCAGCCAGTTT-breast  NST03_ACACCGGTCCGCGTTT-breast  \\\n",
       "FO538757.2                            0.0                            1.0   \n",
       "SAMD11                                0.0                            0.0   \n",
       "\n",
       "            NST03_CGATGTATCTAACTCT-breast  TST03_GTATTCTCAGCCTTTC-breast  \n",
       "FO538757.2                            0.0                            3.0  \n",
       "SAMD11                                0.0                            0.0  \n",
       "\n",
       "[2 rows x 244 columns]"
      ]
     },
     "execution_count": 80,
     "metadata": {},
     "output_type": "execute_result"
    }
   ],
   "source": [
    "expr = counts.T\n",
    "expr.head(2)"
   ]
  },
  {
   "cell_type": "code",
   "execution_count": 81,
   "metadata": {
    "tags": []
   },
   "outputs": [],
   "source": [
    "path = \"../data/brca/gtex/counts.csv\"\n",
    "expr.to_csv(path, sep=\",\")"
   ]
  },
  {
   "cell_type": "code",
   "execution_count": null,
   "metadata": {},
   "outputs": [],
   "source": []
  }
 ],
 "metadata": {
  "kernelspec": {
   "display_name": "compbio",
   "language": "python",
   "name": "compbio"
  },
  "language_info": {
   "codemirror_mode": {
    "name": "ipython",
    "version": 3
   },
   "file_extension": ".py",
   "mimetype": "text/x-python",
   "name": "python",
   "nbconvert_exporter": "python",
   "pygments_lexer": "ipython3",
   "version": "3.9.7"
  }
 },
 "nbformat": 4,
 "nbformat_minor": 4
}
