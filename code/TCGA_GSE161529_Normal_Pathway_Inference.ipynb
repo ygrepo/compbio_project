{
 "cells": [
  {
   "cell_type": "code",
   "execution_count": 1,
   "id": "0b146c0f-87d1-4c2b-9fb0-b39bcc99ee4c",
   "metadata": {
    "tags": []
   },
   "outputs": [],
   "source": [
    "import scanpy as sc\n",
    "import pandas as pd\n",
    "import decoupler as dc\n",
    "from anndata import AnnData\n",
    "\n",
    "# Only needed for visualization:\n",
    "import matplotlib.pyplot as plt\n",
    "import seaborn as sns\n",
    "\n",
    "import hdf5plugin"
   ]
  },
  {
   "cell_type": "code",
   "execution_count": 2,
   "id": "2a0c68c9-869e-4c39-aa89-da6289c5fee4",
   "metadata": {
    "tags": []
   },
   "outputs": [],
   "source": [
    "path = \"../data/brca/tcga/processed/GSE161529/genes_prop_subtypes_cells_normal.csv\"\n",
    "adata = pd.read_csv(path, sep=\",\").T\n",
    "adata = adata.iloc[0:3,:]"
   ]
  },
  {
   "cell_type": "code",
   "execution_count": 3,
   "id": "5dede6ed-f4e0-433c-be7a-7112615ad7db",
   "metadata": {
    "tags": []
   },
   "outputs": [
    {
     "data": {
      "text/html": [
       "<div>\n",
       "<style scoped>\n",
       "    .dataframe tbody tr th:only-of-type {\n",
       "        vertical-align: middle;\n",
       "    }\n",
       "\n",
       "    .dataframe tbody tr th {\n",
       "        vertical-align: top;\n",
       "    }\n",
       "\n",
       "    .dataframe thead th {\n",
       "        text-align: right;\n",
       "    }\n",
       "</style>\n",
       "<table border=\"1\" class=\"dataframe\">\n",
       "  <thead>\n",
       "    <tr style=\"text-align: right;\">\n",
       "      <th></th>\n",
       "      <th>TSPAN6</th>\n",
       "      <th>TNMD</th>\n",
       "      <th>DPM1</th>\n",
       "      <th>SCYL3</th>\n",
       "      <th>C1orf112</th>\n",
       "      <th>FGR</th>\n",
       "      <th>CFH</th>\n",
       "      <th>FUCA2</th>\n",
       "      <th>GCLC</th>\n",
       "      <th>NFYA</th>\n",
       "      <th>...</th>\n",
       "      <th>RP11-744A16.4</th>\n",
       "      <th>PAUPAR</th>\n",
       "      <th>RP11-65B7.2</th>\n",
       "      <th>GIMAP1-GIMAP5</th>\n",
       "      <th>RP11-274B21.13</th>\n",
       "      <th>AF127936.7</th>\n",
       "      <th>CH17-132F21.5</th>\n",
       "      <th>RP11-439M15.1</th>\n",
       "      <th>LINC01144</th>\n",
       "      <th>RP11-418H16.1</th>\n",
       "    </tr>\n",
       "  </thead>\n",
       "  <tbody>\n",
       "    <tr>\n",
       "      <th>I3 T cell</th>\n",
       "      <td>306908.403883</td>\n",
       "      <td>52912.365936</td>\n",
       "      <td>115666.913110</td>\n",
       "      <td>85601.649366</td>\n",
       "      <td>20469.777124</td>\n",
       "      <td>49877.022988</td>\n",
       "      <td>516312.356479</td>\n",
       "      <td>130917.288751</td>\n",
       "      <td>176015.091877</td>\n",
       "      <td>145164.930126</td>\n",
       "      <td>...</td>\n",
       "      <td>6.414516</td>\n",
       "      <td>14.431680</td>\n",
       "      <td>109.260955</td>\n",
       "      <td>0.0</td>\n",
       "      <td>14.329764</td>\n",
       "      <td>738.261116</td>\n",
       "      <td>58.694433</td>\n",
       "      <td>46.033138</td>\n",
       "      <td>5863.076237</td>\n",
       "      <td>273.638524</td>\n",
       "    </tr>\n",
       "    <tr>\n",
       "      <th>I5 Plasma cell</th>\n",
       "      <td>3204.195471</td>\n",
       "      <td>264.298255</td>\n",
       "      <td>1158.055176</td>\n",
       "      <td>863.881266</td>\n",
       "      <td>164.010084</td>\n",
       "      <td>265.475651</td>\n",
       "      <td>2038.154760</td>\n",
       "      <td>1220.531531</td>\n",
       "      <td>1232.351483</td>\n",
       "      <td>1345.560826</td>\n",
       "      <td>...</td>\n",
       "      <td>0.066488</td>\n",
       "      <td>0.134212</td>\n",
       "      <td>0.417081</td>\n",
       "      <td>0.0</td>\n",
       "      <td>0.171273</td>\n",
       "      <td>3.835534</td>\n",
       "      <td>0.597043</td>\n",
       "      <td>0.212605</td>\n",
       "      <td>85.097735</td>\n",
       "      <td>3.941455</td>\n",
       "    </tr>\n",
       "    <tr>\n",
       "      <th>I1 Myeloid cell</th>\n",
       "      <td>202554.440966</td>\n",
       "      <td>38804.895736</td>\n",
       "      <td>78938.734639</td>\n",
       "      <td>55365.299069</td>\n",
       "      <td>13545.568544</td>\n",
       "      <td>32673.200360</td>\n",
       "      <td>374858.227258</td>\n",
       "      <td>89040.819359</td>\n",
       "      <td>133488.347442</td>\n",
       "      <td>93854.275880</td>\n",
       "      <td>...</td>\n",
       "      <td>5.402443</td>\n",
       "      <td>8.932429</td>\n",
       "      <td>71.525943</td>\n",
       "      <td>0.0</td>\n",
       "      <td>8.271746</td>\n",
       "      <td>519.739157</td>\n",
       "      <td>48.096404</td>\n",
       "      <td>27.707610</td>\n",
       "      <td>3590.986753</td>\n",
       "      <td>174.215185</td>\n",
       "    </tr>\n",
       "  </tbody>\n",
       "</table>\n",
       "<p>3 rows × 54645 columns</p>\n",
       "</div>"
      ],
      "text/plain": [
       "                        TSPAN6          TNMD           DPM1         SCYL3  \\\n",
       "I3 T cell        306908.403883  52912.365936  115666.913110  85601.649366   \n",
       "I5 Plasma cell     3204.195471    264.298255    1158.055176    863.881266   \n",
       "I1 Myeloid cell  202554.440966  38804.895736   78938.734639  55365.299069   \n",
       "\n",
       "                     C1orf112           FGR            CFH          FUCA2  \\\n",
       "I3 T cell        20469.777124  49877.022988  516312.356479  130917.288751   \n",
       "I5 Plasma cell     164.010084    265.475651    2038.154760    1220.531531   \n",
       "I1 Myeloid cell  13545.568544  32673.200360  374858.227258   89040.819359   \n",
       "\n",
       "                          GCLC           NFYA  ...  RP11-744A16.4     PAUPAR  \\\n",
       "I3 T cell        176015.091877  145164.930126  ...       6.414516  14.431680   \n",
       "I5 Plasma cell     1232.351483    1345.560826  ...       0.066488   0.134212   \n",
       "I1 Myeloid cell  133488.347442   93854.275880  ...       5.402443   8.932429   \n",
       "\n",
       "                 RP11-65B7.2  GIMAP1-GIMAP5  RP11-274B21.13  AF127936.7  \\\n",
       "I3 T cell         109.260955            0.0       14.329764  738.261116   \n",
       "I5 Plasma cell      0.417081            0.0        0.171273    3.835534   \n",
       "I1 Myeloid cell    71.525943            0.0        8.271746  519.739157   \n",
       "\n",
       "                 CH17-132F21.5  RP11-439M15.1    LINC01144  RP11-418H16.1  \n",
       "I3 T cell            58.694433      46.033138  5863.076237     273.638524  \n",
       "I5 Plasma cell        0.597043       0.212605    85.097735       3.941455  \n",
       "I1 Myeloid cell      48.096404      27.707610  3590.986753     174.215185  \n",
       "\n",
       "[3 rows x 54645 columns]"
      ]
     },
     "execution_count": 3,
     "metadata": {},
     "output_type": "execute_result"
    }
   ],
   "source": [
    "adata.head(5)"
   ]
  },
  {
   "cell_type": "code",
   "execution_count": 4,
   "id": "c3519e5b-f109-43a2-acfc-d344d23c0515",
   "metadata": {
    "tags": []
   },
   "outputs": [
    {
     "data": {
      "text/plain": [
       "AnnData object with n_obs × n_vars = 3 × 54645"
      ]
     },
     "execution_count": 4,
     "metadata": {},
     "output_type": "execute_result"
    }
   ],
   "source": [
    "# Transform to AnnData object\n",
    "adata = AnnData(adata, dtype=np.float32)\n",
    "adata.var_names_make_unique()\n",
    "adata"
   ]
  },
  {
   "cell_type": "code",
   "execution_count": 5,
   "id": "931c7edc-9035-4698-9920-75b0edf43106",
   "metadata": {
    "tags": []
   },
   "outputs": [
    {
     "data": {
      "image/png": "[encoded data removed]",
      "text/plain": [
       "<Figure size 500x400 with 2 Axes>"
      ]
     },
     "metadata": {},
     "output_type": "display_data"
    }
   ],
   "source": [
    "dc.plot_filter_by_expr(adata, group=None, min_count=10, min_total_count=15, large_n=1, min_prop=1)\n"
   ]
  },
  {
   "cell_type": "code",
   "execution_count": 6,
   "id": "a5a7d587-ec4d-4535-861a-74b1c725d126",
   "metadata": {
    "tags": []
   },
   "outputs": [
    {
     "data": {
      "text/plain": [
       "AnnData object with n_obs × n_vars = 3 × 36230"
      ]
     },
     "execution_count": 6,
     "metadata": {},
     "output_type": "execute_result"
    }
   ],
   "source": [
    "# Obtain genes that pass the thresholds\n",
    "genes = dc.filter_by_expr(adata, group=None, min_count=10, min_total_count=15, large_n=1, min_prop=1)\n",
    "\n",
    "# Filter by these genes\n",
    "adata = adata[:, genes].copy()\n",
    "adata"
   ]
  },
  {
   "cell_type": "code",
   "execution_count": 7,
   "id": "bda24a37-f1d1-49cf-92d0-bf1eaa439683",
   "metadata": {
    "tags": []
   },
   "outputs": [
    {
     "data": {
      "text/html": [
       "<div>\n",
       "<style scoped>\n",
       "    .dataframe tbody tr th:only-of-type {\n",
       "        vertical-align: middle;\n",
       "    }\n",
       "\n",
       "    .dataframe tbody tr th {\n",
       "        vertical-align: top;\n",
       "    }\n",
       "\n",
       "    .dataframe thead th {\n",
       "        text-align: right;\n",
       "    }\n",
       "</style>\n",
       "<table border=\"1\" class=\"dataframe\">\n",
       "  <thead>\n",
       "    <tr style=\"text-align: right;\">\n",
       "      <th></th>\n",
       "      <th>source</th>\n",
       "      <th>target</th>\n",
       "      <th>weight</th>\n",
       "      <th>p_value</th>\n",
       "    </tr>\n",
       "  </thead>\n",
       "  <tbody>\n",
       "    <tr>\n",
       "      <th>0</th>\n",
       "      <td>Androgen</td>\n",
       "      <td>TMPRSS2</td>\n",
       "      <td>11.490631</td>\n",
       "      <td>0.000000e+00</td>\n",
       "    </tr>\n",
       "    <tr>\n",
       "      <th>1</th>\n",
       "      <td>Androgen</td>\n",
       "      <td>NKX3-1</td>\n",
       "      <td>10.622551</td>\n",
       "      <td>2.242078e-44</td>\n",
       "    </tr>\n",
       "    <tr>\n",
       "      <th>2</th>\n",
       "      <td>Androgen</td>\n",
       "      <td>MBOAT2</td>\n",
       "      <td>10.472733</td>\n",
       "      <td>4.624285e-44</td>\n",
       "    </tr>\n",
       "    <tr>\n",
       "      <th>3</th>\n",
       "      <td>Androgen</td>\n",
       "      <td>KLK2</td>\n",
       "      <td>10.176186</td>\n",
       "      <td>1.944414e-40</td>\n",
       "    </tr>\n",
       "    <tr>\n",
       "      <th>4</th>\n",
       "      <td>Androgen</td>\n",
       "      <td>SARG</td>\n",
       "      <td>11.386852</td>\n",
       "      <td>2.790209e-40</td>\n",
       "    </tr>\n",
       "    <tr>\n",
       "      <th>...</th>\n",
       "      <td>...</td>\n",
       "      <td>...</td>\n",
       "      <td>...</td>\n",
       "      <td>...</td>\n",
       "    </tr>\n",
       "    <tr>\n",
       "      <th>4195</th>\n",
       "      <td>p53</td>\n",
       "      <td>F5</td>\n",
       "      <td>2.397854</td>\n",
       "      <td>5.746843e-08</td>\n",
       "    </tr>\n",
       "    <tr>\n",
       "      <th>4196</th>\n",
       "      <td>p53</td>\n",
       "      <td>MKI67</td>\n",
       "      <td>-5.680340</td>\n",
       "      <td>5.758565e-08</td>\n",
       "    </tr>\n",
       "    <tr>\n",
       "      <th>4197</th>\n",
       "      <td>p53</td>\n",
       "      <td>THOC2</td>\n",
       "      <td>-2.108178</td>\n",
       "      <td>5.858359e-08</td>\n",
       "    </tr>\n",
       "    <tr>\n",
       "      <th>4198</th>\n",
       "      <td>p53</td>\n",
       "      <td>POLA1</td>\n",
       "      <td>-4.943873</td>\n",
       "      <td>5.911873e-08</td>\n",
       "    </tr>\n",
       "    <tr>\n",
       "      <th>4199</th>\n",
       "      <td>p53</td>\n",
       "      <td>TMEM52</td>\n",
       "      <td>2.596648</td>\n",
       "      <td>6.576950e-08</td>\n",
       "    </tr>\n",
       "  </tbody>\n",
       "</table>\n",
       "<p>4200 rows × 4 columns</p>\n",
       "</div>"
      ],
      "text/plain": [
       "        source   target     weight       p_value\n",
       "0     Androgen  TMPRSS2  11.490631  0.000000e+00\n",
       "1     Androgen   NKX3-1  10.622551  2.242078e-44\n",
       "2     Androgen   MBOAT2  10.472733  4.624285e-44\n",
       "3     Androgen     KLK2  10.176186  1.944414e-40\n",
       "4     Androgen     SARG  11.386852  2.790209e-40\n",
       "...        ...      ...        ...           ...\n",
       "4195       p53       F5   2.397854  5.746843e-08\n",
       "4196       p53    MKI67  -5.680340  5.758565e-08\n",
       "4197       p53    THOC2  -2.108178  5.858359e-08\n",
       "4198       p53    POLA1  -4.943873  5.911873e-08\n",
       "4199       p53   TMEM52   2.596648  6.576950e-08\n",
       "\n",
       "[4200 rows x 4 columns]"
      ]
     },
     "execution_count": 7,
     "metadata": {},
     "output_type": "execute_result"
    }
   ],
   "source": [
    "model = dc.get_progeny(organism='human', top=300)\n",
    "model"
   ]
  },
  {
   "cell_type": "code",
   "execution_count": 8,
   "id": "0cc94035-af96-408d-815d-22148aafebbf",
   "metadata": {
    "tags": []
   },
   "outputs": [
    {
     "data": {
      "text/plain": [
       "array(['Androgen', 'EGFR', 'Estrogen', 'Hypoxia', 'JAK-STAT', 'MAPK',\n",
       "       'NFkB', 'PI3K', 'TGFb', 'TNFa', 'Trail', 'VEGF', 'WNT', 'p53'],\n",
       "      dtype=object)"
      ]
     },
     "execution_count": 8,
     "metadata": {},
     "output_type": "execute_result"
    }
   ],
   "source": [
    "pd.unique(model.source)"
   ]
  },
  {
   "cell_type": "code",
   "execution_count": 9,
   "id": "494a9040-2264-4ea8-9eb0-f45980f0dfc0",
   "metadata": {
    "tags": []
   },
   "outputs": [
    {
     "data": {
      "text/plain": [
       "array([[3.06908406e+05, 5.29123672e+04, 1.15666914e+05, ...,\n",
       "        4.60331383e+01, 5.86307617e+03, 2.73638519e+02],\n",
       "       [3.20419556e+03, 2.64298248e+02, 1.15805518e+03, ...,\n",
       "        2.12604612e-01, 8.50977325e+01, 3.94145489e+00],\n",
       "       [2.02554438e+05, 3.88048945e+04, 7.89387344e+04, ...,\n",
       "        2.77076111e+01, 3.59098682e+03, 1.74215179e+02]], dtype=float32)"
      ]
     },
     "execution_count": 9,
     "metadata": {},
     "output_type": "execute_result"
    }
   ],
   "source": [
    "adata.X"
   ]
  },
  {
   "cell_type": "code",
   "execution_count": 10,
   "id": "36441391-4827-4ede-85e7-6b73bd0e28c7",
   "metadata": {
    "tags": []
   },
   "outputs": [
    {
     "name": "stdout",
     "output_type": "stream",
     "text": [
      "Running consensus.\n",
      "Running mlm on mat with 3 samples and 36230 targets for 14 sources.\n"
     ]
    },
    {
     "name": "stderr",
     "output_type": "stream",
     "text": [
      "100%|███████████████████████████████████████████████████████████████████████████████████████████████████████████████████████████████████████████████████████████████████████████████████████████████████████| 1/1 [00:00<00:00, 102.98it/s]\n"
     ]
    },
    {
     "name": "stdout",
     "output_type": "stream",
     "text": [
      "Running ulm on mat with 3 samples and 36230 targets for 14 sources.\n",
      "Running wsum on mat with 3 samples and 36230 targets for 14 sources.\n",
      "Infering activities on 1 batches.\n"
     ]
    },
    {
     "name": "stderr",
     "output_type": "stream",
     "text": [
      "100%|████████████████████████████████████████████████████████████████████████████████████████████████████████████████████████████████████████████████████████████████████████████████████████████████████████| 1/1 [00:00<00:00,  1.01it/s]\n"
     ]
    }
   ],
   "source": [
    "# Infer pathway activities with consensus\n",
    "dc.run_consensus(mat=adata, \n",
    "                 net=model,\n",
    "                 use_raw=False, \n",
    "                 verbose=True)"
   ]
  },
  {
   "cell_type": "code",
   "execution_count": 11,
   "id": "40c710fe-8e03-4739-a471-9d66f8ea62d3",
   "metadata": {
    "tags": []
   },
   "outputs": [
    {
     "data": {
      "text/plain": [
       "AnnData object with n_obs × n_vars = 3 × 36230\n",
       "    obsm: 'consensus_estimate', 'consensus_pvals'"
      ]
     },
     "execution_count": 11,
     "metadata": {},
     "output_type": "execute_result"
    }
   ],
   "source": [
    "adata"
   ]
  },
  {
   "cell_type": "code",
   "execution_count": 12,
   "id": "936a396e-ba8d-4aa0-b592-da28cfb63bbe",
   "metadata": {
    "tags": []
   },
   "outputs": [],
   "source": [
    "# Extract from dictionary\n",
    "acts =  adata.obsm['consensus_estimate']\n",
    "pvals = adata.obsm['consensus_pvals']"
   ]
  },
  {
   "cell_type": "code",
   "execution_count": 13,
   "id": "2551c995-f4f8-4ae0-a560-a79d9ed9053b",
   "metadata": {
    "tags": []
   },
   "outputs": [
    {
     "data": {
      "image/png": "[encoded data removed]",
      "text/plain": [
       "<Figure size 1000x500 with 4 Axes>"
      ]
     },
     "metadata": {},
     "output_type": "display_data"
    }
   ],
   "source": [
    "fig, axes = plt.subplots(1,2, figsize=(10,5), tight_layout=True, sharey=True)\n",
    "\n",
    "axes[0].set_title('Pathway Activity')\n",
    "g = sns.heatmap(acts, cmap='coolwarm', vmin=-1, vmax=1, ax=axes[0])\n",
    "g.set_xticklabels(g.get_xticklabels(), rotation = 90, fontsize = 10)\n",
    "g.set_yticklabels(g.get_yticklabels(), rotation = 0, fontsize = 10)\n",
    "axes[1].set_title('p-values')\n",
    "sns.heatmap(pvals, cmap='viridis_r', ax=axes[1], vmax=1)\n",
    "path = \"../figures/GSE161529/Immune_normal_subtype_cell_cancer_pathways.png\"\n",
    "fig.suptitle(\"Pathway Activity in Normal TCGA\")\n",
    "plt.savefig(path,format='png')\n",
    "plt.show()\n",
    "plt.close()"
   ]
  },
  {
   "cell_type": "code",
   "execution_count": null,
   "id": "66898529-cda1-496a-9f30-c9895c361a67",
   "metadata": {},
   "outputs": [],
   "source": []
  }
 ],
 "metadata": {
  "kernelspec": {
   "display_name": "compbio",
   "language": "python",
   "name": "compbio"
  },
  "language_info": {
   "codemirror_mode": {
    "name": "ipython",
    "version": 3
   },
   "file_extension": ".py",
   "mimetype": "text/x-python",
   "name": "python",
   "nbconvert_exporter": "python",
   "pygments_lexer": "ipython3",
   "version": "3.9.7"
  }
 },
 "nbformat": 4,
 "nbformat_minor": 5
}
