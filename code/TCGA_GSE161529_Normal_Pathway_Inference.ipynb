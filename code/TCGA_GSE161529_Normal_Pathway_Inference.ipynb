{
 "cells": [
  {
   "cell_type": "code",
   "execution_count": 1,
   "id": "0b146c0f-87d1-4c2b-9fb0-b39bcc99ee4c",
   "metadata": {
    "tags": []
   },
   "outputs": [],
   "source": [
    "import scanpy as sc\n",
    "import pandas as pd\n",
    "import decoupler as dc\n",
    "from anndata import AnnData\n",
    "\n",
    "# Only needed for visualization:\n",
    "import matplotlib.pyplot as plt\n",
    "import seaborn as sns\n",
    "\n",
    "import hdf5plugin"
   ]
  },
  {
   "cell_type": "code",
   "execution_count": 2,
   "id": "2a0c68c9-869e-4c39-aa89-da6289c5fee4",
   "metadata": {
    "tags": []
   },
   "outputs": [],
   "source": [
    "path = \"../data/brca/tcga/processed/GSE161529/genes_prop_cells_normal.csv\"\n",
    "adata = pd.read_csv(path, sep=\",\").T"
   ]
  },
  {
   "cell_type": "code",
   "execution_count": 3,
   "id": "5dede6ed-f4e0-433c-be7a-7112615ad7db",
   "metadata": {
    "tags": []
   },
   "outputs": [
    {
     "data": {
      "text/html": [
       "<div>\n",
       "<style scoped>\n",
       "    .dataframe tbody tr th:only-of-type {\n",
       "        vertical-align: middle;\n",
       "    }\n",
       "\n",
       "    .dataframe tbody tr th {\n",
       "        vertical-align: top;\n",
       "    }\n",
       "\n",
       "    .dataframe thead th {\n",
       "        text-align: right;\n",
       "    }\n",
       "</style>\n",
       "<table border=\"1\" class=\"dataframe\">\n",
       "  <thead>\n",
       "    <tr style=\"text-align: right;\">\n",
       "      <th></th>\n",
       "      <th>ENSG00000000003.15</th>\n",
       "      <th>ENSG00000000005.6</th>\n",
       "      <th>ENSG00000000419.13</th>\n",
       "      <th>ENSG00000000457.14</th>\n",
       "      <th>ENSG00000000460.17</th>\n",
       "      <th>ENSG00000000938.13</th>\n",
       "      <th>ENSG00000000971.16</th>\n",
       "      <th>ENSG00000001036.14</th>\n",
       "      <th>ENSG00000001084.13</th>\n",
       "      <th>ENSG00000001167.14</th>\n",
       "      <th>...</th>\n",
       "      <th>ENSG00000288661.1</th>\n",
       "      <th>ENSG00000288662.1</th>\n",
       "      <th>ENSG00000288663.1</th>\n",
       "      <th>ENSG00000288665.1</th>\n",
       "      <th>ENSG00000288667.1</th>\n",
       "      <th>ENSG00000288669.1</th>\n",
       "      <th>ENSG00000288670.1</th>\n",
       "      <th>ENSG00000288671.1</th>\n",
       "      <th>ENSG00000288674.1</th>\n",
       "      <th>ENSG00000288675.1</th>\n",
       "    </tr>\n",
       "  </thead>\n",
       "  <tbody>\n",
       "    <tr>\n",
       "      <th>AV</th>\n",
       "      <td>41368.555136</td>\n",
       "      <td>4308.393332</td>\n",
       "      <td>15791.862875</td>\n",
       "      <td>11459.715061</td>\n",
       "      <td>2663.381203</td>\n",
       "      <td>6855.028705</td>\n",
       "      <td>53952.922614</td>\n",
       "      <td>18238.816906</td>\n",
       "      <td>18856.634170</td>\n",
       "      <td>19851.176204</td>\n",
       "      <td>...</td>\n",
       "      <td>0.0</td>\n",
       "      <td>0.821148</td>\n",
       "      <td>240.653212</td>\n",
       "      <td>0.0</td>\n",
       "      <td>0.554334</td>\n",
       "      <td>4.639425</td>\n",
       "      <td>3103.473036</td>\n",
       "      <td>0.0</td>\n",
       "      <td>82.085558</td>\n",
       "      <td>161.485164</td>\n",
       "    </tr>\n",
       "    <tr>\n",
       "      <th>Fibroblast</th>\n",
       "      <td>44.463261</td>\n",
       "      <td>4.560051</td>\n",
       "      <td>20.945320</td>\n",
       "      <td>6.238327</td>\n",
       "      <td>1.578904</td>\n",
       "      <td>7.342455</td>\n",
       "      <td>39.936333</td>\n",
       "      <td>21.784458</td>\n",
       "      <td>14.927819</td>\n",
       "      <td>14.000351</td>\n",
       "      <td>...</td>\n",
       "      <td>0.0</td>\n",
       "      <td>0.000000</td>\n",
       "      <td>0.187702</td>\n",
       "      <td>0.0</td>\n",
       "      <td>0.000000</td>\n",
       "      <td>0.000000</td>\n",
       "      <td>2.671991</td>\n",
       "      <td>0.0</td>\n",
       "      <td>0.077289</td>\n",
       "      <td>0.342280</td>\n",
       "    </tr>\n",
       "    <tr>\n",
       "      <th>HS</th>\n",
       "      <td>354714.173434</td>\n",
       "      <td>63984.630010</td>\n",
       "      <td>135319.709582</td>\n",
       "      <td>98330.175712</td>\n",
       "      <td>23902.406858</td>\n",
       "      <td>57153.626169</td>\n",
       "      <td>628169.473822</td>\n",
       "      <td>153026.884736</td>\n",
       "      <td>217833.497751</td>\n",
       "      <td>166481.773745</td>\n",
       "      <td>...</td>\n",
       "      <td>0.0</td>\n",
       "      <td>10.280788</td>\n",
       "      <td>1991.499831</td>\n",
       "      <td>0.0</td>\n",
       "      <td>9.042934</td>\n",
       "      <td>36.663541</td>\n",
       "      <td>33206.573658</td>\n",
       "      <td>0.0</td>\n",
       "      <td>846.080190</td>\n",
       "      <td>919.172327</td>\n",
       "    </tr>\n",
       "    <tr>\n",
       "      <th>Vascular and lymphatic</th>\n",
       "      <td>28505.583226</td>\n",
       "      <td>1812.549613</td>\n",
       "      <td>10306.727193</td>\n",
       "      <td>8660.019779</td>\n",
       "      <td>1911.097293</td>\n",
       "      <td>2829.213959</td>\n",
       "      <td>26621.145635</td>\n",
       "      <td>9266.122412</td>\n",
       "      <td>12513.860276</td>\n",
       "      <td>14326.216820</td>\n",
       "      <td>...</td>\n",
       "      <td>0.0</td>\n",
       "      <td>0.621460</td>\n",
       "      <td>159.145974</td>\n",
       "      <td>0.0</td>\n",
       "      <td>1.224573</td>\n",
       "      <td>2.121584</td>\n",
       "      <td>2108.823805</td>\n",
       "      <td>0.0</td>\n",
       "      <td>48.608882</td>\n",
       "      <td>73.988136</td>\n",
       "    </tr>\n",
       "    <tr>\n",
       "      <th>Immune</th>\n",
       "      <td>2.537117</td>\n",
       "      <td>0.190607</td>\n",
       "      <td>1.059593</td>\n",
       "      <td>0.627732</td>\n",
       "      <td>0.202395</td>\n",
       "      <td>0.316360</td>\n",
       "      <td>4.214220</td>\n",
       "      <td>1.134690</td>\n",
       "      <td>1.376159</td>\n",
       "      <td>1.114213</td>\n",
       "      <td>...</td>\n",
       "      <td>0.0</td>\n",
       "      <td>0.000000</td>\n",
       "      <td>0.010630</td>\n",
       "      <td>0.0</td>\n",
       "      <td>0.000000</td>\n",
       "      <td>0.000228</td>\n",
       "      <td>0.182870</td>\n",
       "      <td>0.0</td>\n",
       "      <td>0.003843</td>\n",
       "      <td>0.004758</td>\n",
       "    </tr>\n",
       "  </tbody>\n",
       "</table>\n",
       "<p>5 rows × 60660 columns</p>\n",
       "</div>"
      ],
      "text/plain": [
       "                        ENSG00000000003.15  ENSG00000000005.6  \\\n",
       "AV                            41368.555136        4308.393332   \n",
       "Fibroblast                       44.463261           4.560051   \n",
       "HS                           354714.173434       63984.630010   \n",
       "Vascular and lymphatic        28505.583226        1812.549613   \n",
       "Immune                            2.537117           0.190607   \n",
       "\n",
       "                        ENSG00000000419.13  ENSG00000000457.14  \\\n",
       "AV                            15791.862875        11459.715061   \n",
       "Fibroblast                       20.945320            6.238327   \n",
       "HS                           135319.709582        98330.175712   \n",
       "Vascular and lymphatic        10306.727193         8660.019779   \n",
       "Immune                            1.059593            0.627732   \n",
       "\n",
       "                        ENSG00000000460.17  ENSG00000000938.13  \\\n",
       "AV                             2663.381203         6855.028705   \n",
       "Fibroblast                        1.578904            7.342455   \n",
       "HS                            23902.406858        57153.626169   \n",
       "Vascular and lymphatic         1911.097293         2829.213959   \n",
       "Immune                            0.202395            0.316360   \n",
       "\n",
       "                        ENSG00000000971.16  ENSG00000001036.14  \\\n",
       "AV                            53952.922614        18238.816906   \n",
       "Fibroblast                       39.936333           21.784458   \n",
       "HS                           628169.473822       153026.884736   \n",
       "Vascular and lymphatic        26621.145635         9266.122412   \n",
       "Immune                            4.214220            1.134690   \n",
       "\n",
       "                        ENSG00000001084.13  ENSG00000001167.14  ...  \\\n",
       "AV                            18856.634170        19851.176204  ...   \n",
       "Fibroblast                       14.927819           14.000351  ...   \n",
       "HS                           217833.497751       166481.773745  ...   \n",
       "Vascular and lymphatic        12513.860276        14326.216820  ...   \n",
       "Immune                            1.376159            1.114213  ...   \n",
       "\n",
       "                        ENSG00000288661.1  ENSG00000288662.1  \\\n",
       "AV                                    0.0           0.821148   \n",
       "Fibroblast                            0.0           0.000000   \n",
       "HS                                    0.0          10.280788   \n",
       "Vascular and lymphatic                0.0           0.621460   \n",
       "Immune                                0.0           0.000000   \n",
       "\n",
       "                        ENSG00000288663.1  ENSG00000288665.1  \\\n",
       "AV                             240.653212                0.0   \n",
       "Fibroblast                       0.187702                0.0   \n",
       "HS                            1991.499831                0.0   \n",
       "Vascular and lymphatic         159.145974                0.0   \n",
       "Immune                           0.010630                0.0   \n",
       "\n",
       "                        ENSG00000288667.1  ENSG00000288669.1  \\\n",
       "AV                               0.554334           4.639425   \n",
       "Fibroblast                       0.000000           0.000000   \n",
       "HS                               9.042934          36.663541   \n",
       "Vascular and lymphatic           1.224573           2.121584   \n",
       "Immune                           0.000000           0.000228   \n",
       "\n",
       "                        ENSG00000288670.1  ENSG00000288671.1  \\\n",
       "AV                            3103.473036                0.0   \n",
       "Fibroblast                       2.671991                0.0   \n",
       "HS                           33206.573658                0.0   \n",
       "Vascular and lymphatic        2108.823805                0.0   \n",
       "Immune                           0.182870                0.0   \n",
       "\n",
       "                        ENSG00000288674.1  ENSG00000288675.1  \n",
       "AV                              82.085558         161.485164  \n",
       "Fibroblast                       0.077289           0.342280  \n",
       "HS                             846.080190         919.172327  \n",
       "Vascular and lymphatic          48.608882          73.988136  \n",
       "Immune                           0.003843           0.004758  \n",
       "\n",
       "[5 rows x 60660 columns]"
      ]
     },
     "execution_count": 3,
     "metadata": {},
     "output_type": "execute_result"
    }
   ],
   "source": [
    "adata.head(5)"
   ]
  },
  {
   "cell_type": "code",
   "execution_count": 4,
   "id": "c3519e5b-f109-43a2-acfc-d344d23c0515",
   "metadata": {
    "tags": []
   },
   "outputs": [
    {
     "data": {
      "text/plain": [
       "AnnData object with n_obs × n_vars = 6 × 60660"
      ]
     },
     "execution_count": 4,
     "metadata": {},
     "output_type": "execute_result"
    }
   ],
   "source": [
    "# Transform to AnnData object\n",
    "adata = AnnData(adata, dtype=np.float32)\n",
    "adata.var_names_make_unique()\n",
    "adata"
   ]
  },
  {
   "cell_type": "code",
   "execution_count": 5,
   "id": "931c7edc-9035-4698-9920-75b0edf43106",
   "metadata": {
    "tags": []
   },
   "outputs": [
    {
     "data": {
      "image/png": "[encoded data removed]",
      "text/plain": [
       "<Figure size 500x400 with 2 Axes>"
      ]
     },
     "metadata": {},
     "output_type": "display_data"
    }
   ],
   "source": [
    "dc.plot_filter_by_expr(adata, group=None, min_count=10, min_total_count=15, large_n=1, min_prop=1)\n"
   ]
  },
  {
   "cell_type": "code",
   "execution_count": 6,
   "id": "a5a7d587-ec4d-4535-861a-74b1c725d126",
   "metadata": {
    "tags": []
   },
   "outputs": [
    {
     "data": {
      "text/plain": [
       "AnnData object with n_obs × n_vars = 6 × 26251"
      ]
     },
     "execution_count": 6,
     "metadata": {},
     "output_type": "execute_result"
    }
   ],
   "source": [
    "# Obtain genes that pass the thresholds\n",
    "genes = dc.filter_by_expr(adata, group=None, min_count=10, min_total_count=15, large_n=1, min_prop=1)\n",
    "\n",
    "# Filter by these genes\n",
    "adata = adata[:, genes].copy()\n",
    "adata"
   ]
  },
  {
   "cell_type": "code",
   "execution_count": 7,
   "id": "bda24a37-f1d1-49cf-92d0-bf1eaa439683",
   "metadata": {
    "tags": []
   },
   "outputs": [
    {
     "data": {
      "text/html": [
       "<div>\n",
       "<style scoped>\n",
       "    .dataframe tbody tr th:only-of-type {\n",
       "        vertical-align: middle;\n",
       "    }\n",
       "\n",
       "    .dataframe tbody tr th {\n",
       "        vertical-align: top;\n",
       "    }\n",
       "\n",
       "    .dataframe thead th {\n",
       "        text-align: right;\n",
       "    }\n",
       "</style>\n",
       "<table border=\"1\" class=\"dataframe\">\n",
       "  <thead>\n",
       "    <tr style=\"text-align: right;\">\n",
       "      <th></th>\n",
       "      <th>source</th>\n",
       "      <th>target</th>\n",
       "      <th>weight</th>\n",
       "      <th>p_value</th>\n",
       "    </tr>\n",
       "  </thead>\n",
       "  <tbody>\n",
       "    <tr>\n",
       "      <th>0</th>\n",
       "      <td>Androgen</td>\n",
       "      <td>TMPRSS2</td>\n",
       "      <td>11.490631</td>\n",
       "      <td>0.000000e+00</td>\n",
       "    </tr>\n",
       "    <tr>\n",
       "      <th>1</th>\n",
       "      <td>Androgen</td>\n",
       "      <td>NKX3-1</td>\n",
       "      <td>10.622551</td>\n",
       "      <td>2.242078e-44</td>\n",
       "    </tr>\n",
       "    <tr>\n",
       "      <th>2</th>\n",
       "      <td>Androgen</td>\n",
       "      <td>MBOAT2</td>\n",
       "      <td>10.472733</td>\n",
       "      <td>4.624285e-44</td>\n",
       "    </tr>\n",
       "    <tr>\n",
       "      <th>3</th>\n",
       "      <td>Androgen</td>\n",
       "      <td>KLK2</td>\n",
       "      <td>10.176186</td>\n",
       "      <td>1.944414e-40</td>\n",
       "    </tr>\n",
       "    <tr>\n",
       "      <th>4</th>\n",
       "      <td>Androgen</td>\n",
       "      <td>SARG</td>\n",
       "      <td>11.386852</td>\n",
       "      <td>2.790209e-40</td>\n",
       "    </tr>\n",
       "    <tr>\n",
       "      <th>...</th>\n",
       "      <td>...</td>\n",
       "      <td>...</td>\n",
       "      <td>...</td>\n",
       "      <td>...</td>\n",
       "    </tr>\n",
       "    <tr>\n",
       "      <th>4195</th>\n",
       "      <td>p53</td>\n",
       "      <td>F5</td>\n",
       "      <td>2.397854</td>\n",
       "      <td>5.746843e-08</td>\n",
       "    </tr>\n",
       "    <tr>\n",
       "      <th>4196</th>\n",
       "      <td>p53</td>\n",
       "      <td>MKI67</td>\n",
       "      <td>-5.680340</td>\n",
       "      <td>5.758565e-08</td>\n",
       "    </tr>\n",
       "    <tr>\n",
       "      <th>4197</th>\n",
       "      <td>p53</td>\n",
       "      <td>THOC2</td>\n",
       "      <td>-2.108178</td>\n",
       "      <td>5.858359e-08</td>\n",
       "    </tr>\n",
       "    <tr>\n",
       "      <th>4198</th>\n",
       "      <td>p53</td>\n",
       "      <td>POLA1</td>\n",
       "      <td>-4.943873</td>\n",
       "      <td>5.911873e-08</td>\n",
       "    </tr>\n",
       "    <tr>\n",
       "      <th>4199</th>\n",
       "      <td>p53</td>\n",
       "      <td>TMEM52</td>\n",
       "      <td>2.596648</td>\n",
       "      <td>6.576950e-08</td>\n",
       "    </tr>\n",
       "  </tbody>\n",
       "</table>\n",
       "<p>4200 rows × 4 columns</p>\n",
       "</div>"
      ],
      "text/plain": [
       "        source   target     weight       p_value\n",
       "0     Androgen  TMPRSS2  11.490631  0.000000e+00\n",
       "1     Androgen   NKX3-1  10.622551  2.242078e-44\n",
       "2     Androgen   MBOAT2  10.472733  4.624285e-44\n",
       "3     Androgen     KLK2  10.176186  1.944414e-40\n",
       "4     Androgen     SARG  11.386852  2.790209e-40\n",
       "...        ...      ...        ...           ...\n",
       "4195       p53       F5   2.397854  5.746843e-08\n",
       "4196       p53    MKI67  -5.680340  5.758565e-08\n",
       "4197       p53    THOC2  -2.108178  5.858359e-08\n",
       "4198       p53    POLA1  -4.943873  5.911873e-08\n",
       "4199       p53   TMEM52   2.596648  6.576950e-08\n",
       "\n",
       "[4200 rows x 4 columns]"
      ]
     },
     "execution_count": 7,
     "metadata": {},
     "output_type": "execute_result"
    }
   ],
   "source": [
    "model = dc.get_progeny(organism='human', top=300)\n",
    "model"
   ]
  },
  {
   "cell_type": "code",
   "execution_count": 8,
   "id": "0cc94035-af96-408d-815d-22148aafebbf",
   "metadata": {
    "tags": []
   },
   "outputs": [
    {
     "data": {
      "text/plain": [
       "array(['Androgen', 'EGFR', 'Estrogen', 'Hypoxia', 'JAK-STAT', 'MAPK',\n",
       "       'NFkB', 'PI3K', 'TGFb', 'TNFa', 'Trail', 'VEGF', 'WNT', 'p53'],\n",
       "      dtype=object)"
      ]
     },
     "execution_count": 8,
     "metadata": {},
     "output_type": "execute_result"
    }
   ],
   "source": [
    "pd.unique(model.source)"
   ]
  },
  {
   "cell_type": "code",
   "execution_count": 9,
   "id": "494a9040-2264-4ea8-9eb0-f45980f0dfc0",
   "metadata": {
    "tags": []
   },
   "outputs": [
    {
     "data": {
      "text/plain": [
       "array([[4.1368555e+04, 4.3083936e+03, 1.5791863e+04, ..., 3.1034731e+03,\n",
       "        8.2085556e+01, 1.6148517e+02],\n",
       "       [4.4463261e+01, 4.5600514e+00, 2.0945320e+01, ..., 2.6719913e+00,\n",
       "        7.7289008e-02, 3.4227988e-01],\n",
       "       [3.5471419e+05, 6.3984629e+04, 1.3531970e+05, ..., 3.3206574e+04,\n",
       "        8.4608020e+02, 9.1917230e+02],\n",
       "       [2.8505584e+04, 1.8125496e+03, 1.0306728e+04, ..., 2.1088237e+03,\n",
       "        4.8608883e+01, 7.3988136e+01],\n",
       "       [2.5371170e+00, 1.9060749e-01, 1.0595930e+00, ..., 1.8286991e-01,\n",
       "        3.8428123e-03, 4.7580707e-03],\n",
       "       [9.7122688e+04, 2.4137676e+04, 3.7896695e+04, ..., 1.0243274e+04,\n",
       "        2.6814423e+02, 2.3600734e+02]], dtype=float32)"
      ]
     },
     "execution_count": 9,
     "metadata": {},
     "output_type": "execute_result"
    }
   ],
   "source": [
    "adata.X"
   ]
  },
  {
   "cell_type": "code",
   "execution_count": 10,
   "id": "36441391-4827-4ede-85e7-6b73bd0e28c7",
   "metadata": {
    "tags": []
   },
   "outputs": [
    {
     "name": "stdout",
     "output_type": "stream",
     "text": [
      "Running consensus.\n"
     ]
    },
    {
     "ename": "ValueError",
     "evalue": "No sources with more than min_n=5 targets. Make sure mat and net have shared target features or\n        reduce the number assigned to min_n",
     "output_type": "error",
     "traceback": [
      "\u001b[0;31m---------------------------------------------------------------------------\u001b[0m",
      "\u001b[0;31mValueError\u001b[0m                                Traceback (most recent call last)",
      "Cell \u001b[0;32mIn[10], line 2\u001b[0m\n\u001b[1;32m      1\u001b[0m \u001b[38;5;66;03m# Infer pathway activities with consensus\u001b[39;00m\n\u001b[0;32m----> 2\u001b[0m \u001b[43mdc\u001b[49m\u001b[38;5;241;43m.\u001b[39;49m\u001b[43mrun_consensus\u001b[49m\u001b[43m(\u001b[49m\u001b[43mmat\u001b[49m\u001b[38;5;241;43m=\u001b[39;49m\u001b[43madata\u001b[49m\u001b[43m,\u001b[49m\u001b[43m \u001b[49m\n\u001b[1;32m      3\u001b[0m \u001b[43m                 \u001b[49m\u001b[43mnet\u001b[49m\u001b[38;5;241;43m=\u001b[39;49m\u001b[43mmodel\u001b[49m\u001b[43m,\u001b[49m\n\u001b[1;32m      4\u001b[0m \u001b[43m                 \u001b[49m\u001b[43muse_raw\u001b[49m\u001b[38;5;241;43m=\u001b[39;49m\u001b[38;5;28;43;01mFalse\u001b[39;49;00m\u001b[43m,\u001b[49m\u001b[43m \u001b[49m\n\u001b[1;32m      5\u001b[0m \u001b[43m                 \u001b[49m\u001b[43mverbose\u001b[49m\u001b[38;5;241;43m=\u001b[39;49m\u001b[38;5;28;43;01mTrue\u001b[39;49;00m\u001b[43m)\u001b[49m\n",
      "File \u001b[0;32m~/venv/compbio/lib/python3.9/site-packages/decoupler/decouple.py:211\u001b[0m, in \u001b[0;36mrun_consensus\u001b[0;34m(mat, net, source, target, weight, min_n, verbose, use_raw)\u001b[0m\n\u001b[1;32m    208\u001b[0m     \u001b[38;5;28mprint\u001b[39m(\u001b[38;5;124m'\u001b[39m\u001b[38;5;124mRunning consensus.\u001b[39m\u001b[38;5;124m'\u001b[39m)\n\u001b[1;32m    210\u001b[0m \u001b[38;5;66;03m# Run top methods\u001b[39;00m\n\u001b[0;32m--> 211\u001b[0m res \u001b[38;5;241m=\u001b[39m \u001b[43mdecouple\u001b[49m\u001b[43m(\u001b[49m\u001b[43mmat\u001b[49m\u001b[38;5;241;43m=\u001b[39;49m\u001b[43m[\u001b[49m\u001b[43mm\u001b[49m\u001b[43m,\u001b[49m\u001b[43m \u001b[49m\u001b[43mr\u001b[49m\u001b[43m,\u001b[49m\u001b[43m \u001b[49m\u001b[43mc\u001b[49m\u001b[43m]\u001b[49m\u001b[43m,\u001b[49m\u001b[43m \u001b[49m\u001b[43mnet\u001b[49m\u001b[38;5;241;43m=\u001b[39;49m\u001b[43mnet\u001b[49m\u001b[43m,\u001b[49m\u001b[43m \u001b[49m\u001b[43msource\u001b[49m\u001b[38;5;241;43m=\u001b[39;49m\u001b[43msource\u001b[49m\u001b[43m,\u001b[49m\u001b[43m \u001b[49m\u001b[43mtarget\u001b[49m\u001b[38;5;241;43m=\u001b[39;49m\u001b[43mtarget\u001b[49m\u001b[43m,\u001b[49m\u001b[43m \u001b[49m\u001b[43mweight\u001b[49m\u001b[38;5;241;43m=\u001b[39;49m\u001b[43mweight\u001b[49m\u001b[43m,\u001b[49m\n\u001b[1;32m    212\u001b[0m \u001b[43m               \u001b[49m\u001b[43mmin_n\u001b[49m\u001b[38;5;241;43m=\u001b[39;49m\u001b[43mmin_n\u001b[49m\u001b[43m,\u001b[49m\u001b[43m \u001b[49m\u001b[43mverbose\u001b[49m\u001b[38;5;241;43m=\u001b[39;49m\u001b[43mverbose\u001b[49m\u001b[43m,\u001b[49m\u001b[43m \u001b[49m\u001b[43muse_raw\u001b[49m\u001b[38;5;241;43m=\u001b[39;49m\u001b[43muse_raw\u001b[49m\u001b[43m)\u001b[49m\n\u001b[1;32m    214\u001b[0m \u001b[38;5;66;03m# Exctract\u001b[39;00m\n\u001b[1;32m    215\u001b[0m estimate, pvals \u001b[38;5;241m=\u001b[39m res[\u001b[38;5;124m'\u001b[39m\u001b[38;5;124mconsensus_estimate\u001b[39m\u001b[38;5;124m'\u001b[39m], res[\u001b[38;5;124m'\u001b[39m\u001b[38;5;124mconsensus_pvals\u001b[39m\u001b[38;5;124m'\u001b[39m]\n",
      "File \u001b[0;32m~/venv/compbio/lib/python3.9/site-packages/decoupler/decouple.py:141\u001b[0m, in \u001b[0;36mdecouple\u001b[0;34m(mat, net, source, target, weight, methods, args, consensus, cns_metds, min_n, verbose, use_raw)\u001b[0m\n\u001b[1;32m    138\u001b[0m             \u001b[38;5;28mprint\u001b[39m(\u001b[38;5;124m'\u001b[39m\u001b[38;5;124mMethod name \u001b[39m\u001b[38;5;132;01m{0}\u001b[39;00m\u001b[38;5;124m in args not found in methods, will be ignored.\u001b[39m\u001b[38;5;124m'\u001b[39m\u001b[38;5;241m.\u001b[39mformat(methd))\n\u001b[1;32m    140\u001b[0m \u001b[38;5;66;03m# Run methods\u001b[39;00m\n\u001b[0;32m--> 141\u001b[0m results \u001b[38;5;241m=\u001b[39m \u001b[43mrun_methods\u001b[49m\u001b[43m(\u001b[49m\u001b[43mmat\u001b[49m\u001b[43m,\u001b[49m\u001b[43m \u001b[49m\u001b[43mnet\u001b[49m\u001b[43m,\u001b[49m\u001b[43m \u001b[49m\u001b[43msource\u001b[49m\u001b[43m,\u001b[49m\u001b[43m \u001b[49m\u001b[43mtarget\u001b[49m\u001b[43m,\u001b[49m\u001b[43m \u001b[49m\u001b[43mweight\u001b[49m\u001b[43m,\u001b[49m\u001b[43m \u001b[49m\u001b[43mmethods\u001b[49m\u001b[43m,\u001b[49m\u001b[43m \u001b[49m\u001b[43margs\u001b[49m\u001b[43m,\u001b[49m\u001b[43m \u001b[49m\u001b[43mmin_n\u001b[49m\u001b[43m,\u001b[49m\u001b[43m \u001b[49m\u001b[43mverbose\u001b[49m\u001b[43m,\u001b[49m\u001b[43m \u001b[49m\u001b[43muse_raw\u001b[49m\u001b[43m)\u001b[49m\n\u001b[1;32m    143\u001b[0m \u001b[38;5;66;03m# Run consensus score\u001b[39;00m\n\u001b[1;32m    144\u001b[0m \u001b[38;5;28;01mif\u001b[39;00m consensus:\n",
      "File \u001b[0;32m~/venv/compbio/lib/python3.9/site-packages/decoupler/decouple.py:49\u001b[0m, in \u001b[0;36mrun_methods\u001b[0;34m(mat, net, source, target, weight, methods, args, min_n, verbose, use_raw)\u001b[0m\n\u001b[1;32m     47\u001b[0m \u001b[38;5;66;03m# Run method\u001b[39;00m\n\u001b[1;32m     48\u001b[0m \u001b[38;5;28;01mif\u001b[39;00m is_weighted:\n\u001b[0;32m---> 49\u001b[0m     res \u001b[38;5;241m=\u001b[39m \u001b[43mf\u001b[49m\u001b[43m(\u001b[49m\u001b[43mmat\u001b[49m\u001b[38;5;241;43m=\u001b[39;49m\u001b[43mmat\u001b[49m\u001b[43m,\u001b[49m\u001b[43m \u001b[49m\u001b[43mnet\u001b[49m\u001b[38;5;241;43m=\u001b[39;49m\u001b[43mnet\u001b[49m\u001b[43m,\u001b[49m\u001b[43m \u001b[49m\u001b[43msource\u001b[49m\u001b[38;5;241;43m=\u001b[39;49m\u001b[43msource\u001b[49m\u001b[43m,\u001b[49m\u001b[43m \u001b[49m\u001b[43mtarget\u001b[49m\u001b[38;5;241;43m=\u001b[39;49m\u001b[43mtarget\u001b[49m\u001b[43m,\u001b[49m\u001b[43m \u001b[49m\u001b[43mweight\u001b[49m\u001b[38;5;241;43m=\u001b[39;49m\u001b[43mweight\u001b[49m\u001b[43m,\u001b[49m\u001b[43m \u001b[49m\u001b[38;5;241;43m*\u001b[39;49m\u001b[38;5;241;43m*\u001b[39;49m\u001b[43ma\u001b[49m\u001b[43m)\u001b[49m\n\u001b[1;32m     50\u001b[0m \u001b[38;5;28;01melse\u001b[39;00m:\n\u001b[1;32m     51\u001b[0m     res \u001b[38;5;241m=\u001b[39m f(mat\u001b[38;5;241m=\u001b[39mmat, net\u001b[38;5;241m=\u001b[39mnet, source\u001b[38;5;241m=\u001b[39msource, target\u001b[38;5;241m=\u001b[39mtarget, \u001b[38;5;241m*\u001b[39m\u001b[38;5;241m*\u001b[39ma)\n",
      "File \u001b[0;32m~/venv/compbio/lib/python3.9/site-packages/decoupler/method_mlm.py:111\u001b[0m, in \u001b[0;36mrun_mlm\u001b[0;34m(mat, net, source, target, weight, batch_size, min_n, verbose, use_raw)\u001b[0m\n\u001b[1;32m    109\u001b[0m \u001b[38;5;66;03m# Transform net\u001b[39;00m\n\u001b[1;32m    110\u001b[0m net \u001b[38;5;241m=\u001b[39m rename_net(net, source\u001b[38;5;241m=\u001b[39msource, target\u001b[38;5;241m=\u001b[39mtarget, weight\u001b[38;5;241m=\u001b[39mweight)\n\u001b[0;32m--> 111\u001b[0m net \u001b[38;5;241m=\u001b[39m \u001b[43mfilt_min_n\u001b[49m\u001b[43m(\u001b[49m\u001b[43mc\u001b[49m\u001b[43m,\u001b[49m\u001b[43m \u001b[49m\u001b[43mnet\u001b[49m\u001b[43m,\u001b[49m\u001b[43m \u001b[49m\u001b[43mmin_n\u001b[49m\u001b[38;5;241;43m=\u001b[39;49m\u001b[43mmin_n\u001b[49m\u001b[43m)\u001b[49m\n\u001b[1;32m    112\u001b[0m sources, targets, net \u001b[38;5;241m=\u001b[39m get_net_mat(net)\n\u001b[1;32m    114\u001b[0m \u001b[38;5;66;03m# Match arrays\u001b[39;00m\n",
      "File \u001b[0;32m~/venv/compbio/lib/python3.9/site-packages/decoupler/pre.py:131\u001b[0m, in \u001b[0;36mfilt_min_n\u001b[0;34m(c, net, min_n)\u001b[0m\n\u001b[1;32m    128\u001b[0m net \u001b[38;5;241m=\u001b[39m net[msk]\n\u001b[1;32m    130\u001b[0m \u001b[38;5;28;01mif\u001b[39;00m net\u001b[38;5;241m.\u001b[39mshape[\u001b[38;5;241m0\u001b[39m] \u001b[38;5;241m==\u001b[39m \u001b[38;5;241m0\u001b[39m:\n\u001b[0;32m--> 131\u001b[0m     \u001b[38;5;28;01mraise\u001b[39;00m \u001b[38;5;167;01mValueError\u001b[39;00m(\u001b[38;5;124m\"\"\"\u001b[39m\u001b[38;5;124mNo sources with more than min_n=\u001b[39m\u001b[38;5;132;01m{0}\u001b[39;00m\u001b[38;5;124m targets. Make sure mat and net have shared target features or\u001b[39m\n\u001b[1;32m    132\u001b[0m \u001b[38;5;124m    reduce the number assigned to min_n\u001b[39m\u001b[38;5;124m\"\"\"\u001b[39m\u001b[38;5;241m.\u001b[39mformat(min_n))\n\u001b[1;32m    134\u001b[0m \u001b[38;5;28;01mreturn\u001b[39;00m net\n",
      "\u001b[0;31mValueError\u001b[0m: No sources with more than min_n=5 targets. Make sure mat and net have shared target features or\n        reduce the number assigned to min_n"
     ]
    }
   ],
   "source": [
    "# Infer pathway activities with consensus\n",
    "dc.run_consensus(mat=adata, \n",
    "                 net=model,\n",
    "                 use_raw=False, \n",
    "                 verbose=True)"
   ]
  },
  {
   "cell_type": "code",
   "execution_count": null,
   "id": "40c710fe-8e03-4739-a471-9d66f8ea62d3",
   "metadata": {
    "tags": []
   },
   "outputs": [],
   "source": [
    "adata"
   ]
  },
  {
   "cell_type": "code",
   "execution_count": null,
   "id": "936a396e-ba8d-4aa0-b592-da28cfb63bbe",
   "metadata": {
    "tags": []
   },
   "outputs": [],
   "source": [
    "# Extract from dictionary\n",
    "acts =  adata.obsm['consensus_estimate']\n",
    "pvals = adata.obsm['consensus_pvals']"
   ]
  },
  {
   "cell_type": "code",
   "execution_count": null,
   "id": "2551c995-f4f8-4ae0-a560-a79d9ed9053b",
   "metadata": {
    "tags": []
   },
   "outputs": [],
   "source": [
    "fig, axes = plt.subplots(1,2, figsize=(10,5), tight_layout=True, sharey=True)\n",
    "\n",
    "axes[0].set_title('Pathway Activity')\n",
    "sns.heatmap(acts, cmap='coolwarm', vmin=-1, vmax=1, ax=axes[0])\n",
    "axes[1].set_title('p-values')\n",
    "sns.heatmap(pvals, cmap='viridis_r', ax=axes[1], vmax=1)\n",
    "path = \"../figures/GSE161529/Immune_cell_cancer_pathways.png\"\n",
    "fig.suptitle(\"Pathway Activity in TCGA Breast Cancer\")\n",
    "plt.savefig(path,format='png')\n",
    "plt.show()\n",
    "plt.close()"
   ]
  },
  {
   "cell_type": "code",
   "execution_count": null,
   "id": "66898529-cda1-496a-9f30-c9895c361a67",
   "metadata": {},
   "outputs": [],
   "source": []
  }
 ],
 "metadata": {
  "kernelspec": {
   "display_name": "compbio",
   "language": "python",
   "name": "compbio"
  },
  "language_info": {
   "codemirror_mode": {
    "name": "ipython",
    "version": 3
   },
   "file_extension": ".py",
   "mimetype": "text/x-python",
   "name": "python",
   "nbconvert_exporter": "python",
   "pygments_lexer": "ipython3",
   "version": "3.9.7"
  }
 },
 "nbformat": 4,
 "nbformat_minor": 5
}
