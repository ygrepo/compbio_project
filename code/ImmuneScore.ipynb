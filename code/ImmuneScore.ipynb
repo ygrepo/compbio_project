{
 "cells": [
  {
   "cell_type": "code",
   "execution_count": 18,
   "id": "a1702963-0811-4da8-bc05-018aa376979c",
   "metadata": {
    "tags": []
   },
   "outputs": [],
   "source": [
    "import pandas as pd\n",
    "from sklearn.model_selection import train_test_split, cross_val_score\n",
    "from sklearn.metrics import mean_squared_error, r2_score\n",
    "from xgboost import cv, XGBRegressor"
   ]
  },
  {
   "cell_type": "code",
   "execution_count": 2,
   "id": "57a3a79c-b77e-4bc9-9921-d36b69ad925b",
   "metadata": {
    "tags": []
   },
   "outputs": [
    {
     "data": {
      "text/html": [
       "<div>\n",
       "<style scoped>\n",
       "    .dataframe tbody tr th:only-of-type {\n",
       "        vertical-align: middle;\n",
       "    }\n",
       "\n",
       "    .dataframe tbody tr th {\n",
       "        vertical-align: top;\n",
       "    }\n",
       "\n",
       "    .dataframe thead th {\n",
       "        text-align: right;\n",
       "    }\n",
       "</style>\n",
       "<table border=\"1\" class=\"dataframe\">\n",
       "  <thead>\n",
       "    <tr style=\"text-align: right;\">\n",
       "      <th></th>\n",
       "      <th>ID</th>\n",
       "      <th>B cells Memory</th>\n",
       "      <th>B cells Naive</th>\n",
       "      <th>T cells CD8+</th>\n",
       "      <th>T cells CD4+</th>\n",
       "      <th>NK cells</th>\n",
       "      <th>NKT cells</th>\n",
       "      <th>Monocyte</th>\n",
       "      <th>Stromal_score</th>\n",
       "      <th>Immune_score</th>\n",
       "      <th>ESTIMATE_score</th>\n",
       "    </tr>\n",
       "  </thead>\n",
       "  <tbody>\n",
       "    <tr>\n",
       "      <th>1</th>\n",
       "      <td>3C-AAAU</td>\n",
       "      <td>-5.431209</td>\n",
       "      <td>0.0000</td>\n",
       "      <td>0.0</td>\n",
       "      <td>0.0</td>\n",
       "      <td>-4.910174</td>\n",
       "      <td>-0.132676</td>\n",
       "      <td>-2.184786</td>\n",
       "      <td>-711.41</td>\n",
       "      <td>-906.98</td>\n",
       "      <td>-1618.39</td>\n",
       "    </tr>\n",
       "    <tr>\n",
       "      <th>2</th>\n",
       "      <td>3C-AALI</td>\n",
       "      <td>-7.368048</td>\n",
       "      <td>-5.5144</td>\n",
       "      <td>0.0</td>\n",
       "      <td>0.0</td>\n",
       "      <td>0.000000</td>\n",
       "      <td>-0.243500</td>\n",
       "      <td>-1.553714</td>\n",
       "      <td>122.66</td>\n",
       "      <td>511.24</td>\n",
       "      <td>633.91</td>\n",
       "    </tr>\n",
       "    <tr>\n",
       "      <th>3</th>\n",
       "      <td>3C-AALJ</td>\n",
       "      <td>0.000000</td>\n",
       "      <td>0.0000</td>\n",
       "      <td>0.0</td>\n",
       "      <td>0.0</td>\n",
       "      <td>-5.933138</td>\n",
       "      <td>-0.196054</td>\n",
       "      <td>-1.740791</td>\n",
       "      <td>400.91</td>\n",
       "      <td>539.25</td>\n",
       "      <td>940.16</td>\n",
       "    </tr>\n",
       "    <tr>\n",
       "      <th>4</th>\n",
       "      <td>3C-AALK</td>\n",
       "      <td>-3.926095</td>\n",
       "      <td>0.0000</td>\n",
       "      <td>0.0</td>\n",
       "      <td>0.0</td>\n",
       "      <td>-3.966422</td>\n",
       "      <td>-0.190500</td>\n",
       "      <td>-2.004020</td>\n",
       "      <td>799.11</td>\n",
       "      <td>-3.53</td>\n",
       "      <td>795.58</td>\n",
       "    </tr>\n",
       "    <tr>\n",
       "      <th>5</th>\n",
       "      <td>4H-AAAK</td>\n",
       "      <td>-5.534338</td>\n",
       "      <td>0.0000</td>\n",
       "      <td>0.0</td>\n",
       "      <td>0.0</td>\n",
       "      <td>0.000000</td>\n",
       "      <td>-0.170725</td>\n",
       "      <td>-1.877333</td>\n",
       "      <td>1075.36</td>\n",
       "      <td>-46.96</td>\n",
       "      <td>1028.40</td>\n",
       "    </tr>\n",
       "  </tbody>\n",
       "</table>\n",
       "</div>"
      ],
      "text/plain": [
       "        ID  B cells Memory  B cells Naive  T cells CD8+  T cells CD4+  \\\n",
       "1  3C-AAAU       -5.431209         0.0000           0.0           0.0   \n",
       "2  3C-AALI       -7.368048        -5.5144           0.0           0.0   \n",
       "3  3C-AALJ        0.000000         0.0000           0.0           0.0   \n",
       "4  3C-AALK       -3.926095         0.0000           0.0           0.0   \n",
       "5  4H-AAAK       -5.534338         0.0000           0.0           0.0   \n",
       "\n",
       "   NK cells  NKT cells  Monocyte  Stromal_score  Immune_score  ESTIMATE_score  \n",
       "1 -4.910174  -0.132676 -2.184786        -711.41       -906.98        -1618.39  \n",
       "2  0.000000  -0.243500 -1.553714         122.66        511.24          633.91  \n",
       "3 -5.933138  -0.196054 -1.740791         400.91        539.25          940.16  \n",
       "4 -3.966422  -0.190500 -2.004020         799.11         -3.53          795.58  \n",
       "5  0.000000  -0.170725 -1.877333        1075.36        -46.96         1028.40  "
      ]
     },
     "execution_count": 2,
     "metadata": {},
     "output_type": "execute_result"
    }
   ],
   "source": [
    "path = \"../data/brca/tcga/processed/GSE176078/ct_minor/prop_estimate_scores_primary_tumor_unstranded_subset_CID3586.csv\"\n",
    "scores = pd.read_csv(path,sep=',')\n",
    "scores.head()"
   ]
  },
  {
   "cell_type": "code",
   "execution_count": 3,
   "id": "ca3bbbf6-1d5e-423a-81e0-bd0d63548cf3",
   "metadata": {
    "tags": []
   },
   "outputs": [
    {
     "data": {
      "text/plain": [
       "ID                 object\n",
       "B cells Memory    float64\n",
       "B cells Naive     float64\n",
       "T cells CD8+      float64\n",
       "T cells CD4+      float64\n",
       "NK cells          float64\n",
       "NKT cells         float64\n",
       "Monocyte          float64\n",
       "Stromal_score     float64\n",
       "Immune_score      float64\n",
       "ESTIMATE_score    float64\n",
       "dtype: object"
      ]
     },
     "execution_count": 3,
     "metadata": {},
     "output_type": "execute_result"
    }
   ],
   "source": [
    "scores.dtypes"
   ]
  },
  {
   "cell_type": "code",
   "execution_count": 7,
   "id": "228a9b6d-6cc4-4eed-81f0-a32128fff9d4",
   "metadata": {
    "tags": []
   },
   "outputs": [
    {
     "data": {
      "text/plain": [
       "['ID',\n",
       " 'B cells Memory',\n",
       " 'B cells Naive',\n",
       " 'T cells CD8+',\n",
       " 'T cells CD4+',\n",
       " 'NK cells',\n",
       " 'NKT cells',\n",
       " 'Monocyte',\n",
       " 'Stromal_score',\n",
       " 'Immune_score',\n",
       " 'ESTIMATE_score']"
      ]
     },
     "execution_count": 7,
     "metadata": {},
     "output_type": "execute_result"
    }
   ],
   "source": [
    "scores.columns.tolist()"
   ]
  },
  {
   "cell_type": "code",
   "execution_count": 11,
   "id": "d81cc974-e3b8-4fa2-b8a1-905836d055df",
   "metadata": {
    "tags": []
   },
   "outputs": [],
   "source": [
    "cols = [\n",
    " 'B cells Memory',\n",
    " 'B cells Naive',\n",
    " 'T cells CD8+',\n",
    " 'T cells CD4+',\n",
    " 'NK cells',\n",
    " 'NKT cells',\n",
    " 'Monocyte',\n",
    "]\n",
    "data = scores[cols]\n",
    "labels = scores[\"Immune_score\"]"
   ]
  },
  {
   "cell_type": "code",
   "execution_count": 12,
   "id": "fdc50a94-410c-414c-bc9d-2d5867edf4b5",
   "metadata": {
    "tags": []
   },
   "outputs": [],
   "source": [
    "# Split the data into training and test sets\n",
    "X_train, X_test, y_train, y_test = train_test_split(data, labels, test_size=0.25, random_state=42)\n"
   ]
  },
  {
   "cell_type": "code",
   "execution_count": 16,
   "id": "3004dd4b-19ff-44c4-82d9-34e8e172d69c",
   "metadata": {
    "tags": []
   },
   "outputs": [
    {
     "name": "stdout",
     "output_type": "stream",
     "text": [
      "Cross-validation scores:\n",
      " [0.65640141 0.63515417 0.70419807 0.66327054 0.57122769]\n"
     ]
    }
   ],
   "source": [
    "\n",
    "# Create an XGBoost regressor\n",
    "model = XGBRegressor(objective='reg:squarederror')\n",
    "\n",
    "# Perform cross-validation on the training data\n",
    "scores = cross_val_score(model, X_train, y_train, cv=5, scoring='r2')\n",
    "\n",
    "# Print the mean squared error for each fold\n",
    "print(\"Cross-validation scores:\\n\", scores)\n"
   ]
  },
  {
   "cell_type": "code",
   "execution_count": 20,
   "id": "6e857568-6031-4d35-875c-9b6571158580",
   "metadata": {
    "tags": []
   },
   "outputs": [
    {
     "name": "stdout",
     "output_type": "stream",
     "text": [
      "R2 test data: 0.6472198863314771\n"
     ]
    }
   ],
   "source": [
    "\n",
    "# Train the XGBoost regressor on the training data\n",
    "model.fit(X_train, y_train)\n",
    "\n",
    "# Make predictions on the test data\n",
    "y_pred = model.predict(X_test)\n",
    "\n",
    "# Calculate the mean squared error on the test data\n",
    "r2 = r2_score(y_test, y_pred)\n",
    "print(\"R2 test data:\", r2)"
   ]
  },
  {
   "cell_type": "code",
   "execution_count": 21,
   "id": "d4c37ff8-568f-409b-b3b3-dd2f6fd1937c",
   "metadata": {
    "tags": []
   },
   "outputs": [
    {
     "name": "stdout",
     "output_type": "stream",
     "text": [
      "Variable importance:\n",
      " {'B cells Memory': 869.0, 'B cells Naive': 68.0, 'T cells CD8+': 37.0, 'T cells CD4+': 21.0, 'NK cells': 638.0, 'NKT cells': 880.0, 'Monocyte': 685.0}\n",
      "Feature weights:\n",
      " {'B cells Memory': 0.0630980042661303, 'B cells Naive': 0.006093377828000967, 'T cells CD8+': 0.006877750815326864, 'T cells CD4+': 0.0020138481342993663, 'NK cells': 0.13613274184876634, 'NKT cells': 0.18505231061494834, 'Monocyte': 0.6007319664925278}\n",
      "List of columns:\n",
      " ['B cells Memory', 'B cells Naive', 'T cells CD8+', 'T cells CD4+', 'NK cells', 'NKT cells', 'Monocyte']\n"
     ]
    }
   ],
   "source": [
    "# Extract variable importance\n",
    "var_importance = model.get_booster().get_score(importance_type='weight')\n",
    "\n",
    "# Extract feature weights\n",
    "weights = model.get_booster().get_score(importance_type='total_gain')\n",
    "total_gain = sum(weights.values())\n",
    "weights = {k:v/total_gain for k,v in weights.items()}\n",
    "\n",
    "# Extract list of columns\n",
    "columns = model.get_booster().feature_names\n",
    "\n",
    "# Print the results\n",
    "print(\"Variable importance:\\n\", var_importance)\n",
    "print(\"Feature weights:\\n\", weights)\n",
    "print(\"List of columns:\\n\", columns)\n"
   ]
  },
  {
   "cell_type": "code",
   "execution_count": 23,
   "id": "9a101129-5a9e-4845-8a83-92072b9a4a0d",
   "metadata": {
    "tags": []
   },
   "outputs": [
    {
     "data": {
      "text/plain": [
       "{'B cells Memory': 68826816.0,\n",
       " 'B cells Naive': 6646609.5,\n",
       " 'T cells CD8+': 7502197.5,\n",
       " 'T cells CD4+': 2196690.0,\n",
       " 'NK cells': 148492544.0,\n",
       " 'NKT cells': 201853632.0,\n",
       " 'Monocyte': 655273792.0}"
      ]
     },
     "execution_count": 23,
     "metadata": {},
     "output_type": "execute_result"
    }
   ],
   "source": [
    "model.get_booster().get_score(importance_type='total_gain')"
   ]
  },
  {
   "cell_type": "code",
   "execution_count": 24,
   "id": "04cf4e0e-f5bf-412e-8d05-6e6944e86f2d",
   "metadata": {
    "tags": []
   },
   "outputs": [
    {
     "name": "stdout",
     "output_type": "stream",
     "text": [
      "P-values for each feature:\n",
      " [ 1.74988505  1.10285663 -0.36438166  0.15952988  9.25100099  5.66558653\n",
      "  8.75178388]\n"
     ]
    }
   ],
   "source": [
    "from sklearn.inspection import permutation_importance\n",
    "# Perform permutation feature importance on the test set\n",
    "result = permutation_importance(model, X_test, y_test, n_repeats=10, random_state=42)\n",
    "\n",
    "# Extract the p-values for each feature\n",
    "p_values = result.importances_mean / result.importances_std\n",
    "\n",
    "# Print the results\n",
    "print(\"P-values for each feature:\\n\", p_values)\n"
   ]
  },
  {
   "cell_type": "code",
   "execution_count": 25,
   "id": "df3315f8-ff5a-42d6-9349-3a9b86a08e35",
   "metadata": {
    "tags": []
   },
   "outputs": [
    {
     "data": {
      "text/plain": [
       "{'importances_mean': array([ 3.09979269e-02,  4.57285292e-03, -2.29573476e-04,  1.31874240e-04,\n",
       "         3.11388199e-01,  2.29484640e-01,  6.96448909e-01]),\n",
       " 'importances_std': array([0.01771426, 0.00414637, 0.00063004, 0.00082664, 0.03365995,\n",
       "        0.04050501, 0.07957794]),\n",
       " 'importances': array([[ 2.00727658e-02,  6.52419077e-02,  2.63415375e-02,\n",
       "          2.92688479e-02,  1.41942742e-04,  3.27595297e-02,\n",
       "          4.83976323e-02,  1.02805318e-02,  3.60614625e-02,\n",
       "          4.14131108e-02],\n",
       "        [-3.46669615e-03,  1.54934647e-03,  3.06879324e-04,\n",
       "          6.54919378e-03,  3.87278804e-03,  7.02682379e-03,\n",
       "          4.72508845e-03,  1.18646910e-02,  8.61318957e-03,\n",
       "          4.68722494e-03],\n",
       "        [-2.46134684e-04,  1.89406638e-04, -2.35986764e-04,\n",
       "         -1.45499500e-03, -1.42630139e-04, -3.11228119e-04,\n",
       "         -7.01349478e-04,  1.19936146e-03, -2.49026026e-04,\n",
       "         -3.43152651e-04],\n",
       "        [ 6.13727530e-04, -8.51701216e-04, -7.28444434e-04,\n",
       "          1.53192720e-04,  3.27012448e-04,  1.50389325e-03,\n",
       "          4.88477970e-04,  1.24469083e-03, -1.00689161e-03,\n",
       "         -4.25215092e-04],\n",
       "        [ 2.90254159e-01,  2.88109267e-01,  3.76406339e-01,\n",
       "          2.62699596e-01,  2.84652827e-01,  3.44090858e-01,\n",
       "          3.37518622e-01,  2.98067905e-01,  3.39015659e-01,\n",
       "          2.93066755e-01],\n",
       "        [ 3.30273968e-01,  2.07871357e-01,  1.65782035e-01,\n",
       "          2.05561486e-01,  2.45004304e-01,  2.07072342e-01,\n",
       "          2.38752580e-01,  2.40478326e-01,  2.36735050e-01,\n",
       "          2.17314951e-01],\n",
       "        [ 7.95122243e-01,  6.71084867e-01,  7.19904079e-01,\n",
       "          6.54788756e-01,  6.56216973e-01,  6.10763417e-01,\n",
       "          6.82604935e-01,  5.63237152e-01,  8.09252977e-01,\n",
       "          8.01513690e-01]])}"
      ]
     },
     "execution_count": 25,
     "metadata": {},
     "output_type": "execute_result"
    }
   ],
   "source": [
    "result"
   ]
  },
  {
   "cell_type": "code",
   "execution_count": null,
   "id": "2664ec19-04c3-4d60-b6a1-f71f9250461d",
   "metadata": {},
   "outputs": [],
   "source": []
  }
 ],
 "metadata": {
  "kernelspec": {
   "display_name": "compbio",
   "language": "python",
   "name": "compbio"
  },
  "language_info": {
   "codemirror_mode": {
    "name": "ipython",
    "version": 3
   },
   "file_extension": ".py",
   "mimetype": "text/x-python",
   "name": "python",
   "nbconvert_exporter": "python",
   "pygments_lexer": "ipython3",
   "version": "3.9.7"
  }
 },
 "nbformat": 4,
 "nbformat_minor": 5
}
