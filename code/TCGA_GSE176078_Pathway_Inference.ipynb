{
 "cells": [
  {
   "cell_type": "code",
   "execution_count": 1,
   "id": "0b146c0f-87d1-4c2b-9fb0-b39bcc99ee4c",
   "metadata": {
    "tags": []
   },
   "outputs": [],
   "source": [
    "import scanpy as sc\n",
    "import pandas as pd\n",
    "import decoupler as dc\n",
    "from anndata import AnnData\n",
    "\n",
    "# Only needed for visualization:\n",
    "import matplotlib.pyplot as plt\n",
    "import seaborn as sns\n",
    "\n",
    "import plotly.graph_objects as go\n",
    "\n",
    "import hdf5plugin"
   ]
  },
  {
   "cell_type": "code",
   "execution_count": 2,
   "id": "2a0c68c9-869e-4c39-aa89-da6289c5fee4",
   "metadata": {
    "tags": []
   },
   "outputs": [],
   "source": [
    "path = \"../data/brca/tcga/processed/GSE176078/ct_minor/genes_prop_cells_primary_tumor_unstranded_subset_CID3586.csv\"\n",
    "adata = pd.read_csv(path, sep=\",\").T"
   ]
  },
  {
   "cell_type": "code",
   "execution_count": 3,
   "id": "5dede6ed-f4e0-433c-be7a-7112615ad7db",
   "metadata": {
    "tags": []
   },
   "outputs": [
    {
     "data": {
      "text/html": [
       "<div>\n",
       "<style scoped>\n",
       "    .dataframe tbody tr th:only-of-type {\n",
       "        vertical-align: middle;\n",
       "    }\n",
       "\n",
       "    .dataframe tbody tr th {\n",
       "        vertical-align: top;\n",
       "    }\n",
       "\n",
       "    .dataframe thead th {\n",
       "        text-align: right;\n",
       "    }\n",
       "</style>\n",
       "<table border=\"1\" class=\"dataframe\">\n",
       "  <thead>\n",
       "    <tr style=\"text-align: right;\">\n",
       "      <th></th>\n",
       "      <th>TSPAN6</th>\n",
       "      <th>TNMD</th>\n",
       "      <th>DPM1</th>\n",
       "      <th>SCYL3</th>\n",
       "      <th>C1orf112</th>\n",
       "      <th>FGR</th>\n",
       "      <th>CFH</th>\n",
       "      <th>FUCA2</th>\n",
       "      <th>GCLC</th>\n",
       "      <th>NFYA</th>\n",
       "      <th>...</th>\n",
       "      <th>RP11-744A16.4</th>\n",
       "      <th>PAUPAR</th>\n",
       "      <th>RP11-65B7.2</th>\n",
       "      <th>GIMAP1-GIMAP5</th>\n",
       "      <th>RP11-274B21.13</th>\n",
       "      <th>AF127936.7</th>\n",
       "      <th>CH17-132F21.5</th>\n",
       "      <th>RP11-439M15.1</th>\n",
       "      <th>LINC01144</th>\n",
       "      <th>RP11-418H16.1</th>\n",
       "    </tr>\n",
       "  </thead>\n",
       "  <tbody>\n",
       "    <tr>\n",
       "      <th>B cells Memory</th>\n",
       "      <td>65158.920757</td>\n",
       "      <td>1005.181063</td>\n",
       "      <td>42190.195304</td>\n",
       "      <td>34329.650952</td>\n",
       "      <td>14094.098671</td>\n",
       "      <td>15358.266029</td>\n",
       "      <td>66419.569737</td>\n",
       "      <td>44514.625047</td>\n",
       "      <td>41606.851341</td>\n",
       "      <td>62143.834206</td>\n",
       "      <td>...</td>\n",
       "      <td>1.770127</td>\n",
       "      <td>63.330040</td>\n",
       "      <td>27.551306</td>\n",
       "      <td>0.0</td>\n",
       "      <td>12.934169</td>\n",
       "      <td>331.492104</td>\n",
       "      <td>8.918660</td>\n",
       "      <td>14.947946</td>\n",
       "      <td>1791.068259</td>\n",
       "      <td>122.143095</td>\n",
       "    </tr>\n",
       "    <tr>\n",
       "      <th>B cells Naive</th>\n",
       "      <td>361.001165</td>\n",
       "      <td>1.863320</td>\n",
       "      <td>209.516584</td>\n",
       "      <td>136.645334</td>\n",
       "      <td>51.058173</td>\n",
       "      <td>28.970839</td>\n",
       "      <td>137.592616</td>\n",
       "      <td>333.508025</td>\n",
       "      <td>157.602408</td>\n",
       "      <td>237.779453</td>\n",
       "      <td>...</td>\n",
       "      <td>0.002176</td>\n",
       "      <td>0.014225</td>\n",
       "      <td>0.076922</td>\n",
       "      <td>0.0</td>\n",
       "      <td>0.014222</td>\n",
       "      <td>0.961288</td>\n",
       "      <td>0.030872</td>\n",
       "      <td>0.045062</td>\n",
       "      <td>12.627170</td>\n",
       "      <td>0.870957</td>\n",
       "    </tr>\n",
       "    <tr>\n",
       "      <th>T cells CD8+</th>\n",
       "      <td>1831.946972</td>\n",
       "      <td>10.080339</td>\n",
       "      <td>1217.114418</td>\n",
       "      <td>1437.163620</td>\n",
       "      <td>2415.550297</td>\n",
       "      <td>239.535060</td>\n",
       "      <td>2976.009960</td>\n",
       "      <td>1537.583444</td>\n",
       "      <td>2373.284320</td>\n",
       "      <td>3109.810714</td>\n",
       "      <td>...</td>\n",
       "      <td>0.000000</td>\n",
       "      <td>17.021225</td>\n",
       "      <td>2.730522</td>\n",
       "      <td>0.0</td>\n",
       "      <td>6.793981</td>\n",
       "      <td>27.749674</td>\n",
       "      <td>2.483616</td>\n",
       "      <td>1.047659</td>\n",
       "      <td>25.644849</td>\n",
       "      <td>3.902548</td>\n",
       "    </tr>\n",
       "    <tr>\n",
       "      <th>T cells CD4+</th>\n",
       "      <td>599.022761</td>\n",
       "      <td>2.474468</td>\n",
       "      <td>454.147104</td>\n",
       "      <td>212.653946</td>\n",
       "      <td>70.232031</td>\n",
       "      <td>39.989713</td>\n",
       "      <td>238.097447</td>\n",
       "      <td>673.472859</td>\n",
       "      <td>740.098514</td>\n",
       "      <td>423.508378</td>\n",
       "      <td>...</td>\n",
       "      <td>0.000000</td>\n",
       "      <td>0.394422</td>\n",
       "      <td>0.121108</td>\n",
       "      <td>0.0</td>\n",
       "      <td>0.003216</td>\n",
       "      <td>1.501675</td>\n",
       "      <td>0.001842</td>\n",
       "      <td>0.044346</td>\n",
       "      <td>30.791485</td>\n",
       "      <td>3.907978</td>\n",
       "    </tr>\n",
       "    <tr>\n",
       "      <th>NK cells</th>\n",
       "      <td>273104.911860</td>\n",
       "      <td>11845.974952</td>\n",
       "      <td>188502.000317</td>\n",
       "      <td>162337.193759</td>\n",
       "      <td>65327.298033</td>\n",
       "      <td>29845.768677</td>\n",
       "      <td>225590.926011</td>\n",
       "      <td>176758.397432</td>\n",
       "      <td>207509.150953</td>\n",
       "      <td>276919.028702</td>\n",
       "      <td>...</td>\n",
       "      <td>3.860192</td>\n",
       "      <td>123.013058</td>\n",
       "      <td>121.011013</td>\n",
       "      <td>0.0</td>\n",
       "      <td>74.830287</td>\n",
       "      <td>1669.259304</td>\n",
       "      <td>62.093806</td>\n",
       "      <td>89.796540</td>\n",
       "      <td>7638.430940</td>\n",
       "      <td>424.193195</td>\n",
       "    </tr>\n",
       "  </tbody>\n",
       "</table>\n",
       "<p>5 rows × 54645 columns</p>\n",
       "</div>"
      ],
      "text/plain": [
       "                       TSPAN6          TNMD           DPM1          SCYL3  \\\n",
       "B cells Memory   65158.920757   1005.181063   42190.195304   34329.650952   \n",
       "B cells Naive      361.001165      1.863320     209.516584     136.645334   \n",
       "T cells CD8+      1831.946972     10.080339    1217.114418    1437.163620   \n",
       "T cells CD4+       599.022761      2.474468     454.147104     212.653946   \n",
       "NK cells        273104.911860  11845.974952  188502.000317  162337.193759   \n",
       "\n",
       "                    C1orf112           FGR            CFH          FUCA2  \\\n",
       "B cells Memory  14094.098671  15358.266029   66419.569737   44514.625047   \n",
       "B cells Naive      51.058173     28.970839     137.592616     333.508025   \n",
       "T cells CD8+     2415.550297    239.535060    2976.009960    1537.583444   \n",
       "T cells CD4+       70.232031     39.989713     238.097447     673.472859   \n",
       "NK cells        65327.298033  29845.768677  225590.926011  176758.397432   \n",
       "\n",
       "                         GCLC           NFYA  ...  RP11-744A16.4      PAUPAR  \\\n",
       "B cells Memory   41606.851341   62143.834206  ...       1.770127   63.330040   \n",
       "B cells Naive      157.602408     237.779453  ...       0.002176    0.014225   \n",
       "T cells CD8+      2373.284320    3109.810714  ...       0.000000   17.021225   \n",
       "T cells CD4+       740.098514     423.508378  ...       0.000000    0.394422   \n",
       "NK cells        207509.150953  276919.028702  ...       3.860192  123.013058   \n",
       "\n",
       "                RP11-65B7.2  GIMAP1-GIMAP5  RP11-274B21.13   AF127936.7  \\\n",
       "B cells Memory    27.551306            0.0       12.934169   331.492104   \n",
       "B cells Naive      0.076922            0.0        0.014222     0.961288   \n",
       "T cells CD8+       2.730522            0.0        6.793981    27.749674   \n",
       "T cells CD4+       0.121108            0.0        0.003216     1.501675   \n",
       "NK cells         121.011013            0.0       74.830287  1669.259304   \n",
       "\n",
       "                CH17-132F21.5  RP11-439M15.1    LINC01144  RP11-418H16.1  \n",
       "B cells Memory       8.918660      14.947946  1791.068259     122.143095  \n",
       "B cells Naive        0.030872       0.045062    12.627170       0.870957  \n",
       "T cells CD8+         2.483616       1.047659    25.644849       3.902548  \n",
       "T cells CD4+         0.001842       0.044346    30.791485       3.907978  \n",
       "NK cells            62.093806      89.796540  7638.430940     424.193195  \n",
       "\n",
       "[5 rows x 54645 columns]"
      ]
     },
     "execution_count": 3,
     "metadata": {},
     "output_type": "execute_result"
    }
   ],
   "source": [
    "adata.head(5)"
   ]
  },
  {
   "cell_type": "code",
   "execution_count": 4,
   "id": "c3519e5b-f109-43a2-acfc-d344d23c0515",
   "metadata": {
    "tags": []
   },
   "outputs": [
    {
     "data": {
      "text/plain": [
       "AnnData object with n_obs × n_vars = 7 × 54645"
      ]
     },
     "execution_count": 4,
     "metadata": {},
     "output_type": "execute_result"
    }
   ],
   "source": [
    "# Transform to AnnData object\n",
    "adata = AnnData(adata, dtype=np.float32)\n",
    "adata.var_names_make_unique()\n",
    "adata"
   ]
  },
  {
   "cell_type": "code",
   "execution_count": 5,
   "id": "931c7edc-9035-4698-9920-75b0edf43106",
   "metadata": {
    "tags": []
   },
   "outputs": [
    {
     "data": {
      "image/png": "[encoded data removed]",
      "text/plain": [
       "<Figure size 500x400 with 2 Axes>"
      ]
     },
     "metadata": {},
     "output_type": "display_data"
    }
   ],
   "source": [
    "dc.plot_filter_by_expr(adata, group=None, min_count=10, min_total_count=15, large_n=1, min_prop=1)"
   ]
  },
  {
   "cell_type": "code",
   "execution_count": 6,
   "id": "a5a7d587-ec4d-4535-861a-74b1c725d126",
   "metadata": {
    "tags": []
   },
   "outputs": [
    {
     "data": {
      "text/plain": [
       "AnnData object with n_obs × n_vars = 7 × 30603"
      ]
     },
     "execution_count": 6,
     "metadata": {},
     "output_type": "execute_result"
    }
   ],
   "source": [
    "# Obtain genes that pass the thresholds\n",
    "genes = dc.filter_by_expr(adata, group=None, min_count=10, min_total_count=15, large_n=1, min_prop=1)\n",
    "\n",
    "# Filter by these genes\n",
    "adata = adata[:, genes].copy()\n",
    "adata"
   ]
  },
  {
   "cell_type": "code",
   "execution_count": 7,
   "id": "0ddadb59-ac3f-4bec-9d30-f75805e02d47",
   "metadata": {
    "tags": []
   },
   "outputs": [],
   "source": [
    "# path = \"../data/brca/tcga/processed/GSE176078/ct_minor/genes_prop_cells_primary_tumor_unstranded_subset_CID3586.h5ad\"\n",
    "# adata = sc.read_h5ad(path)"
   ]
  },
  {
   "cell_type": "code",
   "execution_count": 8,
   "id": "bda24a37-f1d1-49cf-92d0-bf1eaa439683",
   "metadata": {
    "tags": []
   },
   "outputs": [
    {
     "data": {
      "text/html": [
       "<div>\n",
       "<style scoped>\n",
       "    .dataframe tbody tr th:only-of-type {\n",
       "        vertical-align: middle;\n",
       "    }\n",
       "\n",
       "    .dataframe tbody tr th {\n",
       "        vertical-align: top;\n",
       "    }\n",
       "\n",
       "    .dataframe thead th {\n",
       "        text-align: right;\n",
       "    }\n",
       "</style>\n",
       "<table border=\"1\" class=\"dataframe\">\n",
       "  <thead>\n",
       "    <tr style=\"text-align: right;\">\n",
       "      <th></th>\n",
       "      <th>source</th>\n",
       "      <th>target</th>\n",
       "      <th>weight</th>\n",
       "      <th>p_value</th>\n",
       "    </tr>\n",
       "  </thead>\n",
       "  <tbody>\n",
       "    <tr>\n",
       "      <th>0</th>\n",
       "      <td>Androgen</td>\n",
       "      <td>TMPRSS2</td>\n",
       "      <td>11.490631</td>\n",
       "      <td>0.000000e+00</td>\n",
       "    </tr>\n",
       "    <tr>\n",
       "      <th>1</th>\n",
       "      <td>Androgen</td>\n",
       "      <td>NKX3-1</td>\n",
       "      <td>10.622551</td>\n",
       "      <td>2.242078e-44</td>\n",
       "    </tr>\n",
       "    <tr>\n",
       "      <th>2</th>\n",
       "      <td>Androgen</td>\n",
       "      <td>MBOAT2</td>\n",
       "      <td>10.472733</td>\n",
       "      <td>4.624285e-44</td>\n",
       "    </tr>\n",
       "    <tr>\n",
       "      <th>3</th>\n",
       "      <td>Androgen</td>\n",
       "      <td>KLK2</td>\n",
       "      <td>10.176186</td>\n",
       "      <td>1.944414e-40</td>\n",
       "    </tr>\n",
       "    <tr>\n",
       "      <th>4</th>\n",
       "      <td>Androgen</td>\n",
       "      <td>SARG</td>\n",
       "      <td>11.386852</td>\n",
       "      <td>2.790209e-40</td>\n",
       "    </tr>\n",
       "    <tr>\n",
       "      <th>...</th>\n",
       "      <td>...</td>\n",
       "      <td>...</td>\n",
       "      <td>...</td>\n",
       "      <td>...</td>\n",
       "    </tr>\n",
       "    <tr>\n",
       "      <th>4195</th>\n",
       "      <td>p53</td>\n",
       "      <td>F5</td>\n",
       "      <td>2.397854</td>\n",
       "      <td>5.746843e-08</td>\n",
       "    </tr>\n",
       "    <tr>\n",
       "      <th>4196</th>\n",
       "      <td>p53</td>\n",
       "      <td>MKI67</td>\n",
       "      <td>-5.680340</td>\n",
       "      <td>5.758565e-08</td>\n",
       "    </tr>\n",
       "    <tr>\n",
       "      <th>4197</th>\n",
       "      <td>p53</td>\n",
       "      <td>THOC2</td>\n",
       "      <td>-2.108178</td>\n",
       "      <td>5.858359e-08</td>\n",
       "    </tr>\n",
       "    <tr>\n",
       "      <th>4198</th>\n",
       "      <td>p53</td>\n",
       "      <td>POLA1</td>\n",
       "      <td>-4.943873</td>\n",
       "      <td>5.911873e-08</td>\n",
       "    </tr>\n",
       "    <tr>\n",
       "      <th>4199</th>\n",
       "      <td>p53</td>\n",
       "      <td>TMEM52</td>\n",
       "      <td>2.596648</td>\n",
       "      <td>6.576950e-08</td>\n",
       "    </tr>\n",
       "  </tbody>\n",
       "</table>\n",
       "<p>4200 rows × 4 columns</p>\n",
       "</div>"
      ],
      "text/plain": [
       "        source   target     weight       p_value\n",
       "0     Androgen  TMPRSS2  11.490631  0.000000e+00\n",
       "1     Androgen   NKX3-1  10.622551  2.242078e-44\n",
       "2     Androgen   MBOAT2  10.472733  4.624285e-44\n",
       "3     Androgen     KLK2  10.176186  1.944414e-40\n",
       "4     Androgen     SARG  11.386852  2.790209e-40\n",
       "...        ...      ...        ...           ...\n",
       "4195       p53       F5   2.397854  5.746843e-08\n",
       "4196       p53    MKI67  -5.680340  5.758565e-08\n",
       "4197       p53    THOC2  -2.108178  5.858359e-08\n",
       "4198       p53    POLA1  -4.943873  5.911873e-08\n",
       "4199       p53   TMEM52   2.596648  6.576950e-08\n",
       "\n",
       "[4200 rows x 4 columns]"
      ]
     },
     "execution_count": 8,
     "metadata": {},
     "output_type": "execute_result"
    }
   ],
   "source": [
    "model = dc.get_progeny(organism='human', top=300)\n",
    "model"
   ]
  },
  {
   "cell_type": "code",
   "execution_count": 9,
   "id": "0cc94035-af96-408d-815d-22148aafebbf",
   "metadata": {
    "tags": []
   },
   "outputs": [
    {
     "data": {
      "text/plain": [
       "array(['Androgen', 'EGFR', 'Estrogen', 'Hypoxia', 'JAK-STAT', 'MAPK',\n",
       "       'NFkB', 'PI3K', 'TGFb', 'TNFa', 'Trail', 'VEGF', 'WNT', 'p53'],\n",
       "      dtype=object)"
      ]
     },
     "execution_count": 9,
     "metadata": {},
     "output_type": "execute_result"
    }
   ],
   "source": [
    "pd.unique(model.source)"
   ]
  },
  {
   "cell_type": "code",
   "execution_count": 10,
   "id": "36441391-4827-4ede-85e7-6b73bd0e28c7",
   "metadata": {
    "tags": []
   },
   "outputs": [
    {
     "name": "stdout",
     "output_type": "stream",
     "text": [
      "Running consensus.\n",
      "Running mlm on mat with 7 samples and 30603 targets for 14 sources.\n"
     ]
    },
    {
     "name": "stderr",
     "output_type": "stream",
     "text": [
      "100%|████████████████████████████████████████████████████████████████████████████████████████████████████████████████████████████████████████████████████████████████████████████████████████████████████████| 1/1 [00:00<00:00, 99.10it/s]\n"
     ]
    },
    {
     "name": "stdout",
     "output_type": "stream",
     "text": [
      "Running ulm on mat with 7 samples and 30603 targets for 14 sources.\n",
      "Running wsum on mat with 7 samples and 30603 targets for 14 sources.\n",
      "Infering activities on 1 batches.\n"
     ]
    },
    {
     "name": "stderr",
     "output_type": "stream",
     "text": [
      "100%|████████████████████████████████████████████████████████████████████████████████████████████████████████████████████████████████████████████████████████████████████████████████████████████████████████| 1/1 [00:01<00:00,  1.03s/it]\n"
     ]
    }
   ],
   "source": [
    "# Infer pathway activities with consensus\n",
    "dc.run_consensus(mat=adata, \n",
    "                 net=model,\n",
    "                 use_raw=False, \n",
    "                 verbose=True)"
   ]
  },
  {
   "cell_type": "code",
   "execution_count": 11,
   "id": "40c710fe-8e03-4739-a471-9d66f8ea62d3",
   "metadata": {
    "tags": []
   },
   "outputs": [
    {
     "data": {
      "text/plain": [
       "AnnData object with n_obs × n_vars = 7 × 30603\n",
       "    obsm: 'consensus_estimate', 'consensus_pvals'"
      ]
     },
     "execution_count": 11,
     "metadata": {},
     "output_type": "execute_result"
    }
   ],
   "source": [
    "adata"
   ]
  },
  {
   "cell_type": "code",
   "execution_count": 12,
   "id": "936a396e-ba8d-4aa0-b592-da28cfb63bbe",
   "metadata": {
    "tags": []
   },
   "outputs": [],
   "source": [
    "# Extract from dictionary\n",
    "acts =  adata.obsm['consensus_estimate']\n",
    "pvals = adata.obsm['consensus_pvals']"
   ]
  },
  {
   "cell_type": "code",
   "execution_count": 13,
   "id": "2551c995-f4f8-4ae0-a560-a79d9ed9053b",
   "metadata": {
    "tags": []
   },
   "outputs": [
    {
     "data": {
      "image/png": "[encoded data removed]",
      "text/plain": [
       "<Figure size 1000x500 with 4 Axes>"
      ]
     },
     "metadata": {},
     "output_type": "display_data"
    }
   ],
   "source": [
    "fig, axes = plt.subplots(1,2, figsize=(10,5), tight_layout=True, sharey=True)\n",
    "\n",
    "axes[0].set_title('Pathway Activity')\n",
    "sns.heatmap(acts, cmap='coolwarm', vmin=-1, vmax=1, ax=axes[0])\n",
    "axes[1].set_title('p-values')\n",
    "sns.heatmap(pvals, cmap='viridis_r', ax=axes[1], vmax=1)\n",
    "path = \"../figures/GSE176078/With_No_Other/Immune_cell_cancer_pathways.png\"\n",
    "fig.suptitle(\"Pathway Activity in TCGA Breast Cancer\")\n",
    "plt.savefig(path,format='png')\n",
    "plt.show()\n",
    "plt.close()"
   ]
  },
  {
   "cell_type": "markdown",
   "id": "6041f008-1d86-438c-8a2c-c73a1e59a291",
   "metadata": {},
   "source": [
    "Cells of the immune system, such as B, T, and NK cells, tend to exhibit higher activity in pathways that regulate immune responses, such as TGFb, but lower activity in pathways that induce apoptosis, such as Trail. Interestingly, these same cell types are also involved in the MAPK pathway, which is known to promote cell growth and proliferation."
   ]
  },
  {
   "cell_type": "code",
   "execution_count": 21,
   "id": "47a9bcfa-03a1-4f48-a3b6-a9e639527288",
   "metadata": {
    "tags": []
   },
   "outputs": [
    {
     "data": {
      "text/plain": [
       "2413         ID1\n",
       "2423         ID3\n",
       "2410        COMP\n",
       "2432      PMEPA1\n",
       "2402       SMAD7\n",
       "2457       RFLNB\n",
       "2421       FSTL3\n",
       "2573      AMIGO2\n",
       "2607    SERPINE1\n",
       "2551       CTPS1\n",
       "Name: target, dtype: object"
      ]
     },
     "execution_count": 21,
     "metadata": {},
     "output_type": "execute_result"
    }
   ],
   "source": [
    "model.query(\"source == 'TGFb'\").sort_values(by=\"weight\", ascending=False)[\"target\"].head(10)"
   ]
  },
  {
   "cell_type": "markdown",
   "id": "cc47af7e-a912-47aa-99d2-f0c0652ef223",
   "metadata": {},
   "source": [
    "* ID1: Prognostic marker in lung cancer (unfavorable)\n",
    "* ID3: Prognostic marker in endometrial cancer (favorable)\n",
    "* COMP: Prognostic marker in renal cancer (unfavorable), colorectal cancer (unfavorable), endometrial cancer (unfavorable) and urothelial cancer (unfavorable)\n",
    "* PMEPA1: Prognostic marker in renal cancer (unfavorable), lung cancer (unfavorable), cervical cancer (unfavorable) and urothelial cancer (unfavorable) - Cancer enhanced (prostate cancer)\n",
    "* SMAD7: Prognostic marker in endometrial cancer (unfavorable)"
   ]
  },
  {
   "cell_type": "code",
   "execution_count": 22,
   "id": "58d21205-71bb-4e39-bba4-f998f0a05bf9",
   "metadata": {
    "tags": []
   },
   "outputs": [
    {
     "data": {
      "text/plain": [
       "1500     DUSP6\n",
       "1507     SPRY4\n",
       "1502     SPRY2\n",
       "1506     FOSL1\n",
       "1603      MMP1\n",
       "1756      IER3\n",
       "1625      EGR1\n",
       "1515     DUSP5\n",
       "1508     DUSP4\n",
       "1511    PHLDA1\n",
       "Name: target, dtype: object"
      ]
     },
     "execution_count": 22,
     "metadata": {},
     "output_type": "execute_result"
    }
   ],
   "source": [
    "model.query(\"source == 'MAPK'\").sort_values(by=\"weight\", ascending=False)[\"target\"].head(10)"
   ]
  },
  {
   "cell_type": "markdown",
   "id": "5c891c45-3962-49f7-8cda-b92a27e965b0",
   "metadata": {
    "tags": []
   },
   "source": [
    "* DUSP6: Prognostic marker in endometrial cancer (favorable) - \tCancer enhanced (thyroid cancer)\n",
    "* SPRY4: Prognostic marker in renal cancer (unfavorable) and cervical cancer (unfavorable)\n",
    "* SPRY2:upregulated in colorectal cancer, Lung cancer\n",
    "* FOSL1:Cancer enhanced (head and neck cancer)\n",
    "* MMP1: upregulated in Myeloma, Lung cancer, Colorectal cancer, Ovarian cancer"
   ]
  },
  {
   "cell_type": "code",
   "execution_count": 19,
   "id": "99667baf-585f-4428-850f-5a2b1bffb695",
   "metadata": {
    "tags": []
   },
   "outputs": [
    {
     "data": {
      "text/html": [
       "<div>\n",
       "<style scoped>\n",
       "    .dataframe tbody tr th:only-of-type {\n",
       "        vertical-align: middle;\n",
       "    }\n",
       "\n",
       "    .dataframe tbody tr th {\n",
       "        vertical-align: top;\n",
       "    }\n",
       "\n",
       "    .dataframe thead th {\n",
       "        text-align: right;\n",
       "    }\n",
       "</style>\n",
       "<table border=\"1\" class=\"dataframe\">\n",
       "  <thead>\n",
       "    <tr style=\"text-align: right;\">\n",
       "      <th></th>\n",
       "      <th>source</th>\n",
       "      <th>target</th>\n",
       "      <th>weight</th>\n",
       "      <th>p_value</th>\n",
       "    </tr>\n",
       "  </thead>\n",
       "  <tbody>\n",
       "    <tr>\n",
       "      <th>0</th>\n",
       "      <td>TGFb</td>\n",
       "      <td>ID1</td>\n",
       "      <td>12.354288</td>\n",
       "      <td>2.584252e-13</td>\n",
       "    </tr>\n",
       "    <tr>\n",
       "      <th>1</th>\n",
       "      <td>TGFb</td>\n",
       "      <td>ID3</td>\n",
       "      <td>10.481113</td>\n",
       "      <td>1.342255e-11</td>\n",
       "    </tr>\n",
       "    <tr>\n",
       "      <th>2</th>\n",
       "      <td>TGFb</td>\n",
       "      <td>COMP</td>\n",
       "      <td>9.899250</td>\n",
       "      <td>6.765808e-14</td>\n",
       "    </tr>\n",
       "    <tr>\n",
       "      <th>3</th>\n",
       "      <td>TGFb</td>\n",
       "      <td>PMEPA1</td>\n",
       "      <td>8.096141</td>\n",
       "      <td>1.694040e-10</td>\n",
       "    </tr>\n",
       "    <tr>\n",
       "      <th>4</th>\n",
       "      <td>TGFb</td>\n",
       "      <td>SMAD7</td>\n",
       "      <td>7.631144</td>\n",
       "      <td>7.308711e-16</td>\n",
       "    </tr>\n",
       "    <tr>\n",
       "      <th>5</th>\n",
       "      <td>TGFb</td>\n",
       "      <td>RFLNB</td>\n",
       "      <td>7.309130</td>\n",
       "      <td>8.958361e-09</td>\n",
       "    </tr>\n",
       "    <tr>\n",
       "      <th>6</th>\n",
       "      <td>TGFb</td>\n",
       "      <td>FSTL3</td>\n",
       "      <td>6.807359</td>\n",
       "      <td>1.049378e-11</td>\n",
       "    </tr>\n",
       "    <tr>\n",
       "      <th>7</th>\n",
       "      <td>TGFb</td>\n",
       "      <td>AMIGO2</td>\n",
       "      <td>6.470026</td>\n",
       "      <td>8.247753e-06</td>\n",
       "    </tr>\n",
       "    <tr>\n",
       "      <th>8</th>\n",
       "      <td>TGFb</td>\n",
       "      <td>SERPINE1</td>\n",
       "      <td>6.460588</td>\n",
       "      <td>2.055810e-05</td>\n",
       "    </tr>\n",
       "    <tr>\n",
       "      <th>9</th>\n",
       "      <td>TGFb</td>\n",
       "      <td>CTPS1</td>\n",
       "      <td>6.372225</td>\n",
       "      <td>3.046734e-06</td>\n",
       "    </tr>\n",
       "  </tbody>\n",
       "</table>\n",
       "</div>"
      ],
      "text/plain": [
       "  source    target     weight       p_value\n",
       "0   TGFb       ID1  12.354288  2.584252e-13\n",
       "1   TGFb       ID3  10.481113  1.342255e-11\n",
       "2   TGFb      COMP   9.899250  6.765808e-14\n",
       "3   TGFb    PMEPA1   8.096141  1.694040e-10\n",
       "4   TGFb     SMAD7   7.631144  7.308711e-16\n",
       "5   TGFb     RFLNB   7.309130  8.958361e-09\n",
       "6   TGFb     FSTL3   6.807359  1.049378e-11\n",
       "7   TGFb    AMIGO2   6.470026  8.247753e-06\n",
       "8   TGFb  SERPINE1   6.460588  2.055810e-05\n",
       "9   TGFb     CTPS1   6.372225  3.046734e-06"
      ]
     },
     "execution_count": 19,
     "metadata": {},
     "output_type": "execute_result"
    }
   ],
   "source": [
    "t = model.query(\"source=='TGFb'\").sort_values(by=\"weight\", ascending=False).head(10)\n",
    "t = t.reset_index().drop([\"index\"], axis=1)\n",
    "t"
   ]
  },
  {
   "cell_type": "code",
   "execution_count": 41,
   "id": "a3ffa42b-ad6a-41de-92aa-6f4b98f2bc00",
   "metadata": {
    "tags": []
   },
   "outputs": [],
   "source": [
    "def save_df(df, path):\n",
    "    fig = go.Figure(data=[\n",
    "                     go.Table(\n",
    "                        header=dict(values=list(df.columns),align='center'),\n",
    "                        cells=dict(values=df.values.transpose(),\n",
    "                                   fill_color = [[\"white\",\"lightgrey\"]*df.shape[0]],\n",
    "                                   align='center'\n",
    "                                  )\n",
    "                            )\n",
    "                       ])\n",
    "    fig.write_image(path,scale=10)\n"
   ]
  },
  {
   "cell_type": "code",
   "execution_count": 28,
   "id": "9ff1399d-4b40-40f7-a4a5-0c9ec26d579c",
   "metadata": {
    "tags": []
   },
   "outputs": [
    {
     "data": {
      "text/html": [
       "<div>\n",
       "<style scoped>\n",
       "    .dataframe tbody tr th:only-of-type {\n",
       "        vertical-align: middle;\n",
       "    }\n",
       "\n",
       "    .dataframe tbody tr th {\n",
       "        vertical-align: top;\n",
       "    }\n",
       "\n",
       "    .dataframe thead th {\n",
       "        text-align: right;\n",
       "    }\n",
       "</style>\n",
       "<table border=\"1\" class=\"dataframe\">\n",
       "  <thead>\n",
       "    <tr style=\"text-align: right;\">\n",
       "      <th></th>\n",
       "      <th>source</th>\n",
       "      <th>target</th>\n",
       "      <th>weight</th>\n",
       "      <th>p_value</th>\n",
       "    </tr>\n",
       "  </thead>\n",
       "  <tbody>\n",
       "    <tr>\n",
       "      <th>0</th>\n",
       "      <td>TGFb</td>\n",
       "      <td>ID1</td>\n",
       "      <td>12.354</td>\n",
       "      <td>0.00000</td>\n",
       "    </tr>\n",
       "    <tr>\n",
       "      <th>1</th>\n",
       "      <td>TGFb</td>\n",
       "      <td>ID3</td>\n",
       "      <td>10.481</td>\n",
       "      <td>0.00000</td>\n",
       "    </tr>\n",
       "    <tr>\n",
       "      <th>2</th>\n",
       "      <td>TGFb</td>\n",
       "      <td>COMP</td>\n",
       "      <td>9.899</td>\n",
       "      <td>0.00000</td>\n",
       "    </tr>\n",
       "    <tr>\n",
       "      <th>3</th>\n",
       "      <td>TGFb</td>\n",
       "      <td>PMEPA1</td>\n",
       "      <td>8.096</td>\n",
       "      <td>0.00000</td>\n",
       "    </tr>\n",
       "    <tr>\n",
       "      <th>4</th>\n",
       "      <td>TGFb</td>\n",
       "      <td>SMAD7</td>\n",
       "      <td>7.631</td>\n",
       "      <td>0.00000</td>\n",
       "    </tr>\n",
       "    <tr>\n",
       "      <th>5</th>\n",
       "      <td>TGFb</td>\n",
       "      <td>RFLNB</td>\n",
       "      <td>7.309</td>\n",
       "      <td>0.00000</td>\n",
       "    </tr>\n",
       "    <tr>\n",
       "      <th>6</th>\n",
       "      <td>TGFb</td>\n",
       "      <td>FSTL3</td>\n",
       "      <td>6.807</td>\n",
       "      <td>0.00000</td>\n",
       "    </tr>\n",
       "    <tr>\n",
       "      <th>7</th>\n",
       "      <td>TGFb</td>\n",
       "      <td>AMIGO2</td>\n",
       "      <td>6.470</td>\n",
       "      <td>0.00001</td>\n",
       "    </tr>\n",
       "    <tr>\n",
       "      <th>8</th>\n",
       "      <td>TGFb</td>\n",
       "      <td>SERPINE1</td>\n",
       "      <td>6.461</td>\n",
       "      <td>0.00002</td>\n",
       "    </tr>\n",
       "    <tr>\n",
       "      <th>9</th>\n",
       "      <td>TGFb</td>\n",
       "      <td>CTPS1</td>\n",
       "      <td>6.372</td>\n",
       "      <td>0.00000</td>\n",
       "    </tr>\n",
       "  </tbody>\n",
       "</table>\n",
       "</div>"
      ],
      "text/plain": [
       "  source    target  weight  p_value\n",
       "0   TGFb       ID1  12.354  0.00000\n",
       "1   TGFb       ID3  10.481  0.00000\n",
       "2   TGFb      COMP   9.899  0.00000\n",
       "3   TGFb    PMEPA1   8.096  0.00000\n",
       "4   TGFb     SMAD7   7.631  0.00000\n",
       "5   TGFb     RFLNB   7.309  0.00000\n",
       "6   TGFb     FSTL3   6.807  0.00000\n",
       "7   TGFb    AMIGO2   6.470  0.00001\n",
       "8   TGFb  SERPINE1   6.461  0.00002\n",
       "9   TGFb     CTPS1   6.372  0.00000"
      ]
     },
     "execution_count": 28,
     "metadata": {},
     "output_type": "execute_result"
    }
   ],
   "source": [
    "t = t.round({'weight': 3, 'p_value':5})\n",
    "t"
   ]
  },
  {
   "cell_type": "code",
   "execution_count": 32,
   "id": "698bf8d4-b060-449e-a734-b819d4afe7a2",
   "metadata": {
    "tags": []
   },
   "outputs": [
    {
     "data": {
      "text/html": [
       "<div>\n",
       "<style scoped>\n",
       "    .dataframe tbody tr th:only-of-type {\n",
       "        vertical-align: middle;\n",
       "    }\n",
       "\n",
       "    .dataframe tbody tr th {\n",
       "        vertical-align: top;\n",
       "    }\n",
       "\n",
       "    .dataframe thead th {\n",
       "        text-align: right;\n",
       "    }\n",
       "</style>\n",
       "<table border=\"1\" class=\"dataframe\">\n",
       "  <thead>\n",
       "    <tr style=\"text-align: right;\">\n",
       "      <th></th>\n",
       "      <th>source</th>\n",
       "      <th>target</th>\n",
       "      <th>weight</th>\n",
       "      <th>p_value</th>\n",
       "    </tr>\n",
       "  </thead>\n",
       "  <tbody>\n",
       "    <tr>\n",
       "      <th>0</th>\n",
       "      <td>Trail</td>\n",
       "      <td>RHEBL1</td>\n",
       "      <td>4.129</td>\n",
       "      <td>0.002</td>\n",
       "    </tr>\n",
       "    <tr>\n",
       "      <th>1</th>\n",
       "      <td>Trail</td>\n",
       "      <td>SMIM3</td>\n",
       "      <td>3.712</td>\n",
       "      <td>0.034</td>\n",
       "    </tr>\n",
       "    <tr>\n",
       "      <th>2</th>\n",
       "      <td>Trail</td>\n",
       "      <td>GPR18</td>\n",
       "      <td>3.241</td>\n",
       "      <td>0.000</td>\n",
       "    </tr>\n",
       "    <tr>\n",
       "      <th>3</th>\n",
       "      <td>Trail</td>\n",
       "      <td>RAB37</td>\n",
       "      <td>2.948</td>\n",
       "      <td>0.009</td>\n",
       "    </tr>\n",
       "    <tr>\n",
       "      <th>4</th>\n",
       "      <td>Trail</td>\n",
       "      <td>RNF175</td>\n",
       "      <td>2.801</td>\n",
       "      <td>0.013</td>\n",
       "    </tr>\n",
       "    <tr>\n",
       "      <th>5</th>\n",
       "      <td>Trail</td>\n",
       "      <td>UAP1L1</td>\n",
       "      <td>2.797</td>\n",
       "      <td>0.015</td>\n",
       "    </tr>\n",
       "    <tr>\n",
       "      <th>6</th>\n",
       "      <td>Trail</td>\n",
       "      <td>SELL</td>\n",
       "      <td>2.472</td>\n",
       "      <td>0.032</td>\n",
       "    </tr>\n",
       "    <tr>\n",
       "      <th>7</th>\n",
       "      <td>Trail</td>\n",
       "      <td>BRI3</td>\n",
       "      <td>2.352</td>\n",
       "      <td>0.053</td>\n",
       "    </tr>\n",
       "    <tr>\n",
       "      <th>8</th>\n",
       "      <td>Trail</td>\n",
       "      <td>GSDME</td>\n",
       "      <td>2.348</td>\n",
       "      <td>0.064</td>\n",
       "    </tr>\n",
       "    <tr>\n",
       "      <th>9</th>\n",
       "      <td>Trail</td>\n",
       "      <td>WT1-AS</td>\n",
       "      <td>2.225</td>\n",
       "      <td>0.000</td>\n",
       "    </tr>\n",
       "  </tbody>\n",
       "</table>\n",
       "</div>"
      ],
      "text/plain": [
       "  source  target  weight  p_value\n",
       "0  Trail  RHEBL1   4.129    0.002\n",
       "1  Trail   SMIM3   3.712    0.034\n",
       "2  Trail   GPR18   3.241    0.000\n",
       "3  Trail   RAB37   2.948    0.009\n",
       "4  Trail  RNF175   2.801    0.013\n",
       "5  Trail  UAP1L1   2.797    0.015\n",
       "6  Trail    SELL   2.472    0.032\n",
       "7  Trail    BRI3   2.352    0.053\n",
       "8  Trail   GSDME   2.348    0.064\n",
       "9  Trail  WT1-AS   2.225    0.000"
      ]
     },
     "execution_count": 32,
     "metadata": {},
     "output_type": "execute_result"
    }
   ],
   "source": [
    "t2 = model.query(\"source=='Trail'\").sort_values(by=\"weight\", ascending=False).head(10)\n",
    "t2 = t2.reset_index().drop([\"index\"], axis=1)\n",
    "t2 = t2.round({'weight': 3, 'p_value':3})\n",
    "t2"
   ]
  },
  {
   "cell_type": "code",
   "execution_count": 40,
   "id": "0cb35758-6689-4051-ba8c-4da911ec2dae",
   "metadata": {
    "tags": []
   },
   "outputs": [
    {
     "data": {
      "text/html": [
       "<div>\n",
       "<style scoped>\n",
       "    .dataframe tbody tr th:only-of-type {\n",
       "        vertical-align: middle;\n",
       "    }\n",
       "\n",
       "    .dataframe tbody tr th {\n",
       "        vertical-align: top;\n",
       "    }\n",
       "\n",
       "    .dataframe thead th {\n",
       "        text-align: right;\n",
       "    }\n",
       "</style>\n",
       "<table border=\"1\" class=\"dataframe\">\n",
       "  <thead>\n",
       "    <tr style=\"text-align: right;\">\n",
       "      <th></th>\n",
       "      <th>source</th>\n",
       "      <th>target</th>\n",
       "      <th>weight</th>\n",
       "      <th>p_value</th>\n",
       "    </tr>\n",
       "  </thead>\n",
       "  <tbody>\n",
       "    <tr>\n",
       "      <th>0</th>\n",
       "      <td>TGFb</td>\n",
       "      <td>ID1</td>\n",
       "      <td>12.354</td>\n",
       "      <td>0.00000</td>\n",
       "    </tr>\n",
       "    <tr>\n",
       "      <th>1</th>\n",
       "      <td>TGFb</td>\n",
       "      <td>ID3</td>\n",
       "      <td>10.481</td>\n",
       "      <td>0.00000</td>\n",
       "    </tr>\n",
       "    <tr>\n",
       "      <th>2</th>\n",
       "      <td>TGFb</td>\n",
       "      <td>COMP</td>\n",
       "      <td>9.899</td>\n",
       "      <td>0.00000</td>\n",
       "    </tr>\n",
       "    <tr>\n",
       "      <th>3</th>\n",
       "      <td>TGFb</td>\n",
       "      <td>PMEPA1</td>\n",
       "      <td>8.096</td>\n",
       "      <td>0.00000</td>\n",
       "    </tr>\n",
       "    <tr>\n",
       "      <th>4</th>\n",
       "      <td>TGFb</td>\n",
       "      <td>SMAD7</td>\n",
       "      <td>7.631</td>\n",
       "      <td>0.00000</td>\n",
       "    </tr>\n",
       "    <tr>\n",
       "      <th>5</th>\n",
       "      <td>TGFb</td>\n",
       "      <td>RFLNB</td>\n",
       "      <td>7.309</td>\n",
       "      <td>0.00000</td>\n",
       "    </tr>\n",
       "    <tr>\n",
       "      <th>6</th>\n",
       "      <td>TGFb</td>\n",
       "      <td>FSTL3</td>\n",
       "      <td>6.807</td>\n",
       "      <td>0.00000</td>\n",
       "    </tr>\n",
       "    <tr>\n",
       "      <th>7</th>\n",
       "      <td>TGFb</td>\n",
       "      <td>AMIGO2</td>\n",
       "      <td>6.470</td>\n",
       "      <td>0.00001</td>\n",
       "    </tr>\n",
       "    <tr>\n",
       "      <th>8</th>\n",
       "      <td>TGFb</td>\n",
       "      <td>SERPINE1</td>\n",
       "      <td>6.461</td>\n",
       "      <td>0.00002</td>\n",
       "    </tr>\n",
       "    <tr>\n",
       "      <th>9</th>\n",
       "      <td>TGFb</td>\n",
       "      <td>CTPS1</td>\n",
       "      <td>6.372</td>\n",
       "      <td>0.00000</td>\n",
       "    </tr>\n",
       "    <tr>\n",
       "      <th>10</th>\n",
       "      <td>Trail</td>\n",
       "      <td>RHEBL1</td>\n",
       "      <td>4.129</td>\n",
       "      <td>0.00200</td>\n",
       "    </tr>\n",
       "    <tr>\n",
       "      <th>11</th>\n",
       "      <td>Trail</td>\n",
       "      <td>SMIM3</td>\n",
       "      <td>3.712</td>\n",
       "      <td>0.03400</td>\n",
       "    </tr>\n",
       "    <tr>\n",
       "      <th>12</th>\n",
       "      <td>Trail</td>\n",
       "      <td>GPR18</td>\n",
       "      <td>3.241</td>\n",
       "      <td>0.00000</td>\n",
       "    </tr>\n",
       "    <tr>\n",
       "      <th>13</th>\n",
       "      <td>Trail</td>\n",
       "      <td>RAB37</td>\n",
       "      <td>2.948</td>\n",
       "      <td>0.00900</td>\n",
       "    </tr>\n",
       "    <tr>\n",
       "      <th>14</th>\n",
       "      <td>Trail</td>\n",
       "      <td>RNF175</td>\n",
       "      <td>2.801</td>\n",
       "      <td>0.01300</td>\n",
       "    </tr>\n",
       "    <tr>\n",
       "      <th>15</th>\n",
       "      <td>Trail</td>\n",
       "      <td>UAP1L1</td>\n",
       "      <td>2.797</td>\n",
       "      <td>0.01500</td>\n",
       "    </tr>\n",
       "    <tr>\n",
       "      <th>16</th>\n",
       "      <td>Trail</td>\n",
       "      <td>SELL</td>\n",
       "      <td>2.472</td>\n",
       "      <td>0.03200</td>\n",
       "    </tr>\n",
       "    <tr>\n",
       "      <th>17</th>\n",
       "      <td>Trail</td>\n",
       "      <td>BRI3</td>\n",
       "      <td>2.352</td>\n",
       "      <td>0.05300</td>\n",
       "    </tr>\n",
       "    <tr>\n",
       "      <th>18</th>\n",
       "      <td>Trail</td>\n",
       "      <td>GSDME</td>\n",
       "      <td>2.348</td>\n",
       "      <td>0.06400</td>\n",
       "    </tr>\n",
       "    <tr>\n",
       "      <th>19</th>\n",
       "      <td>Trail</td>\n",
       "      <td>WT1-AS</td>\n",
       "      <td>2.225</td>\n",
       "      <td>0.00000</td>\n",
       "    </tr>\n",
       "  </tbody>\n",
       "</table>\n",
       "</div>"
      ],
      "text/plain": [
       "   source    target  weight  p_value\n",
       "0    TGFb       ID1  12.354  0.00000\n",
       "1    TGFb       ID3  10.481  0.00000\n",
       "2    TGFb      COMP   9.899  0.00000\n",
       "3    TGFb    PMEPA1   8.096  0.00000\n",
       "4    TGFb     SMAD7   7.631  0.00000\n",
       "5    TGFb     RFLNB   7.309  0.00000\n",
       "6    TGFb     FSTL3   6.807  0.00000\n",
       "7    TGFb    AMIGO2   6.470  0.00001\n",
       "8    TGFb  SERPINE1   6.461  0.00002\n",
       "9    TGFb     CTPS1   6.372  0.00000\n",
       "10  Trail    RHEBL1   4.129  0.00200\n",
       "11  Trail     SMIM3   3.712  0.03400\n",
       "12  Trail     GPR18   3.241  0.00000\n",
       "13  Trail     RAB37   2.948  0.00900\n",
       "14  Trail    RNF175   2.801  0.01300\n",
       "15  Trail    UAP1L1   2.797  0.01500\n",
       "16  Trail      SELL   2.472  0.03200\n",
       "17  Trail      BRI3   2.352  0.05300\n",
       "18  Trail     GSDME   2.348  0.06400\n",
       "19  Trail    WT1-AS   2.225  0.00000"
      ]
     },
     "execution_count": 40,
     "metadata": {},
     "output_type": "execute_result"
    }
   ],
   "source": [
    "t3 = pd.concat([t,t2], axis=0, ignore_index=True)\n",
    "t3"
   ]
  },
  {
   "cell_type": "code",
   "execution_count": 42,
   "id": "e843945e-cc51-4f52-aeb2-4eb673d35718",
   "metadata": {
    "tags": []
   },
   "outputs": [],
   "source": [
    "path = \"../figures/GSE176078/With_No_Other/pathways_model.png\"\n",
    "save_df(t3, path)"
   ]
  },
  {
   "cell_type": "code",
   "execution_count": null,
   "id": "72bdde9a-8c88-47c1-9f18-19ff131e4932",
   "metadata": {},
   "outputs": [],
   "source": []
  }
 ],
 "metadata": {
  "kernelspec": {
   "display_name": "compbio",
   "language": "python",
   "name": "compbio"
  },
  "language_info": {
   "codemirror_mode": {
    "name": "ipython",
    "version": 3
   },
   "file_extension": ".py",
   "mimetype": "text/x-python",
   "name": "python",
   "nbconvert_exporter": "python",
   "pygments_lexer": "ipython3",
   "version": "3.9.7"
  }
 },
 "nbformat": 4,
 "nbformat_minor": 5
}
