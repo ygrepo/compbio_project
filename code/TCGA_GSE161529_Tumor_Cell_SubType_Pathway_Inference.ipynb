{
 "cells": [
  {
   "cell_type": "code",
   "execution_count": 1,
   "id": "0b146c0f-87d1-4c2b-9fb0-b39bcc99ee4c",
   "metadata": {
    "tags": []
   },
   "outputs": [],
   "source": [
    "import scanpy as sc\n",
    "import pandas as pd\n",
    "import decoupler as dc\n",
    "from anndata import AnnData\n",
    "\n",
    "# Only needed for visualization:\n",
    "import matplotlib.pyplot as plt\n",
    "import seaborn as sns\n",
    "\n",
    "import hdf5plugin"
   ]
  },
  {
   "cell_type": "code",
   "execution_count": 2,
   "id": "2a0c68c9-869e-4c39-aa89-da6289c5fee4",
   "metadata": {
    "tags": []
   },
   "outputs": [],
   "source": [
    "path = \"../data/brca/tcga/processed/GSE161529/genes_prop_subtypes_cells_tumor.csv\"\n",
    "adata = pd.read_csv(path, sep=\",\").T"
   ]
  },
  {
   "cell_type": "code",
   "execution_count": 3,
   "id": "5dede6ed-f4e0-433c-be7a-7112615ad7db",
   "metadata": {
    "tags": []
   },
   "outputs": [
    {
     "data": {
      "text/html": [
       "<div>\n",
       "<style scoped>\n",
       "    .dataframe tbody tr th:only-of-type {\n",
       "        vertical-align: middle;\n",
       "    }\n",
       "\n",
       "    .dataframe tbody tr th {\n",
       "        vertical-align: top;\n",
       "    }\n",
       "\n",
       "    .dataframe thead th {\n",
       "        text-align: right;\n",
       "    }\n",
       "</style>\n",
       "<table border=\"1\" class=\"dataframe\">\n",
       "  <thead>\n",
       "    <tr style=\"text-align: right;\">\n",
       "      <th></th>\n",
       "      <th>TSPAN6</th>\n",
       "      <th>TNMD</th>\n",
       "      <th>DPM1</th>\n",
       "      <th>SCYL3</th>\n",
       "      <th>C1orf112</th>\n",
       "      <th>FGR</th>\n",
       "      <th>CFH</th>\n",
       "      <th>FUCA2</th>\n",
       "      <th>GCLC</th>\n",
       "      <th>NFYA</th>\n",
       "      <th>...</th>\n",
       "      <th>RP11-744A16.4</th>\n",
       "      <th>PAUPAR</th>\n",
       "      <th>RP11-65B7.2</th>\n",
       "      <th>GIMAP1-GIMAP5</th>\n",
       "      <th>RP11-274B21.13</th>\n",
       "      <th>AF127936.7</th>\n",
       "      <th>CH17-132F21.5</th>\n",
       "      <th>RP11-439M15.1</th>\n",
       "      <th>LINC01144</th>\n",
       "      <th>RP11-418H16.1</th>\n",
       "    </tr>\n",
       "  </thead>\n",
       "  <tbody>\n",
       "    <tr>\n",
       "      <th>I3 T cell</th>\n",
       "      <td>2.721351e+06</td>\n",
       "      <td>62027.733270</td>\n",
       "      <td>2.208815e+06</td>\n",
       "      <td>1.517923e+06</td>\n",
       "      <td>699867.664898</td>\n",
       "      <td>518144.315690</td>\n",
       "      <td>2.792015e+06</td>\n",
       "      <td>2.416197e+06</td>\n",
       "      <td>2.066235e+06</td>\n",
       "      <td>3.041596e+06</td>\n",
       "      <td>...</td>\n",
       "      <td>49.768821</td>\n",
       "      <td>2540.238184</td>\n",
       "      <td>1080.659600</td>\n",
       "      <td>0.0</td>\n",
       "      <td>207.436336</td>\n",
       "      <td>13223.617198</td>\n",
       "      <td>411.230758</td>\n",
       "      <td>697.402739</td>\n",
       "      <td>85004.934478</td>\n",
       "      <td>4541.753771</td>\n",
       "    </tr>\n",
       "    <tr>\n",
       "      <th>I1 Myeloid cell</th>\n",
       "      <td>5.504234e+05</td>\n",
       "      <td>10637.890060</td>\n",
       "      <td>4.694175e+05</td>\n",
       "      <td>3.205186e+05</td>\n",
       "      <td>147388.682519</td>\n",
       "      <td>107464.819565</td>\n",
       "      <td>6.066023e+05</td>\n",
       "      <td>5.047937e+05</td>\n",
       "      <td>4.362047e+05</td>\n",
       "      <td>6.354478e+05</td>\n",
       "      <td>...</td>\n",
       "      <td>11.177405</td>\n",
       "      <td>555.579973</td>\n",
       "      <td>228.518247</td>\n",
       "      <td>0.0</td>\n",
       "      <td>35.358202</td>\n",
       "      <td>2755.960005</td>\n",
       "      <td>85.060081</td>\n",
       "      <td>147.066368</td>\n",
       "      <td>17126.533948</td>\n",
       "      <td>926.122951</td>\n",
       "    </tr>\n",
       "    <tr>\n",
       "      <th>I5 Plasma cell</th>\n",
       "      <td>1.175748e+05</td>\n",
       "      <td>1948.376671</td>\n",
       "      <td>7.461686e+04</td>\n",
       "      <td>4.434732e+04</td>\n",
       "      <td>23860.652583</td>\n",
       "      <td>14943.864745</td>\n",
       "      <td>6.218674e+04</td>\n",
       "      <td>9.186923e+04</td>\n",
       "      <td>5.939042e+04</td>\n",
       "      <td>1.041412e+05</td>\n",
       "      <td>...</td>\n",
       "      <td>1.053774</td>\n",
       "      <td>104.181842</td>\n",
       "      <td>27.822154</td>\n",
       "      <td>0.0</td>\n",
       "      <td>5.205462</td>\n",
       "      <td>266.422797</td>\n",
       "      <td>14.709161</td>\n",
       "      <td>17.530893</td>\n",
       "      <td>3577.531574</td>\n",
       "      <td>191.123278</td>\n",
       "    </tr>\n",
       "  </tbody>\n",
       "</table>\n",
       "<p>3 rows × 54645 columns</p>\n",
       "</div>"
      ],
      "text/plain": [
       "                       TSPAN6          TNMD          DPM1         SCYL3  \\\n",
       "I3 T cell        2.721351e+06  62027.733270  2.208815e+06  1.517923e+06   \n",
       "I1 Myeloid cell  5.504234e+05  10637.890060  4.694175e+05  3.205186e+05   \n",
       "I5 Plasma cell   1.175748e+05   1948.376671  7.461686e+04  4.434732e+04   \n",
       "\n",
       "                      C1orf112            FGR           CFH         FUCA2  \\\n",
       "I3 T cell        699867.664898  518144.315690  2.792015e+06  2.416197e+06   \n",
       "I1 Myeloid cell  147388.682519  107464.819565  6.066023e+05  5.047937e+05   \n",
       "I5 Plasma cell    23860.652583   14943.864745  6.218674e+04  9.186923e+04   \n",
       "\n",
       "                         GCLC          NFYA  ...  RP11-744A16.4       PAUPAR  \\\n",
       "I3 T cell        2.066235e+06  3.041596e+06  ...      49.768821  2540.238184   \n",
       "I1 Myeloid cell  4.362047e+05  6.354478e+05  ...      11.177405   555.579973   \n",
       "I5 Plasma cell   5.939042e+04  1.041412e+05  ...       1.053774   104.181842   \n",
       "\n",
       "                 RP11-65B7.2  GIMAP1-GIMAP5  RP11-274B21.13    AF127936.7  \\\n",
       "I3 T cell        1080.659600            0.0      207.436336  13223.617198   \n",
       "I1 Myeloid cell   228.518247            0.0       35.358202   2755.960005   \n",
       "I5 Plasma cell     27.822154            0.0        5.205462    266.422797   \n",
       "\n",
       "                 CH17-132F21.5  RP11-439M15.1     LINC01144  RP11-418H16.1  \n",
       "I3 T cell           411.230758     697.402739  85004.934478    4541.753771  \n",
       "I1 Myeloid cell      85.060081     147.066368  17126.533948     926.122951  \n",
       "I5 Plasma cell       14.709161      17.530893   3577.531574     191.123278  \n",
       "\n",
       "[3 rows x 54645 columns]"
      ]
     },
     "execution_count": 3,
     "metadata": {},
     "output_type": "execute_result"
    }
   ],
   "source": [
    "adata.head(5)"
   ]
  },
  {
   "cell_type": "code",
   "execution_count": 4,
   "id": "c3519e5b-f109-43a2-acfc-d344d23c0515",
   "metadata": {
    "tags": []
   },
   "outputs": [
    {
     "data": {
      "text/plain": [
       "AnnData object with n_obs × n_vars = 3 × 54645"
      ]
     },
     "execution_count": 4,
     "metadata": {},
     "output_type": "execute_result"
    }
   ],
   "source": [
    "# Transform to AnnData object\n",
    "adata = AnnData(adata, dtype=np.float32)\n",
    "adata.var_names_make_unique()\n",
    "adata"
   ]
  },
  {
   "cell_type": "code",
   "execution_count": 5,
   "id": "931c7edc-9035-4698-9920-75b0edf43106",
   "metadata": {
    "tags": []
   },
   "outputs": [
    {
     "data": {
      "image/png": "[encoded data removed]",
      "text/plain": [
       "<Figure size 500x400 with 2 Axes>"
      ]
     },
     "metadata": {},
     "output_type": "display_data"
    }
   ],
   "source": [
    "dc.plot_filter_by_expr(adata, group=None, min_count=10, min_total_count=15, large_n=1, min_prop=1)\n"
   ]
  },
  {
   "cell_type": "code",
   "execution_count": 6,
   "id": "a5a7d587-ec4d-4535-861a-74b1c725d126",
   "metadata": {
    "tags": []
   },
   "outputs": [
    {
     "data": {
      "text/plain": [
       "AnnData object with n_obs × n_vars = 3 × 46315"
      ]
     },
     "execution_count": 6,
     "metadata": {},
     "output_type": "execute_result"
    }
   ],
   "source": [
    "# Obtain genes that pass the thresholds\n",
    "genes = dc.filter_by_expr(adata, group=None, min_count=10, min_total_count=15, large_n=1, min_prop=1)\n",
    "\n",
    "# Filter by these genes\n",
    "adata = adata[:, genes].copy()\n",
    "adata"
   ]
  },
  {
   "cell_type": "code",
   "execution_count": 7,
   "id": "bda24a37-f1d1-49cf-92d0-bf1eaa439683",
   "metadata": {
    "tags": []
   },
   "outputs": [
    {
     "data": {
      "text/html": [
       "<div>\n",
       "<style scoped>\n",
       "    .dataframe tbody tr th:only-of-type {\n",
       "        vertical-align: middle;\n",
       "    }\n",
       "\n",
       "    .dataframe tbody tr th {\n",
       "        vertical-align: top;\n",
       "    }\n",
       "\n",
       "    .dataframe thead th {\n",
       "        text-align: right;\n",
       "    }\n",
       "</style>\n",
       "<table border=\"1\" class=\"dataframe\">\n",
       "  <thead>\n",
       "    <tr style=\"text-align: right;\">\n",
       "      <th></th>\n",
       "      <th>source</th>\n",
       "      <th>target</th>\n",
       "      <th>weight</th>\n",
       "      <th>p_value</th>\n",
       "    </tr>\n",
       "  </thead>\n",
       "  <tbody>\n",
       "    <tr>\n",
       "      <th>0</th>\n",
       "      <td>Androgen</td>\n",
       "      <td>TMPRSS2</td>\n",
       "      <td>11.490631</td>\n",
       "      <td>0.000000e+00</td>\n",
       "    </tr>\n",
       "    <tr>\n",
       "      <th>1</th>\n",
       "      <td>Androgen</td>\n",
       "      <td>NKX3-1</td>\n",
       "      <td>10.622551</td>\n",
       "      <td>2.242078e-44</td>\n",
       "    </tr>\n",
       "    <tr>\n",
       "      <th>2</th>\n",
       "      <td>Androgen</td>\n",
       "      <td>MBOAT2</td>\n",
       "      <td>10.472733</td>\n",
       "      <td>4.624285e-44</td>\n",
       "    </tr>\n",
       "    <tr>\n",
       "      <th>3</th>\n",
       "      <td>Androgen</td>\n",
       "      <td>KLK2</td>\n",
       "      <td>10.176186</td>\n",
       "      <td>1.944414e-40</td>\n",
       "    </tr>\n",
       "    <tr>\n",
       "      <th>4</th>\n",
       "      <td>Androgen</td>\n",
       "      <td>SARG</td>\n",
       "      <td>11.386852</td>\n",
       "      <td>2.790209e-40</td>\n",
       "    </tr>\n",
       "    <tr>\n",
       "      <th>...</th>\n",
       "      <td>...</td>\n",
       "      <td>...</td>\n",
       "      <td>...</td>\n",
       "      <td>...</td>\n",
       "    </tr>\n",
       "    <tr>\n",
       "      <th>4195</th>\n",
       "      <td>p53</td>\n",
       "      <td>F5</td>\n",
       "      <td>2.397854</td>\n",
       "      <td>5.746843e-08</td>\n",
       "    </tr>\n",
       "    <tr>\n",
       "      <th>4196</th>\n",
       "      <td>p53</td>\n",
       "      <td>MKI67</td>\n",
       "      <td>-5.680340</td>\n",
       "      <td>5.758565e-08</td>\n",
       "    </tr>\n",
       "    <tr>\n",
       "      <th>4197</th>\n",
       "      <td>p53</td>\n",
       "      <td>THOC2</td>\n",
       "      <td>-2.108178</td>\n",
       "      <td>5.858359e-08</td>\n",
       "    </tr>\n",
       "    <tr>\n",
       "      <th>4198</th>\n",
       "      <td>p53</td>\n",
       "      <td>POLA1</td>\n",
       "      <td>-4.943873</td>\n",
       "      <td>5.911873e-08</td>\n",
       "    </tr>\n",
       "    <tr>\n",
       "      <th>4199</th>\n",
       "      <td>p53</td>\n",
       "      <td>TMEM52</td>\n",
       "      <td>2.596648</td>\n",
       "      <td>6.576950e-08</td>\n",
       "    </tr>\n",
       "  </tbody>\n",
       "</table>\n",
       "<p>4200 rows × 4 columns</p>\n",
       "</div>"
      ],
      "text/plain": [
       "        source   target     weight       p_value\n",
       "0     Androgen  TMPRSS2  11.490631  0.000000e+00\n",
       "1     Androgen   NKX3-1  10.622551  2.242078e-44\n",
       "2     Androgen   MBOAT2  10.472733  4.624285e-44\n",
       "3     Androgen     KLK2  10.176186  1.944414e-40\n",
       "4     Androgen     SARG  11.386852  2.790209e-40\n",
       "...        ...      ...        ...           ...\n",
       "4195       p53       F5   2.397854  5.746843e-08\n",
       "4196       p53    MKI67  -5.680340  5.758565e-08\n",
       "4197       p53    THOC2  -2.108178  5.858359e-08\n",
       "4198       p53    POLA1  -4.943873  5.911873e-08\n",
       "4199       p53   TMEM52   2.596648  6.576950e-08\n",
       "\n",
       "[4200 rows x 4 columns]"
      ]
     },
     "execution_count": 7,
     "metadata": {},
     "output_type": "execute_result"
    }
   ],
   "source": [
    "model = dc.get_progeny(organism='human', top=300)\n",
    "model"
   ]
  },
  {
   "cell_type": "code",
   "execution_count": 8,
   "id": "0cc94035-af96-408d-815d-22148aafebbf",
   "metadata": {
    "tags": []
   },
   "outputs": [
    {
     "data": {
      "text/plain": [
       "array(['Androgen', 'EGFR', 'Estrogen', 'Hypoxia', 'JAK-STAT', 'MAPK',\n",
       "       'NFkB', 'PI3K', 'TGFb', 'TNFa', 'Trail', 'VEGF', 'WNT', 'p53'],\n",
       "      dtype=object)"
      ]
     },
     "execution_count": 8,
     "metadata": {},
     "output_type": "execute_result"
    }
   ],
   "source": [
    "pd.unique(model.source)"
   ]
  },
  {
   "cell_type": "code",
   "execution_count": 9,
   "id": "494a9040-2264-4ea8-9eb0-f45980f0dfc0",
   "metadata": {
    "tags": []
   },
   "outputs": [
    {
     "data": {
      "text/plain": [
       "array([[2.7213510e+06, 6.2027734e+04, 2.2088148e+06, ..., 6.9740271e+02,\n",
       "        8.5004938e+04, 4.5417539e+03],\n",
       "       [5.5042338e+05, 1.0637890e+04, 4.6941750e+05, ..., 1.4706636e+02,\n",
       "        1.7126533e+04, 9.2612292e+02],\n",
       "       [1.1757476e+05, 1.9483767e+03, 7.4616859e+04, ..., 1.7530893e+01,\n",
       "        3.5775315e+03, 1.9112328e+02]], dtype=float32)"
      ]
     },
     "execution_count": 9,
     "metadata": {},
     "output_type": "execute_result"
    }
   ],
   "source": [
    "adata.X"
   ]
  },
  {
   "cell_type": "code",
   "execution_count": 10,
   "id": "36441391-4827-4ede-85e7-6b73bd0e28c7",
   "metadata": {
    "tags": []
   },
   "outputs": [
    {
     "name": "stdout",
     "output_type": "stream",
     "text": [
      "Running consensus.\n",
      "Running mlm on mat with 3 samples and 46315 targets for 14 sources.\n"
     ]
    },
    {
     "name": "stderr",
     "output_type": "stream",
     "text": [
      "100%|████████████████████████████████████████████████████████████████████████████████████████████████████████████████████████████████████████████████████████████████████████████████████████████████████████| 1/1 [00:00<00:00, 87.81it/s]\n"
     ]
    },
    {
     "name": "stdout",
     "output_type": "stream",
     "text": [
      "Running ulm on mat with 3 samples and 46315 targets for 14 sources.\n",
      "Running wsum on mat with 3 samples and 46315 targets for 14 sources.\n",
      "Infering activities on 1 batches.\n"
     ]
    },
    {
     "name": "stderr",
     "output_type": "stream",
     "text": [
      "100%|████████████████████████████████████████████████████████████████████████████████████████████████████████████████████████████████████████████████████████████████████████████████████████████████████████| 1/1 [00:01<00:00,  1.42s/it]\n"
     ]
    }
   ],
   "source": [
    "# Infer pathway activities with consensus\n",
    "dc.run_consensus(mat=adata, \n",
    "                 net=model,\n",
    "                 use_raw=False, \n",
    "                 verbose=True)"
   ]
  },
  {
   "cell_type": "code",
   "execution_count": 11,
   "id": "40c710fe-8e03-4739-a471-9d66f8ea62d3",
   "metadata": {
    "tags": []
   },
   "outputs": [
    {
     "data": {
      "text/plain": [
       "AnnData object with n_obs × n_vars = 3 × 46315\n",
       "    obsm: 'consensus_estimate', 'consensus_pvals'"
      ]
     },
     "execution_count": 11,
     "metadata": {},
     "output_type": "execute_result"
    }
   ],
   "source": [
    "adata"
   ]
  },
  {
   "cell_type": "code",
   "execution_count": 12,
   "id": "936a396e-ba8d-4aa0-b592-da28cfb63bbe",
   "metadata": {
    "tags": []
   },
   "outputs": [],
   "source": [
    "# Extract from dictionary\n",
    "acts =  adata.obsm['consensus_estimate']\n",
    "pvals = adata.obsm['consensus_pvals']"
   ]
  },
  {
   "cell_type": "code",
   "execution_count": 13,
   "id": "2551c995-f4f8-4ae0-a560-a79d9ed9053b",
   "metadata": {
    "tags": []
   },
   "outputs": [
    {
     "data": {
      "image/png": "[encoded data removed]",
      "text/plain": [
       "<Figure size 1000x500 with 4 Axes>"
      ]
     },
     "metadata": {},
     "output_type": "display_data"
    }
   ],
   "source": [
    "fig, axes = plt.subplots(1,2, figsize=(10,5), tight_layout=True, sharey=True)\n",
    "\n",
    "axes[0].set_title('Pathway Activity')\n",
    "g = sns.heatmap(acts, cmap='coolwarm', vmin=-1, vmax=1, ax=axes[0])\n",
    "g.set_xticklabels(g.get_xticklabels(), rotation = 90, fontsize = 10)\n",
    "g.set_yticklabels(g.get_yticklabels(), rotation = 0, fontsize = 10)\n",
    "axes[1].set_title('p-values')\n",
    "sns.heatmap(pvals, cmap='viridis_r', ax=axes[1], vmax=1)\n",
    "path = \"../figures/GSE161529/Immune_subtype_cell_cancer_pathways.png\"\n",
    "fig.suptitle(\"Pathway Activity in TCGA Breast Cancer\")\n",
    "plt.savefig(path,format='png')\n",
    "plt.show()\n",
    "plt.close()"
   ]
  },
  {
   "cell_type": "code",
   "execution_count": 14,
   "id": "66898529-cda1-496a-9f30-c9895c361a67",
   "metadata": {},
   "outputs": [
    {
     "data": {
      "text/html": [
       "<div>\n",
       "<style scoped>\n",
       "    .dataframe tbody tr th:only-of-type {\n",
       "        vertical-align: middle;\n",
       "    }\n",
       "\n",
       "    .dataframe tbody tr th {\n",
       "        vertical-align: top;\n",
       "    }\n",
       "\n",
       "    .dataframe thead th {\n",
       "        text-align: right;\n",
       "    }\n",
       "</style>\n",
       "<table border=\"1\" class=\"dataframe\">\n",
       "  <thead>\n",
       "    <tr style=\"text-align: right;\">\n",
       "      <th></th>\n",
       "      <th>Androgen</th>\n",
       "      <th>EGFR</th>\n",
       "      <th>Estrogen</th>\n",
       "      <th>Hypoxia</th>\n",
       "      <th>JAK-STAT</th>\n",
       "      <th>MAPK</th>\n",
       "      <th>NFkB</th>\n",
       "      <th>PI3K</th>\n",
       "      <th>TGFb</th>\n",
       "      <th>TNFa</th>\n",
       "      <th>Trail</th>\n",
       "      <th>VEGF</th>\n",
       "      <th>WNT</th>\n",
       "      <th>p53</th>\n",
       "    </tr>\n",
       "  </thead>\n",
       "  <tbody>\n",
       "  </tbody>\n",
       "</table>\n",
       "</div>"
      ],
      "text/plain": [
       "Empty DataFrame\n",
       "Columns: [Androgen, EGFR, Estrogen, Hypoxia, JAK-STAT, MAPK, NFkB, PI3K, TGFb, TNFa, Trail, VEGF, WNT, p53]\n",
       "Index: []"
      ]
     },
     "execution_count": 14,
     "metadata": {},
     "output_type": "execute_result"
    }
   ],
   "source": [
    "df = pvals[(pvals < 0.05)].copy()\n",
    "df = df.dropna()\n",
    "df.head()"
   ]
  }
 ],
 "metadata": {
  "kernelspec": {
   "display_name": "compbio",
   "language": "python",
   "name": "compbio"
  },
  "language_info": {
   "codemirror_mode": {
    "name": "ipython",
    "version": 3
   },
   "file_extension": ".py",
   "mimetype": "text/x-python",
   "name": "python",
   "nbconvert_exporter": "python",
   "pygments_lexer": "ipython3",
   "version": "3.9.7"
  }
 },
 "nbformat": 4,
 "nbformat_minor": 5
}
