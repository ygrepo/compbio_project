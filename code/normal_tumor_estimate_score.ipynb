{
 "cells": [
  {
   "cell_type": "code",
   "execution_count": 40,
   "id": "b5d323e8-0fca-4646-97a1-c407a4ee04c4",
   "metadata": {
    "tags": []
   },
   "outputs": [],
   "source": [
    "import pandas as pd\n",
    "import seaborn as sns\n",
    "import numpy as np\n",
    "from scipy.stats import ttest_ind\n",
    "import matplotlib.pyplot as plt"
   ]
  },
  {
   "cell_type": "code",
   "execution_count": 36,
   "id": "ae18b882-df54-44c3-a8a8-16bfd0a1f721",
   "metadata": {
    "tags": []
   },
   "outputs": [
    {
     "data": {
      "text/html": [
       "<div>\n",
       "<style scoped>\n",
       "    .dataframe tbody tr th:only-of-type {\n",
       "        vertical-align: middle;\n",
       "    }\n",
       "\n",
       "    .dataframe tbody tr th {\n",
       "        vertical-align: top;\n",
       "    }\n",
       "\n",
       "    .dataframe thead th {\n",
       "        text-align: right;\n",
       "    }\n",
       "</style>\n",
       "<table border=\"1\" class=\"dataframe\">\n",
       "  <thead>\n",
       "    <tr style=\"text-align: right;\">\n",
       "      <th></th>\n",
       "      <th>Stromal_score</th>\n",
       "      <th>Immune_score</th>\n",
       "      <th>ESTIMATE_score</th>\n",
       "      <th>Tumor</th>\n",
       "    </tr>\n",
       "  </thead>\n",
       "  <tbody>\n",
       "    <tr>\n",
       "      <th>A7-A0CE</th>\n",
       "      <td>-522.95</td>\n",
       "      <td>-580.55</td>\n",
       "      <td>-1103.49</td>\n",
       "      <td>0</td>\n",
       "    </tr>\n",
       "    <tr>\n",
       "      <th>A7-A0CH</th>\n",
       "      <td>239.09</td>\n",
       "      <td>-495.69</td>\n",
       "      <td>-256.59</td>\n",
       "      <td>0</td>\n",
       "    </tr>\n",
       "    <tr>\n",
       "      <th>A7-A0D9</th>\n",
       "      <td>-5.99</td>\n",
       "      <td>-907.22</td>\n",
       "      <td>-913.21</td>\n",
       "      <td>0</td>\n",
       "    </tr>\n",
       "    <tr>\n",
       "      <th>A7-A0DB</th>\n",
       "      <td>746.24</td>\n",
       "      <td>217.72</td>\n",
       "      <td>963.97</td>\n",
       "      <td>0</td>\n",
       "    </tr>\n",
       "    <tr>\n",
       "      <th>A7-A13E</th>\n",
       "      <td>-317.31</td>\n",
       "      <td>-875.75</td>\n",
       "      <td>-1193.06</td>\n",
       "      <td>0</td>\n",
       "    </tr>\n",
       "  </tbody>\n",
       "</table>\n",
       "</div>"
      ],
      "text/plain": [
       "         Stromal_score  Immune_score  ESTIMATE_score  Tumor\n",
       "A7-A0CE        -522.95       -580.55        -1103.49      0\n",
       "A7-A0CH         239.09       -495.69         -256.59      0\n",
       "A7-A0D9          -5.99       -907.22         -913.21      0\n",
       "A7-A0DB         746.24        217.72          963.97      0\n",
       "A7-A13E        -317.31       -875.75        -1193.06      0"
      ]
     },
     "execution_count": 36,
     "metadata": {},
     "output_type": "execute_result"
    }
   ],
   "source": [
    "path = \"../data/brca/tcga/processed/estimate_scores_normal_tissue.csv\"\n",
    "normal = pd.read_csv(path)\n",
    "normal[\"Tumor\"] = 0\n",
    "normal.head()"
   ]
  },
  {
   "cell_type": "code",
   "execution_count": 37,
   "id": "6d0491c4-73be-4170-9745-6ecba07f2c01",
   "metadata": {
    "tags": []
   },
   "outputs": [
    {
     "data": {
      "text/plain": [
       "Stromal_score     float64\n",
       "Immune_score      float64\n",
       "ESTIMATE_score    float64\n",
       "Tumor               int64\n",
       "dtype: object"
      ]
     },
     "execution_count": 37,
     "metadata": {},
     "output_type": "execute_result"
    }
   ],
   "source": [
    "normal.dtypes"
   ]
  },
  {
   "cell_type": "code",
   "execution_count": 38,
   "id": "905b40bb-ed62-48b1-89af-209c72854820",
   "metadata": {
    "tags": []
   },
   "outputs": [
    {
     "data": {
      "text/html": [
       "<div>\n",
       "<style scoped>\n",
       "    .dataframe tbody tr th:only-of-type {\n",
       "        vertical-align: middle;\n",
       "    }\n",
       "\n",
       "    .dataframe tbody tr th {\n",
       "        vertical-align: top;\n",
       "    }\n",
       "\n",
       "    .dataframe thead th {\n",
       "        text-align: right;\n",
       "    }\n",
       "</style>\n",
       "<table border=\"1\" class=\"dataframe\">\n",
       "  <thead>\n",
       "    <tr style=\"text-align: right;\">\n",
       "      <th></th>\n",
       "      <th>Stromal_score</th>\n",
       "      <th>Immune_score</th>\n",
       "      <th>ESTIMATE_score</th>\n",
       "      <th>Tumor</th>\n",
       "    </tr>\n",
       "    <tr>\n",
       "      <th>ID</th>\n",
       "      <th></th>\n",
       "      <th></th>\n",
       "      <th></th>\n",
       "      <th></th>\n",
       "    </tr>\n",
       "  </thead>\n",
       "  <tbody>\n",
       "    <tr>\n",
       "      <th>3C-AAAU</th>\n",
       "      <td>-711.41</td>\n",
       "      <td>-906.98</td>\n",
       "      <td>-1618.39</td>\n",
       "      <td>1</td>\n",
       "    </tr>\n",
       "    <tr>\n",
       "      <th>3C-AALI</th>\n",
       "      <td>122.66</td>\n",
       "      <td>511.24</td>\n",
       "      <td>633.91</td>\n",
       "      <td>1</td>\n",
       "    </tr>\n",
       "    <tr>\n",
       "      <th>3C-AALJ</th>\n",
       "      <td>400.91</td>\n",
       "      <td>539.25</td>\n",
       "      <td>940.16</td>\n",
       "      <td>1</td>\n",
       "    </tr>\n",
       "    <tr>\n",
       "      <th>3C-AALK</th>\n",
       "      <td>799.11</td>\n",
       "      <td>-3.53</td>\n",
       "      <td>795.58</td>\n",
       "      <td>1</td>\n",
       "    </tr>\n",
       "    <tr>\n",
       "      <th>4H-AAAK</th>\n",
       "      <td>1075.36</td>\n",
       "      <td>-46.96</td>\n",
       "      <td>1028.40</td>\n",
       "      <td>1</td>\n",
       "    </tr>\n",
       "  </tbody>\n",
       "</table>\n",
       "</div>"
      ],
      "text/plain": [
       "         Stromal_score  Immune_score  ESTIMATE_score  Tumor\n",
       "ID                                                         \n",
       "3C-AAAU        -711.41       -906.98        -1618.39      1\n",
       "3C-AALI         122.66        511.24          633.91      1\n",
       "3C-AALJ         400.91        539.25          940.16      1\n",
       "3C-AALK         799.11         -3.53          795.58      1\n",
       "4H-AAAK        1075.36        -46.96         1028.40      1"
      ]
     },
     "execution_count": 38,
     "metadata": {},
     "output_type": "execute_result"
    }
   ],
   "source": [
    "path = \"../data/brca/tcga/processed/GSE176078/ct_minor/prop_estimate_scores_primary_tumor_unstranded_subset_CID3586.csv\"\n",
    "tumor = pd.read_csv(path,sep=',')\n",
    "tumor = tumor[[\"ID\",\"Stromal_score\",\"Immune_score\",\"ESTIMATE_score\"]]\n",
    "tumor.set_index(\"ID\", inplace=True)\n",
    "tumor[\"Tumor\"] = 1\n",
    "tumor.head()"
   ]
  },
  {
   "cell_type": "code",
   "execution_count": 39,
   "id": "f72a4cdc-2c97-4efb-b49a-da2b65508776",
   "metadata": {
    "tags": []
   },
   "outputs": [
    {
     "data": {
      "text/plain": [
       "Stromal_score     float64\n",
       "Immune_score      float64\n",
       "ESTIMATE_score    float64\n",
       "Tumor               int64\n",
       "dtype: object"
      ]
     },
     "execution_count": 39,
     "metadata": {},
     "output_type": "execute_result"
    }
   ],
   "source": [
    "tumor.dtypes"
   ]
  },
  {
   "cell_type": "code",
   "execution_count": 47,
   "id": "70fbbff8-f677-4052-8e81-cd306ee7075b",
   "metadata": {
    "tags": []
   },
   "outputs": [
    {
     "data": {
      "text/html": [
       "<div>\n",
       "<style scoped>\n",
       "    .dataframe tbody tr th:only-of-type {\n",
       "        vertical-align: middle;\n",
       "    }\n",
       "\n",
       "    .dataframe tbody tr th {\n",
       "        vertical-align: top;\n",
       "    }\n",
       "\n",
       "    .dataframe thead th {\n",
       "        text-align: right;\n",
       "    }\n",
       "</style>\n",
       "<table border=\"1\" class=\"dataframe\">\n",
       "  <thead>\n",
       "    <tr style=\"text-align: right;\">\n",
       "      <th></th>\n",
       "      <th>Immune_score</th>\n",
       "      <th>Tumor</th>\n",
       "    </tr>\n",
       "  </thead>\n",
       "  <tbody>\n",
       "    <tr>\n",
       "      <th>A7-A0CE</th>\n",
       "      <td>-580.55</td>\n",
       "      <td>0</td>\n",
       "    </tr>\n",
       "    <tr>\n",
       "      <th>A7-A0CH</th>\n",
       "      <td>-495.69</td>\n",
       "      <td>0</td>\n",
       "    </tr>\n",
       "    <tr>\n",
       "      <th>A7-A0D9</th>\n",
       "      <td>-907.22</td>\n",
       "      <td>0</td>\n",
       "    </tr>\n",
       "    <tr>\n",
       "      <th>A7-A0DB</th>\n",
       "      <td>217.72</td>\n",
       "      <td>0</td>\n",
       "    </tr>\n",
       "    <tr>\n",
       "      <th>A7-A13E</th>\n",
       "      <td>-875.75</td>\n",
       "      <td>0</td>\n",
       "    </tr>\n",
       "  </tbody>\n",
       "</table>\n",
       "</div>"
      ],
      "text/plain": [
       "         Immune_score  Tumor\n",
       "A7-A0CE       -580.55      0\n",
       "A7-A0CH       -495.69      0\n",
       "A7-A0D9       -907.22      0\n",
       "A7-A0DB        217.72      0\n",
       "A7-A13E       -875.75      0"
      ]
     },
     "execution_count": 47,
     "metadata": {},
     "output_type": "execute_result"
    }
   ],
   "source": [
    "df = pd.concat([normal, tumor])[[\"Immune_score\",\"Tumor\"]]\n",
    "df.head()"
   ]
  },
  {
   "cell_type": "code",
   "execution_count": 75,
   "id": "ef721cc7-6cdc-40ee-a775-89a28658aa0a",
   "metadata": {
    "tags": []
   },
   "outputs": [
    {
     "data": {
      "image/png": "[encoded data removed]",
      "text/plain": [
       "<Figure size 640x480 with 1 Axes>"
      ]
     },
     "metadata": {},
     "output_type": "display_data"
    }
   ],
   "source": [
    "# plot the distribution of ESTIMATE_score from both dataframes\n",
    "sns.histplot(data=tumor, x='Immune_score', color='red', label=\"Tumor\")\n",
    "sns.histplot(data=normal, x='Immune_score', color='blue', label=\"Normal\")\n",
    "\n",
    "# add labels and title to the plot\n",
    "plt.xlabel('Immune Score')\n",
    "plt.ylabel('Frequency')\n",
    "plt.title('Distribution of Immune Score')\n",
    "plt.show()"
   ]
  },
  {
   "cell_type": "code",
   "execution_count": 76,
   "id": "e2dd6a8f-6de8-4b1a-bca3-b0b7a7e719da",
   "metadata": {
    "tags": []
   },
   "outputs": [],
   "source": [
    "# perform Mann-Whitney U test\n",
    "stat, pval = stats.mannwhitneyu(normal['Immune_score'], tumor['Immune_score'])"
   ]
  },
  {
   "cell_type": "code",
   "execution_count": 77,
   "id": "09884bb4-f8f3-4685-a6d4-94b06737bff7",
   "metadata": {
    "tags": []
   },
   "outputs": [
    {
     "data": {
      "text/plain": [
       "array([-2000, -1500, -1000,  -500,     0,   500,  1000,  1500,  2000,\n",
       "        2500,  3000,  3500])"
      ]
     },
     "execution_count": 77,
     "metadata": {},
     "output_type": "execute_result"
    }
   ],
   "source": [
    "np.arange(-2000,4000,500)"
   ]
  },
  {
   "cell_type": "code",
   "execution_count": 78,
   "id": "cd950ecb-5b5d-49a8-8679-c7dc05f95d2d",
   "metadata": {
    "tags": []
   },
   "outputs": [
    {
     "data": {
      "image/png": "[encoded data removed]",
      "text/plain": [
       "<Figure size 500x400 with 1 Axes>"
      ]
     },
     "metadata": {},
     "output_type": "display_data"
    }
   ],
   "source": [
    " _, ax = plt.subplots(1, 1, figsize=(5, 4))\n",
    "ax = sns.boxplot(data=df, \n",
    "                 x=\"Tumor\",y=\"Immune_score\",\n",
    "                 palette=\"Set3\",\n",
    "                ax=ax)\n",
    "\n",
    "ax.set_xticklabels([\"Normal\",\"Tumor\"], fontsize=10)\n",
    "ax.set_ylabel(\"Immune Score\", fontsize=10)\n",
    "ax.set_xlabel(\"\")\n",
    "ax.set_yticks(np.arange(-2000,4000,500))\n",
    "title = f\"Immune Score Distribution Normal vs. Tumor (p-val={round(pval,3)})\"\n",
    "ax.set_title(title, fontsize=8)\n",
    "sns.despine(right=True)\n",
    "#ax.set_ylim(y_lim)\n",
    "plt.grid(False)\n",
    "plt.tight_layout()\n",
    "path = \"../figures/TCGA/normal_tumor_immune_score.png\"\n",
    "plt.savefig(path, dpi=150, facecolor=\"w\", bbox_inches=\"tight\")\n",
    "plt.show()\n",
    "plt.close()"
   ]
  },
  {
   "cell_type": "code",
   "execution_count": 79,
   "id": "20d670eb-6848-4ac4-8b07-ad3d531d2dd4",
   "metadata": {
    "tags": []
   },
   "outputs": [
    {
     "name": "stdout",
     "output_type": "stream",
     "text": [
      "T-test statistic: -0.58486087952788\n",
      "p-value: 0.5587528865817804\n"
     ]
    }
   ],
   "source": [
    "# calculate the t-test statistic and p-value\n",
    "stat, pval = ttest_ind(normal['Immune_score'], tumor['Immune_score'])\n",
    "\n",
    "# print the test statistic and p-value\n",
    "print('T-test statistic:', stat)\n",
    "print('p-value:', pval)\n"
   ]
  },
  {
   "cell_type": "code",
   "execution_count": 80,
   "id": "b4621efd-88d0-4e03-868a-b6bf34e2e06c",
   "metadata": {
    "tags": []
   },
   "outputs": [
    {
     "name": "stdout",
     "output_type": "stream",
     "text": [
      "Mann-Whitney U test:\n",
      "Test statistic: 56584.0\n",
      "p-value: 0.5559707044708488\n"
     ]
    }
   ],
   "source": [
    "# perform Mann-Whitney U test\n",
    "stat, pval = stats.mannwhitneyu(normal['Immune_score'], tumor['Immune_score'])\n",
    "\n",
    "print('Mann-Whitney U test:')\n",
    "print('Test statistic:', stat)\n",
    "print('p-value:', pval)\n",
    "\n",
    "# perform Spearman correlation test\n",
    "# corr, pval = stats.spearmanr(normal['Immune_score'], tumor['Immune_score'], nan_policy=\"omit\")\n",
    "\n",
    "# print('Spearman correlation test:')\n",
    "# print('Correlation coefficient:', corr)\n",
    "# print('p-value:', pval)"
   ]
  },
  {
   "cell_type": "code",
   "execution_count": 74,
   "id": "5064df2b-fade-414a-95be-0abfa77c9feb",
   "metadata": {
    "tags": []
   },
   "outputs": [
    {
     "name": "stdout",
     "output_type": "stream",
     "text": [
      "Normality test for group 1:\n",
      "Test statistic: 0.9456164240837097\n",
      "p-value: 0.0002255601721117273\n",
      "Normality test for group 2:\n",
      "Test statistic: 0.9661205410957336\n",
      "p-value: 3.974374303240217e-15\n",
      "Equality of variance test:\n",
      "Test statistic: 0.5853735291087285\n",
      "p-value: 0.44436647329819856\n"
     ]
    }
   ],
   "source": [
    "import scipy.stats as stats\n",
    "stat1, pval1 = stats.shapiro(normal['Immune_score'])\n",
    "stat2, pval2 = stats.shapiro(tumor['Immune_score'])\n",
    "\n",
    "print('Normality test for group 1:')\n",
    "print('Test statistic:', stat1)\n",
    "print('p-value:', pval1)\n",
    "print('Normality test for group 2:')\n",
    "print('Test statistic:', stat2)\n",
    "print('p-value:', pval2)\n",
    "\n",
    "# perform equality of variance test\n",
    "stat, pval = stats.levene(normal['Immune_score'], tumor['Immune_score'])\n",
    "\n",
    "print('Equality of variance test:')\n",
    "print('Test statistic:', stat)\n",
    "print('p-value:', pval)"
   ]
  }
 ],
 "metadata": {
  "kernelspec": {
   "display_name": "compbio",
   "language": "python",
   "name": "compbio"
  },
  "language_info": {
   "codemirror_mode": {
    "name": "ipython",
    "version": 3
   },
   "file_extension": ".py",
   "mimetype": "text/x-python",
   "name": "python",
   "nbconvert_exporter": "python",
   "pygments_lexer": "ipython3",
   "version": "3.9.7"
  }
 },
 "nbformat": 4,
 "nbformat_minor": 5
}
