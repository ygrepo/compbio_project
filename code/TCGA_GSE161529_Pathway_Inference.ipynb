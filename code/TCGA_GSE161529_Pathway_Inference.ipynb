{
 "cells": [
  {
   "cell_type": "code",
   "execution_count": 1,
   "id": "0b146c0f-87d1-4c2b-9fb0-b39bcc99ee4c",
   "metadata": {
    "tags": []
   },
   "outputs": [],
   "source": [
    "import scanpy as sc\n",
    "import pandas as pd\n",
    "import decoupler as dc\n",
    "from anndata import AnnData\n",
    "\n",
    "# Only needed for visualization:\n",
    "import matplotlib.pyplot as plt\n",
    "import seaborn as sns\n",
    "\n",
    "import hdf5plugin"
   ]
  },
  {
   "cell_type": "code",
   "execution_count": 2,
   "id": "2a0c68c9-869e-4c39-aa89-da6289c5fee4",
   "metadata": {
    "tags": []
   },
   "outputs": [],
   "source": [
    "path = \"../data/brca/tcga/processed/GSE161529/genes_prop_cells_primary_tumor_unstranded.csv\"\n",
    "adata = pd.read_csv(path, sep=\",\").T"
   ]
  },
  {
   "cell_type": "code",
   "execution_count": 3,
   "id": "5dede6ed-f4e0-433c-be7a-7112615ad7db",
   "metadata": {
    "tags": []
   },
   "outputs": [
    {
     "data": {
      "text/html": [
       "<div>\n",
       "<style scoped>\n",
       "    .dataframe tbody tr th:only-of-type {\n",
       "        vertical-align: middle;\n",
       "    }\n",
       "\n",
       "    .dataframe tbody tr th {\n",
       "        vertical-align: top;\n",
       "    }\n",
       "\n",
       "    .dataframe thead th {\n",
       "        text-align: right;\n",
       "    }\n",
       "</style>\n",
       "<table border=\"1\" class=\"dataframe\">\n",
       "  <thead>\n",
       "    <tr style=\"text-align: right;\">\n",
       "      <th></th>\n",
       "      <th>TSPAN6</th>\n",
       "      <th>TNMD</th>\n",
       "      <th>DPM1</th>\n",
       "      <th>SCYL3</th>\n",
       "      <th>C1orf112</th>\n",
       "      <th>FGR</th>\n",
       "      <th>CFH</th>\n",
       "      <th>FUCA2</th>\n",
       "      <th>GCLC</th>\n",
       "      <th>NFYA</th>\n",
       "      <th>...</th>\n",
       "      <th>RP11-744A16.4</th>\n",
       "      <th>PAUPAR</th>\n",
       "      <th>RP11-65B7.2</th>\n",
       "      <th>GIMAP1-GIMAP5</th>\n",
       "      <th>RP11-274B21.13</th>\n",
       "      <th>AF127936.7</th>\n",
       "      <th>CH17-132F21.5</th>\n",
       "      <th>RP11-439M15.1</th>\n",
       "      <th>LINC01144</th>\n",
       "      <th>RP11-418H16.1</th>\n",
       "    </tr>\n",
       "  </thead>\n",
       "  <tbody>\n",
       "    <tr>\n",
       "      <th>Vascular and lymphatic</th>\n",
       "      <td>1.807264e+06</td>\n",
       "      <td>32335.300355</td>\n",
       "      <td>1.405585e+06</td>\n",
       "      <td>942828.399239</td>\n",
       "      <td>436135.692679</td>\n",
       "      <td>330669.495701</td>\n",
       "      <td>1.729248e+06</td>\n",
       "      <td>1.583480e+06</td>\n",
       "      <td>1.283868e+06</td>\n",
       "      <td>1.922446e+06</td>\n",
       "      <td>...</td>\n",
       "      <td>30.197107</td>\n",
       "      <td>1345.968735</td>\n",
       "      <td>634.495636</td>\n",
       "      <td>0.0</td>\n",
       "      <td>62.958173</td>\n",
       "      <td>7392.121838</td>\n",
       "      <td>250.354351</td>\n",
       "      <td>424.548936</td>\n",
       "      <td>56151.805088</td>\n",
       "      <td>2968.847086</td>\n",
       "    </tr>\n",
       "    <tr>\n",
       "      <th>BA</th>\n",
       "      <td>5.117440e+04</td>\n",
       "      <td>612.734529</td>\n",
       "      <td>3.425888e+04</td>\n",
       "      <td>19065.718559</td>\n",
       "      <td>7714.168743</td>\n",
       "      <td>7169.481360</td>\n",
       "      <td>2.703340e+04</td>\n",
       "      <td>5.321177e+04</td>\n",
       "      <td>2.645582e+04</td>\n",
       "      <td>3.664995e+04</td>\n",
       "      <td>...</td>\n",
       "      <td>0.738573</td>\n",
       "      <td>37.987540</td>\n",
       "      <td>8.733992</td>\n",
       "      <td>0.0</td>\n",
       "      <td>1.748877</td>\n",
       "      <td>103.964745</td>\n",
       "      <td>5.954992</td>\n",
       "      <td>6.372075</td>\n",
       "      <td>2227.739212</td>\n",
       "      <td>176.075247</td>\n",
       "    </tr>\n",
       "    <tr>\n",
       "      <th>HS</th>\n",
       "      <td>2.720719e+02</td>\n",
       "      <td>23.406428</td>\n",
       "      <td>2.104220e+02</td>\n",
       "      <td>98.985840</td>\n",
       "      <td>24.754463</td>\n",
       "      <td>40.875534</td>\n",
       "      <td>2.342760e+02</td>\n",
       "      <td>2.988003e+02</td>\n",
       "      <td>2.601998e+02</td>\n",
       "      <td>1.646834e+02</td>\n",
       "      <td>...</td>\n",
       "      <td>0.000000</td>\n",
       "      <td>0.007093</td>\n",
       "      <td>0.037444</td>\n",
       "      <td>0.0</td>\n",
       "      <td>0.002234</td>\n",
       "      <td>0.583455</td>\n",
       "      <td>0.003964</td>\n",
       "      <td>0.008686</td>\n",
       "      <td>16.414895</td>\n",
       "      <td>4.342099</td>\n",
       "    </tr>\n",
       "    <tr>\n",
       "      <th>Fibroblast</th>\n",
       "      <td>1.661752e+05</td>\n",
       "      <td>5917.216240</td>\n",
       "      <td>1.473674e+05</td>\n",
       "      <td>100306.953407</td>\n",
       "      <td>44195.547149</td>\n",
       "      <td>47840.435308</td>\n",
       "      <td>2.244789e+05</td>\n",
       "      <td>1.647733e+05</td>\n",
       "      <td>1.343844e+05</td>\n",
       "      <td>1.933666e+05</td>\n",
       "      <td>...</td>\n",
       "      <td>4.013490</td>\n",
       "      <td>128.524385</td>\n",
       "      <td>91.759454</td>\n",
       "      <td>0.0</td>\n",
       "      <td>28.975468</td>\n",
       "      <td>1092.865933</td>\n",
       "      <td>28.254755</td>\n",
       "      <td>46.599771</td>\n",
       "      <td>5450.355350</td>\n",
       "      <td>321.041265</td>\n",
       "    </tr>\n",
       "    <tr>\n",
       "      <th>AV</th>\n",
       "      <td>1.021649e+04</td>\n",
       "      <td>46.188854</td>\n",
       "      <td>8.065110e+03</td>\n",
       "      <td>3163.584016</td>\n",
       "      <td>1678.584446</td>\n",
       "      <td>991.359638</td>\n",
       "      <td>3.971877e+03</td>\n",
       "      <td>1.105993e+04</td>\n",
       "      <td>6.617759e+03</td>\n",
       "      <td>7.948770e+03</td>\n",
       "      <td>...</td>\n",
       "      <td>0.002065</td>\n",
       "      <td>25.775069</td>\n",
       "      <td>1.738326</td>\n",
       "      <td>0.0</td>\n",
       "      <td>0.240051</td>\n",
       "      <td>12.788177</td>\n",
       "      <td>0.075992</td>\n",
       "      <td>1.482119</td>\n",
       "      <td>401.096624</td>\n",
       "      <td>32.372152</td>\n",
       "    </tr>\n",
       "  </tbody>\n",
       "</table>\n",
       "<p>5 rows × 54645 columns</p>\n",
       "</div>"
      ],
      "text/plain": [
       "                              TSPAN6          TNMD          DPM1  \\\n",
       "Vascular and lymphatic  1.807264e+06  32335.300355  1.405585e+06   \n",
       "BA                      5.117440e+04    612.734529  3.425888e+04   \n",
       "HS                      2.720719e+02     23.406428  2.104220e+02   \n",
       "Fibroblast              1.661752e+05   5917.216240  1.473674e+05   \n",
       "AV                      1.021649e+04     46.188854  8.065110e+03   \n",
       "\n",
       "                                SCYL3       C1orf112            FGR  \\\n",
       "Vascular and lymphatic  942828.399239  436135.692679  330669.495701   \n",
       "BA                       19065.718559    7714.168743    7169.481360   \n",
       "HS                          98.985840      24.754463      40.875534   \n",
       "Fibroblast              100306.953407   44195.547149   47840.435308   \n",
       "AV                        3163.584016    1678.584446     991.359638   \n",
       "\n",
       "                                 CFH         FUCA2          GCLC  \\\n",
       "Vascular and lymphatic  1.729248e+06  1.583480e+06  1.283868e+06   \n",
       "BA                      2.703340e+04  5.321177e+04  2.645582e+04   \n",
       "HS                      2.342760e+02  2.988003e+02  2.601998e+02   \n",
       "Fibroblast              2.244789e+05  1.647733e+05  1.343844e+05   \n",
       "AV                      3.971877e+03  1.105993e+04  6.617759e+03   \n",
       "\n",
       "                                NFYA  ...  RP11-744A16.4       PAUPAR  \\\n",
       "Vascular and lymphatic  1.922446e+06  ...      30.197107  1345.968735   \n",
       "BA                      3.664995e+04  ...       0.738573    37.987540   \n",
       "HS                      1.646834e+02  ...       0.000000     0.007093   \n",
       "Fibroblast              1.933666e+05  ...       4.013490   128.524385   \n",
       "AV                      7.948770e+03  ...       0.002065    25.775069   \n",
       "\n",
       "                        RP11-65B7.2  GIMAP1-GIMAP5  RP11-274B21.13  \\\n",
       "Vascular and lymphatic   634.495636            0.0       62.958173   \n",
       "BA                         8.733992            0.0        1.748877   \n",
       "HS                         0.037444            0.0        0.002234   \n",
       "Fibroblast                91.759454            0.0       28.975468   \n",
       "AV                         1.738326            0.0        0.240051   \n",
       "\n",
       "                         AF127936.7  CH17-132F21.5  RP11-439M15.1  \\\n",
       "Vascular and lymphatic  7392.121838     250.354351     424.548936   \n",
       "BA                       103.964745       5.954992       6.372075   \n",
       "HS                         0.583455       0.003964       0.008686   \n",
       "Fibroblast              1092.865933      28.254755      46.599771   \n",
       "AV                        12.788177       0.075992       1.482119   \n",
       "\n",
       "                           LINC01144  RP11-418H16.1  \n",
       "Vascular and lymphatic  56151.805088    2968.847086  \n",
       "BA                       2227.739212     176.075247  \n",
       "HS                         16.414895       4.342099  \n",
       "Fibroblast               5450.355350     321.041265  \n",
       "AV                        401.096624      32.372152  \n",
       "\n",
       "[5 rows x 54645 columns]"
      ]
     },
     "execution_count": 3,
     "metadata": {},
     "output_type": "execute_result"
    }
   ],
   "source": [
    "adata.head(5)"
   ]
  },
  {
   "cell_type": "code",
   "execution_count": 4,
   "id": "c3519e5b-f109-43a2-acfc-d344d23c0515",
   "metadata": {
    "tags": []
   },
   "outputs": [
    {
     "data": {
      "text/plain": [
       "AnnData object with n_obs × n_vars = 6 × 54645"
      ]
     },
     "execution_count": 4,
     "metadata": {},
     "output_type": "execute_result"
    }
   ],
   "source": [
    "# Transform to AnnData object\n",
    "adata = AnnData(adata, dtype=np.float32)\n",
    "adata.var_names_make_unique()\n",
    "adata"
   ]
  },
  {
   "cell_type": "code",
   "execution_count": 5,
   "id": "931c7edc-9035-4698-9920-75b0edf43106",
   "metadata": {
    "tags": []
   },
   "outputs": [
    {
     "data": {
      "image/png": "[encoded data removed]",
      "text/plain": [
       "<Figure size 500x400 with 2 Axes>"
      ]
     },
     "metadata": {},
     "output_type": "display_data"
    }
   ],
   "source": [
    "dc.plot_filter_by_expr(adata, group=None, min_count=10, min_total_count=15, large_n=1, min_prop=1)\n"
   ]
  },
  {
   "cell_type": "code",
   "execution_count": 6,
   "id": "a5a7d587-ec4d-4535-861a-74b1c725d126",
   "metadata": {
    "tags": []
   },
   "outputs": [
    {
     "data": {
      "text/plain": [
       "AnnData object with n_obs × n_vars = 6 × 32260"
      ]
     },
     "execution_count": 6,
     "metadata": {},
     "output_type": "execute_result"
    }
   ],
   "source": [
    "# Obtain genes that pass the thresholds\n",
    "genes = dc.filter_by_expr(adata, group=None, min_count=10, min_total_count=15, large_n=1, min_prop=1)\n",
    "\n",
    "# Filter by these genes\n",
    "adata = adata[:, genes].copy()\n",
    "adata"
   ]
  },
  {
   "cell_type": "code",
   "execution_count": 7,
   "id": "bda24a37-f1d1-49cf-92d0-bf1eaa439683",
   "metadata": {
    "tags": []
   },
   "outputs": [
    {
     "data": {
      "text/html": [
       "<div>\n",
       "<style scoped>\n",
       "    .dataframe tbody tr th:only-of-type {\n",
       "        vertical-align: middle;\n",
       "    }\n",
       "\n",
       "    .dataframe tbody tr th {\n",
       "        vertical-align: top;\n",
       "    }\n",
       "\n",
       "    .dataframe thead th {\n",
       "        text-align: right;\n",
       "    }\n",
       "</style>\n",
       "<table border=\"1\" class=\"dataframe\">\n",
       "  <thead>\n",
       "    <tr style=\"text-align: right;\">\n",
       "      <th></th>\n",
       "      <th>source</th>\n",
       "      <th>target</th>\n",
       "      <th>weight</th>\n",
       "      <th>p_value</th>\n",
       "    </tr>\n",
       "  </thead>\n",
       "  <tbody>\n",
       "    <tr>\n",
       "      <th>0</th>\n",
       "      <td>Androgen</td>\n",
       "      <td>TMPRSS2</td>\n",
       "      <td>11.490631</td>\n",
       "      <td>0.000000e+00</td>\n",
       "    </tr>\n",
       "    <tr>\n",
       "      <th>1</th>\n",
       "      <td>Androgen</td>\n",
       "      <td>NKX3-1</td>\n",
       "      <td>10.622551</td>\n",
       "      <td>2.242078e-44</td>\n",
       "    </tr>\n",
       "    <tr>\n",
       "      <th>2</th>\n",
       "      <td>Androgen</td>\n",
       "      <td>MBOAT2</td>\n",
       "      <td>10.472733</td>\n",
       "      <td>4.624285e-44</td>\n",
       "    </tr>\n",
       "    <tr>\n",
       "      <th>3</th>\n",
       "      <td>Androgen</td>\n",
       "      <td>KLK2</td>\n",
       "      <td>10.176186</td>\n",
       "      <td>1.944414e-40</td>\n",
       "    </tr>\n",
       "    <tr>\n",
       "      <th>4</th>\n",
       "      <td>Androgen</td>\n",
       "      <td>SARG</td>\n",
       "      <td>11.386852</td>\n",
       "      <td>2.790209e-40</td>\n",
       "    </tr>\n",
       "    <tr>\n",
       "      <th>...</th>\n",
       "      <td>...</td>\n",
       "      <td>...</td>\n",
       "      <td>...</td>\n",
       "      <td>...</td>\n",
       "    </tr>\n",
       "    <tr>\n",
       "      <th>4195</th>\n",
       "      <td>p53</td>\n",
       "      <td>F5</td>\n",
       "      <td>2.397854</td>\n",
       "      <td>5.746843e-08</td>\n",
       "    </tr>\n",
       "    <tr>\n",
       "      <th>4196</th>\n",
       "      <td>p53</td>\n",
       "      <td>MKI67</td>\n",
       "      <td>-5.680340</td>\n",
       "      <td>5.758565e-08</td>\n",
       "    </tr>\n",
       "    <tr>\n",
       "      <th>4197</th>\n",
       "      <td>p53</td>\n",
       "      <td>THOC2</td>\n",
       "      <td>-2.108178</td>\n",
       "      <td>5.858359e-08</td>\n",
       "    </tr>\n",
       "    <tr>\n",
       "      <th>4198</th>\n",
       "      <td>p53</td>\n",
       "      <td>POLA1</td>\n",
       "      <td>-4.943873</td>\n",
       "      <td>5.911873e-08</td>\n",
       "    </tr>\n",
       "    <tr>\n",
       "      <th>4199</th>\n",
       "      <td>p53</td>\n",
       "      <td>TMEM52</td>\n",
       "      <td>2.596648</td>\n",
       "      <td>6.576950e-08</td>\n",
       "    </tr>\n",
       "  </tbody>\n",
       "</table>\n",
       "<p>4200 rows × 4 columns</p>\n",
       "</div>"
      ],
      "text/plain": [
       "        source   target     weight       p_value\n",
       "0     Androgen  TMPRSS2  11.490631  0.000000e+00\n",
       "1     Androgen   NKX3-1  10.622551  2.242078e-44\n",
       "2     Androgen   MBOAT2  10.472733  4.624285e-44\n",
       "3     Androgen     KLK2  10.176186  1.944414e-40\n",
       "4     Androgen     SARG  11.386852  2.790209e-40\n",
       "...        ...      ...        ...           ...\n",
       "4195       p53       F5   2.397854  5.746843e-08\n",
       "4196       p53    MKI67  -5.680340  5.758565e-08\n",
       "4197       p53    THOC2  -2.108178  5.858359e-08\n",
       "4198       p53    POLA1  -4.943873  5.911873e-08\n",
       "4199       p53   TMEM52   2.596648  6.576950e-08\n",
       "\n",
       "[4200 rows x 4 columns]"
      ]
     },
     "execution_count": 7,
     "metadata": {},
     "output_type": "execute_result"
    }
   ],
   "source": [
    "model = dc.get_progeny(organism='human', top=300)\n",
    "model"
   ]
  },
  {
   "cell_type": "code",
   "execution_count": 8,
   "id": "0cc94035-af96-408d-815d-22148aafebbf",
   "metadata": {
    "tags": []
   },
   "outputs": [
    {
     "data": {
      "text/plain": [
       "array(['Androgen', 'EGFR', 'Estrogen', 'Hypoxia', 'JAK-STAT', 'MAPK',\n",
       "       'NFkB', 'PI3K', 'TGFb', 'TNFa', 'Trail', 'VEGF', 'WNT', 'p53'],\n",
       "      dtype=object)"
      ]
     },
     "execution_count": 8,
     "metadata": {},
     "output_type": "execute_result"
    }
   ],
   "source": [
    "pd.unique(model.source)"
   ]
  },
  {
   "cell_type": "code",
   "execution_count": 9,
   "id": "494a9040-2264-4ea8-9eb0-f45980f0dfc0",
   "metadata": {
    "tags": []
   },
   "outputs": [
    {
     "data": {
      "text/plain": [
       "array([[1.80726400e+06, 3.23353008e+04, 1.40558475e+06, ...,\n",
       "        7.39212207e+03, 5.61518047e+04, 2.96884717e+03],\n",
       "       [5.11743945e+04, 6.12734558e+02, 3.42588750e+04, ...,\n",
       "        1.03964745e+02, 2.22773926e+03, 1.76075241e+02],\n",
       "       [2.72071869e+02, 2.34064274e+01, 2.10421967e+02, ...,\n",
       "        5.83455086e-01, 1.64148941e+01, 4.34209919e+00],\n",
       "       [1.66175156e+05, 5.91721631e+03, 1.47367391e+05, ...,\n",
       "        1.09286597e+03, 5.45035547e+03, 3.21041260e+02],\n",
       "       [1.02164863e+04, 4.61888542e+01, 8.06511035e+03, ...,\n",
       "        1.27881765e+01, 4.01096619e+02, 3.23721504e+01],\n",
       "       [1.35424700e+06, 3.56791523e+04, 1.15736238e+06, ...,\n",
       "        7.64367578e+03, 4.14615898e+04, 2.15632227e+03]], dtype=float32)"
      ]
     },
     "execution_count": 9,
     "metadata": {},
     "output_type": "execute_result"
    }
   ],
   "source": [
    "adata.X"
   ]
  },
  {
   "cell_type": "code",
   "execution_count": 10,
   "id": "36441391-4827-4ede-85e7-6b73bd0e28c7",
   "metadata": {
    "tags": []
   },
   "outputs": [
    {
     "name": "stdout",
     "output_type": "stream",
     "text": [
      "Running consensus.\n",
      "Running mlm on mat with 6 samples and 32260 targets for 14 sources.\n"
     ]
    },
    {
     "name": "stderr",
     "output_type": "stream",
     "text": [
      "100%|█████████████████████████████████████████████████████████████████████████████████████████████████████████████████████████████████████████| 1/1 [00:00<00:00, 99.54it/s]\n"
     ]
    },
    {
     "name": "stdout",
     "output_type": "stream",
     "text": [
      "Running ulm on mat with 6 samples and 32260 targets for 14 sources.\n",
      "Running wsum on mat with 6 samples and 32260 targets for 14 sources.\n",
      "Infering activities on 1 batches.\n"
     ]
    },
    {
     "name": "stderr",
     "output_type": "stream",
     "text": [
      "100%|█████████████████████████████████████████████████████████████████████████████████████████████████████████████████████████████████████████| 1/1 [00:01<00:00,  1.11s/it]\n"
     ]
    }
   ],
   "source": [
    "# Infer pathway activities with consensus\n",
    "dc.run_consensus(mat=adata, \n",
    "                 net=model,\n",
    "                 use_raw=False, \n",
    "                 verbose=True)"
   ]
  },
  {
   "cell_type": "code",
   "execution_count": 11,
   "id": "40c710fe-8e03-4739-a471-9d66f8ea62d3",
   "metadata": {
    "tags": []
   },
   "outputs": [
    {
     "data": {
      "text/plain": [
       "AnnData object with n_obs × n_vars = 6 × 32260\n",
       "    obsm: 'consensus_estimate', 'consensus_pvals'"
      ]
     },
     "execution_count": 11,
     "metadata": {},
     "output_type": "execute_result"
    }
   ],
   "source": [
    "adata"
   ]
  },
  {
   "cell_type": "code",
   "execution_count": 12,
   "id": "936a396e-ba8d-4aa0-b592-da28cfb63bbe",
   "metadata": {
    "tags": []
   },
   "outputs": [],
   "source": [
    "# Extract from dictionary\n",
    "acts =  adata.obsm['consensus_estimate']\n",
    "pvals = adata.obsm['consensus_pvals']"
   ]
  },
  {
   "cell_type": "code",
   "execution_count": 14,
   "id": "2551c995-f4f8-4ae0-a560-a79d9ed9053b",
   "metadata": {
    "tags": []
   },
   "outputs": [
    {
     "data": {
      "image/png": "[encoded data removed]",
      "text/plain": [
       "<Figure size 1000x500 with 4 Axes>"
      ]
     },
     "metadata": {},
     "output_type": "display_data"
    }
   ],
   "source": [
    "fig, axes = plt.subplots(1,2, figsize=(10,5), tight_layout=True, sharey=True)\n",
    "\n",
    "axes[0].set_title('Pathway Activity')\n",
    "sns.heatmap(acts, cmap='coolwarm', vmin=-1, vmax=1, ax=axes[0])\n",
    "axes[1].set_title('p-values')\n",
    "sns.heatmap(pvals, cmap='viridis_r', ax=axes[1], vmax=1)\n",
    "path = \"../figures/GSE161529/Single_cell_cancer_pathways.png\"\n",
    "fig.suptitle(\"Pathway Activity in TCGA Breast Cancer\")\n",
    "plt.savefig(path,format='png')\n",
    "plt.show()\n",
    "plt.close()"
   ]
  },
  {
   "cell_type": "markdown",
   "id": "6041f008-1d86-438c-8a2c-c73a1e59a291",
   "metadata": {},
   "source": [
    "Cells of the immune system, such as B, T, and NK cells, tend to exhibit higher activity in pathways that regulate immune responses, such as TGFb, but lower activity in pathways that induce apoptosis, such as Trail. Interestingly, these same cell types are also involved in the MAPK pathway, which is known to promote cell growth and proliferation."
   ]
  },
  {
   "cell_type": "code",
   "execution_count": 45,
   "id": "47a9bcfa-03a1-4f48-a3b6-a9e639527288",
   "metadata": {
    "tags": []
   },
   "outputs": [
    {
     "data": {
      "text/plain": [
       "2413         ID1\n",
       "2423         ID3\n",
       "2410        COMP\n",
       "2432      PMEPA1\n",
       "2402       SMAD7\n",
       "2457       RFLNB\n",
       "2421       FSTL3\n",
       "2573      AMIGO2\n",
       "2607    SERPINE1\n",
       "2551       CTPS1\n",
       "Name: target, dtype: object"
      ]
     },
     "execution_count": 45,
     "metadata": {},
     "output_type": "execute_result"
    }
   ],
   "source": [
    "model.query(\"source == 'TGFb'\").sort_values(by=\"weight\", ascending=False)[\"target\"].head(10)"
   ]
  },
  {
   "cell_type": "markdown",
   "id": "cc47af7e-a912-47aa-99d2-f0c0652ef223",
   "metadata": {},
   "source": [
    "* ID1: Prognostic marker in lung cancer (unfavorable)\n",
    "* ID3: Prognostic marker in endometrial cancer (favorable)\n",
    "* COMP: Prognostic marker in renal cancer (unfavorable), colorectal cancer (unfavorable), endometrial cancer (unfavorable) and urothelial cancer (unfavorable)\n",
    "* PMEPA1: Prognostic marker in renal cancer (unfavorable), lung cancer (unfavorable), cervical cancer (unfavorable) and urothelial cancer (unfavorable) - Cancer enhanced (prostate cancer)\n",
    "* SMAD7: Prognostic marker in endometrial cancer (unfavorable)"
   ]
  },
  {
   "cell_type": "code",
   "execution_count": 46,
   "id": "58d21205-71bb-4e39-bba4-f998f0a05bf9",
   "metadata": {
    "tags": []
   },
   "outputs": [
    {
     "data": {
      "text/plain": [
       "1500     DUSP6\n",
       "1507     SPRY4\n",
       "1502     SPRY2\n",
       "1506     FOSL1\n",
       "1603      MMP1\n",
       "1756      IER3\n",
       "1625      EGR1\n",
       "1515     DUSP5\n",
       "1508     DUSP4\n",
       "1511    PHLDA1\n",
       "Name: target, dtype: object"
      ]
     },
     "execution_count": 46,
     "metadata": {},
     "output_type": "execute_result"
    }
   ],
   "source": [
    "model.query(\"source == 'MAPK'\").sort_values(by=\"weight\", ascending=False)[\"target\"].head(10)"
   ]
  },
  {
   "cell_type": "markdown",
   "id": "5c891c45-3962-49f7-8cda-b92a27e965b0",
   "metadata": {
    "tags": []
   },
   "source": [
    "* DUSP6: Prognostic marker in endometrial cancer (favorable) - \tCancer enhanced (thyroid cancer)\n",
    "* SPRY4: Prognostic marker in renal cancer (unfavorable) and cervical cancer (unfavorable)\n",
    "* SPRY2:upregulated in colorectal cancer, Lung cancer\n",
    "* FOSL1:Cancer enhanced (head and neck cancer)\n",
    "* MMP1: upregulated in Myeloma, Lung cancer, Colorectal cancer, Ovarian cancer"
   ]
  },
  {
   "cell_type": "code",
   "execution_count": null,
   "id": "66898529-cda1-496a-9f30-c9895c361a67",
   "metadata": {},
   "outputs": [],
   "source": []
  }
 ],
 "metadata": {
  "kernelspec": {
   "display_name": "compbio",
   "language": "python",
   "name": "compbio"
  },
  "language_info": {
   "codemirror_mode": {
    "name": "ipython",
    "version": 3
   },
   "file_extension": ".py",
   "mimetype": "text/x-python",
   "name": "python",
   "nbconvert_exporter": "python",
   "pygments_lexer": "ipython3",
   "version": "3.9.7"
  }
 },
 "nbformat": 4,
 "nbformat_minor": 5
}
